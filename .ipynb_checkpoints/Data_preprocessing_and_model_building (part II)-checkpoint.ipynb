{
 "cells": [
  {
   "cell_type": "markdown",
   "metadata": {},
   "source": [
    "## Setup"
   ]
  },
  {
   "cell_type": "markdown",
   "metadata": {
    "colab": {},
    "colab_type": "code",
    "id": "qwzIXITv2gRk"
   },
   "source": [
    "If you are on Colab run `%tensorflow_version 2.x` to switch to a TensorFlow 2.0 environment. Otherwise, run `pip install tensorflow` or `pip install tensorflow-gpu` (based on your environment). "
   ]
  },
  {
   "cell_type": "code",
   "execution_count": null,
   "metadata": {
    "colab": {},
    "colab_type": "code",
    "id": "sy343WkVLLwz"
   },
   "outputs": [],
   "source": [
    "# Install `wandb` to keep track of your experiments\n",
    "!pip install wandb"
   ]
  },
  {
   "cell_type": "markdown",
   "metadata": {},
   "source": [
    "## Imports & configuration"
   ]
  },
  {
   "cell_type": "code",
   "execution_count": 1,
   "metadata": {
    "colab": {},
    "colab_type": "code",
    "id": "Ygozgua-PLll"
   },
   "outputs": [
    {
     "name": "stderr",
     "output_type": "stream",
     "text": [
      "[nltk_data] Downloading package stopwords to\n",
      "[nltk_data]     /home/jupyter/nltk_data...\n",
      "[nltk_data]   Package stopwords is already up-to-date!\n"
     ]
    }
   ],
   "source": [
    "from tensorflow.keras.preprocessing.sequence import pad_sequences\n",
    "from tensorflow.keras.preprocessing.text import Tokenizer\n",
    "from tensorflow.keras.models import Sequential\n",
    "from tensorflow.keras.layers import *\n",
    "from tensorflow.keras.callbacks import *\n",
    "from sklearn.preprocessing import MultiLabelBinarizer\n",
    "from sklearn.utils import class_weight\n",
    "from wandb.keras import WandbCallback\n",
    "from ast import literal_eval\n",
    "from typing import Union\n",
    "from utils import utils\n",
    "import matplotlib.pyplot as plt\n",
    "import tensorflow as tf\n",
    "import numpy as np\n",
    "import wandb\n",
    "import time\n",
    "import re\n",
    "import io"
   ]
  },
  {
   "cell_type": "code",
   "execution_count": 2,
   "metadata": {
    "colab": {
     "base_uri": "https://localhost:8080/",
     "height": 68
    },
    "colab_type": "code",
    "id": "WybjOls3WkoO",
    "outputId": "1c9a618f-d625-4747-9a48-5df4cc3626a7"
   },
   "outputs": [],
   "source": [
    "%matplotlib inline"
   ]
  },
  {
   "cell_type": "markdown",
   "metadata": {},
   "source": [
    "We will be initializing wandb with a different project name this time. We will be setting `sync_tensorboard=True` so that it _automatically_ hosts TensorBoard on my online WandB dashboard. Isn't that cool?"
   ]
  },
  {
   "cell_type": "code",
   "execution_count": 3,
   "metadata": {
    "colab": {
     "base_uri": "https://localhost:8080/",
     "height": 34
    },
    "colab_type": "code",
    "id": "EBXnuyRxMc1U",
    "outputId": "4731cfce-8e50-444b-bb76-97827056123c"
   },
   "outputs": [
    {
     "data": {
      "text/html": [
       "\n",
       "                Logging results to <a href=\"https://wandb.com\" target=\"_blank\">Weights & Biases</a>.<br/>\n",
       "                Project page: <a href=\"https://app.wandb.ai/sayakpaul/arxiv-project-complex-models\" target=\"_blank\">https://app.wandb.ai/sayakpaul/arxiv-project-complex-models</a><br/>\n",
       "                Run page: <a href=\"https://app.wandb.ai/sayakpaul/arxiv-project-complex-models/runs/xiluk9e3\" target=\"_blank\">https://app.wandb.ai/sayakpaul/arxiv-project-complex-models/runs/xiluk9e3</a><br/>\n",
       "                Docs: <a href=\"https://docs.wandb.com/integrations/jupyter.html\" target=\"_blank\">https://docs.wandb.com/integrations/jupyter.html</a><br/>\n",
       "            "
      ],
      "text/plain": [
       "<IPython.core.display.HTML object>"
      ]
     },
     "metadata": {},
     "output_type": "display_data"
    }
   ],
   "source": [
    "wandb.init(project='arxiv-project-complex-models', sync_tensorboard=True)\n",
    "config = wandb.config"
   ]
  },
  {
   "cell_type": "markdown",
   "metadata": {},
   "source": [
    "Setting the following hyperparameters will allow `wandb` to automatically keep track of them. "
   ]
  },
  {
   "cell_type": "code",
   "execution_count": 4,
   "metadata": {},
   "outputs": [],
   "source": [
    "config.filter_length = 300\n",
    "config.max_words = 3000\n",
    "config.maxlen = 300\n",
    "config.batch_size = 32\n",
    "config.embedding_dims = 30\n",
    "config.filters = 10\n",
    "config.kernel_size = 3\n",
    "config.hidden_dims = 10\n",
    "config.epochs = 10"
   ]
  },
  {
   "cell_type": "markdown",
   "metadata": {},
   "source": [
    "## Data loading"
   ]
  },
  {
   "cell_type": "code",
   "execution_count": 5,
   "metadata": {},
   "outputs": [],
   "source": [
    "def load_data(filename:str) -> np.ndarray:\n",
    "    content = np.load(filename, allow_pickle=True)\n",
    "    return content"
   ]
  },
  {
   "cell_type": "code",
   "execution_count": 6,
   "metadata": {
    "colab": {
     "base_uri": "https://localhost:8080/",
     "height": 34
    },
    "colab_type": "code",
    "id": "1XcxUCjOPatK",
    "outputId": "bc236f13-884c-4cb2-e429-89cde8f24d5e"
   },
   "outputs": [
    {
     "data": {
      "text/plain": [
       "((26152,), (6538,))"
      ]
     },
     "execution_count": 6,
     "metadata": {},
     "output_type": "execute_result"
    }
   ],
   "source": [
    "X_train, y_train = load_data('data/X_train.npy'), load_data('data/y_train.npy')\n",
    "X_test, y_test = load_data('data/X_test.npy'), load_data('data/y_test.npy')\n",
    "\n",
    "X_train.shape, X_test.shape"
   ]
  },
  {
   "cell_type": "markdown",
   "metadata": {},
   "source": [
    "## Cleaning the paper titles"
   ]
  },
  {
   "cell_type": "code",
   "execution_count": 7,
   "metadata": {
    "colab": {},
    "colab_type": "code",
    "id": "J27Ns750WBEO"
   },
   "outputs": [],
   "source": [
    "clean_title = np.vectorize(utils.clean_title)"
   ]
  },
  {
   "cell_type": "code",
   "execution_count": 8,
   "metadata": {
    "colab": {},
    "colab_type": "code",
    "id": "OorZpDdTWmYt"
   },
   "outputs": [],
   "source": [
    "X_train = clean_title(X_train)\n",
    "X_test = clean_title(X_test)"
   ]
  },
  {
   "cell_type": "code",
   "execution_count": 9,
   "metadata": {
    "colab": {
     "base_uri": "https://localhost:8080/",
     "height": 204
    },
    "colab_type": "code",
    "id": "A3pYGjRIW2-p",
    "outputId": "f5140624-0835-4683-8cd7-fa37c7efac3b"
   },
   "outputs": [
    {
     "data": {
      "text/plain": [
       "array(['deblurgan blind motion deblurring using conditional adversarial networks',\n",
       "       'improve satsolving machine learning',\n",
       "       'training adversarial discriminators crosschannel abnormal event detection crowds',\n",
       "       'collective stability networks winnertakeall circuits',\n",
       "       'sample complexity episodic fixedhorizon reinforcement learning',\n",
       "       'visualizing textual models intext wordaspixel highlighting',\n",
       "       'prophit causal inverse classification multiple continuously valued treatment policies',\n",
       "       'sequential dual deep learning shape texture features sketch recognition',\n",
       "       'notes using determinantal point processes clustering applications text clustering',\n",
       "       'exactly robust kernel principal component analysis'],\n",
       "      dtype='<U185')"
      ]
     },
     "execution_count": 9,
     "metadata": {},
     "output_type": "execute_result"
    }
   ],
   "source": [
    "# Preview\n",
    "X_train[:10]"
   ]
  },
  {
   "cell_type": "markdown",
   "metadata": {},
   "source": [
    "## Tokenization & padding"
   ]
  },
  {
   "cell_type": "code",
   "execution_count": 10,
   "metadata": {
    "colab": {},
    "colab_type": "code",
    "id": "tL1jrd9RQgem"
   },
   "outputs": [],
   "source": [
    "tokenizer = Tokenizer(num_words=config.max_words, lower=True)\n",
    "tokenizer.fit_on_texts(X_train)"
   ]
  },
  {
   "cell_type": "code",
   "execution_count": 11,
   "metadata": {
    "colab": {},
    "colab_type": "code",
    "id": "Ea6TpD6dR-ny"
   },
   "outputs": [],
   "source": [
    "def get_features(text_sequence: np.ndarray) -> np.ndarray:\n",
    "    sequences = tokenizer.texts_to_sequences(text_sequence)\n",
    "    return pad_sequences(sequences, maxlen=config.maxlen)\n",
    "\n",
    "train_features = get_features(X_train)\n",
    "test_features = get_features(X_test)"
   ]
  },
  {
   "cell_type": "code",
   "execution_count": 12,
   "metadata": {
    "colab": {
     "base_uri": "https://localhost:8080/",
     "height": 34
    },
    "colab_type": "code",
    "id": "iBXk7njRStis",
    "outputId": "ad738795-49a8-4deb-88f8-9713677c60e7"
   },
   "outputs": [
    {
     "data": {
      "text/plain": [
       "((26152, 300), (6538, 300))"
      ]
     },
     "execution_count": 12,
     "metadata": {},
     "output_type": "execute_result"
    }
   ],
   "source": [
    "train_features.shape, test_features.shape"
   ]
  },
  {
   "cell_type": "code",
   "execution_count": 13,
   "metadata": {
    "colab": {
     "base_uri": "https://localhost:8080/",
     "height": 85
    },
    "colab_type": "code",
    "id": "u9j_F5rJBNSB",
    "outputId": "b2edf9ab-2378-45f6-c464-50cdb5ed44b8"
   },
   "outputs": [
    {
     "data": {
      "text/plain": [
       "array([\"['cs.CV']\", \"['cs.AI', 'cs.LO']\", \"['cs.CV']\", \"['cs.NE']\",\n",
       "       \"['stat.ML', 'cs.AI', 'cs.LG']\", \"['stat.ML', 'cs.CL', 'cs.LG']\",\n",
       "       \"['cs.LG', 'stat.ML']\", \"['cs.CV']\", \"['cs.LG']\",\n",
       "       \"['cs.LG', 'stat.ML']\"], dtype=object)"
      ]
     },
     "execution_count": 13,
     "metadata": {},
     "output_type": "execute_result"
    }
   ],
   "source": [
    "y_train[:10]"
   ]
  },
  {
   "cell_type": "code",
   "execution_count": 14,
   "metadata": {},
   "outputs": [
    {
     "data": {
      "text/plain": [
       "(numpy.ndarray, numpy.ndarray)"
      ]
     },
     "execution_count": 14,
     "metadata": {},
     "output_type": "execute_result"
    }
   ],
   "source": [
    "type(train_features), type(y_train)"
   ]
  },
  {
   "cell_type": "markdown",
   "metadata": {},
   "source": [
    "## Label preprocessing"
   ]
  },
  {
   "cell_type": "code",
   "execution_count": 15,
   "metadata": {
    "colab": {
     "base_uri": "https://localhost:8080/",
     "height": 119
    },
    "colab_type": "code",
    "id": "mK_qDM4GAkaH",
    "outputId": "1719ab2d-9841-4032-a792-940a2e7e3db9"
   },
   "outputs": [
    {
     "data": {
      "text/plain": [
       "array(['cs.AI', 'cs.CC', 'cs.CE', 'cs.CL', 'cs.CR', 'cs.CV', 'cs.CY',\n",
       "       'cs.DB', 'cs.DS', 'cs.GR', 'cs.GT', 'cs.HC', 'cs.IR', 'cs.IT',\n",
       "       'cs.LG', 'cs.LO', 'cs.MA', 'cs.MM', 'cs.NE', 'cs.PL', 'cs.RO',\n",
       "       'cs.SD', 'cs.SE', 'cs.SI', 'math.IT', 'math.OC', 'math.ST',\n",
       "       'stat.AP', 'stat.CO', 'stat.ME', 'stat.ML', 'stat.TH'],\n",
       "      dtype=object)"
      ]
     },
     "execution_count": 15,
     "metadata": {},
     "output_type": "execute_result"
    }
   ],
   "source": [
    "# Label binarization\n",
    "list_preprocessed = [literal_eval(i) for i in y_train]\n",
    "mlb = MultiLabelBinarizer()\n",
    "y_train_binarized = mlb.fit_transform(list_preprocessed)\n",
    "mlb.classes_"
   ]
  },
  {
   "cell_type": "code",
   "execution_count": 16,
   "metadata": {
    "colab": {
     "base_uri": "https://localhost:8080/",
     "height": 357
    },
    "colab_type": "code",
    "id": "2inwMYlfUbXE",
    "outputId": "e01cbf7e-85cf-4574-f7a8-8417bf42f24a"
   },
   "outputs": [
    {
     "data": {
      "text/plain": [
       "array([[0, 0, 0, 0, 0, 1, 0, 0, 0, 0, 0, 0, 0, 0, 0, 0, 0, 0, 0, 0, 0, 0,\n",
       "        0, 0, 0, 0, 0, 0, 0, 0, 0, 0],\n",
       "       [1, 0, 0, 0, 0, 0, 0, 0, 0, 0, 0, 0, 0, 0, 0, 1, 0, 0, 0, 0, 0, 0,\n",
       "        0, 0, 0, 0, 0, 0, 0, 0, 0, 0],\n",
       "       [0, 0, 0, 0, 0, 1, 0, 0, 0, 0, 0, 0, 0, 0, 0, 0, 0, 0, 0, 0, 0, 0,\n",
       "        0, 0, 0, 0, 0, 0, 0, 0, 0, 0],\n",
       "       [0, 0, 0, 0, 0, 0, 0, 0, 0, 0, 0, 0, 0, 0, 0, 0, 0, 0, 1, 0, 0, 0,\n",
       "        0, 0, 0, 0, 0, 0, 0, 0, 0, 0],\n",
       "       [1, 0, 0, 0, 0, 0, 0, 0, 0, 0, 0, 0, 0, 0, 1, 0, 0, 0, 0, 0, 0, 0,\n",
       "        0, 0, 0, 0, 0, 0, 0, 0, 1, 0],\n",
       "       [0, 0, 0, 1, 0, 0, 0, 0, 0, 0, 0, 0, 0, 0, 1, 0, 0, 0, 0, 0, 0, 0,\n",
       "        0, 0, 0, 0, 0, 0, 0, 0, 1, 0],\n",
       "       [0, 0, 0, 0, 0, 0, 0, 0, 0, 0, 0, 0, 0, 0, 1, 0, 0, 0, 0, 0, 0, 0,\n",
       "        0, 0, 0, 0, 0, 0, 0, 0, 1, 0],\n",
       "       [0, 0, 0, 0, 0, 1, 0, 0, 0, 0, 0, 0, 0, 0, 0, 0, 0, 0, 0, 0, 0, 0,\n",
       "        0, 0, 0, 0, 0, 0, 0, 0, 0, 0],\n",
       "       [0, 0, 0, 0, 0, 0, 0, 0, 0, 0, 0, 0, 0, 0, 1, 0, 0, 0, 0, 0, 0, 0,\n",
       "        0, 0, 0, 0, 0, 0, 0, 0, 0, 0],\n",
       "       [0, 0, 0, 0, 0, 0, 0, 0, 0, 0, 0, 0, 0, 0, 1, 0, 0, 0, 0, 0, 0, 0,\n",
       "        0, 0, 0, 0, 0, 0, 0, 0, 1, 0]])"
      ]
     },
     "execution_count": 16,
     "metadata": {},
     "output_type": "execute_result"
    }
   ],
   "source": [
    "y_train_binarized[:10]"
   ]
  },
  {
   "cell_type": "code",
   "execution_count": 17,
   "metadata": {
    "colab": {
     "base_uri": "https://localhost:8080/",
     "height": 34
    },
    "colab_type": "code",
    "id": "X_gGkJwDUbXG",
    "outputId": "3a3280cd-c916-4968-cfa8-9a3800756047"
   },
   "outputs": [
    {
     "data": {
      "text/plain": [
       "(32,)"
      ]
     },
     "execution_count": 17,
     "metadata": {},
     "output_type": "execute_result"
    }
   ],
   "source": [
    "y_train_binarized[0].shape"
   ]
  },
  {
   "cell_type": "code",
   "execution_count": 18,
   "metadata": {
    "colab": {
     "base_uri": "https://localhost:8080/",
     "height": 357
    },
    "colab_type": "code",
    "id": "OXbORM4yUbXJ",
    "outputId": "f84c1cbe-23c6-4cd4-8103-d71c3230da2f"
   },
   "outputs": [
    {
     "data": {
      "text/plain": [
       "array([[1, 0, 0, 0, 0, 0, 0, 0, 0, 0, 0, 0, 0, 0, 0, 0, 0, 0, 0, 0, 0, 0,\n",
       "        0, 0, 0, 0, 0, 0, 0, 0, 0, 0],\n",
       "       [1, 0, 0, 0, 0, 0, 0, 0, 0, 0, 0, 0, 0, 0, 0, 0, 0, 0, 0, 0, 0, 0,\n",
       "        0, 0, 0, 0, 0, 0, 0, 0, 0, 0],\n",
       "       [1, 0, 0, 0, 0, 0, 0, 0, 1, 0, 0, 0, 0, 0, 0, 0, 0, 0, 0, 0, 0, 0,\n",
       "        0, 0, 0, 0, 0, 0, 0, 0, 0, 0],\n",
       "       [0, 0, 0, 0, 0, 1, 0, 0, 0, 0, 0, 1, 0, 0, 0, 0, 0, 0, 0, 0, 0, 0,\n",
       "        0, 0, 0, 0, 0, 0, 0, 0, 0, 0],\n",
       "       [0, 0, 0, 0, 0, 0, 0, 0, 0, 0, 0, 0, 0, 0, 1, 0, 0, 0, 0, 0, 0, 0,\n",
       "        0, 0, 0, 0, 0, 1, 0, 0, 1, 0],\n",
       "       [0, 0, 0, 1, 0, 0, 0, 0, 0, 0, 0, 0, 0, 0, 0, 0, 0, 0, 0, 0, 0, 0,\n",
       "        0, 0, 0, 0, 0, 0, 0, 0, 0, 0],\n",
       "       [0, 0, 0, 1, 0, 0, 0, 0, 0, 0, 0, 0, 0, 0, 0, 0, 0, 0, 0, 0, 0, 0,\n",
       "        0, 0, 0, 0, 0, 0, 0, 0, 0, 0],\n",
       "       [0, 0, 0, 0, 0, 0, 0, 0, 0, 0, 0, 0, 0, 0, 1, 0, 0, 0, 0, 0, 0, 0,\n",
       "        0, 0, 0, 0, 0, 0, 0, 0, 0, 0],\n",
       "       [1, 0, 0, 0, 0, 0, 0, 0, 0, 0, 0, 0, 0, 0, 0, 0, 0, 0, 0, 0, 1, 0,\n",
       "        0, 0, 0, 0, 0, 0, 0, 0, 0, 0],\n",
       "       [0, 0, 0, 1, 0, 0, 0, 0, 0, 0, 0, 0, 0, 0, 0, 0, 0, 0, 0, 0, 0, 0,\n",
       "        0, 0, 0, 0, 0, 0, 0, 0, 0, 0]])"
      ]
     },
     "execution_count": 18,
     "metadata": {},
     "output_type": "execute_result"
    }
   ],
   "source": [
    "y_test_binarized = mlb.transform([literal_eval(i) for i in y_test])\n",
    "y_test_binarized[:10]"
   ]
  },
  {
   "cell_type": "markdown",
   "metadata": {
    "colab_type": "text",
    "id": "edo3VaX0PH9A"
   },
   "source": [
    "## Determine the class weights"
   ]
  },
  {
   "cell_type": "code",
   "execution_count": null,
   "metadata": {
    "colab": {
     "base_uri": "https://localhost:8080/",
     "height": 51
    },
    "colab_type": "code",
    "id": "XSkE7fiSUbXM",
    "outputId": "eacab91f-954e-4d68-e93e-2f3e7fa81e99"
   },
   "outputs": [
    {
     "data": {
      "text/plain": [
       "array([0.03675098, 1.08066116, 0.03675098, ..., 0.03675098, 4.84296296,\n",
       "       0.08631023])"
      ]
     },
     "execution_count": 17,
     "metadata": {
      "tags": []
     },
     "output_type": "execute_result"
    }
   ],
   "source": [
    "class_weight = class_weight.compute_sample_weight('balanced', y_train)\n",
    "class_weight"
   ]
  },
  {
   "cell_type": "markdown",
   "metadata": {},
   "source": [
    "## More complex models\n",
    "\n",
    "I will start-off with a CNN-based (Conv1D) architecture and then I will try out LSTM and GRU-based architectures. "
   ]
  },
  {
   "cell_type": "code",
   "execution_count": 19,
   "metadata": {
    "colab": {},
    "colab_type": "code",
    "id": "LncxEnWK9MGo"
   },
   "outputs": [],
   "source": [
    "# Helper function to return a compiled CNN-based model\n",
    "def get_a_cnn_model() -> tf.keras.models.Sequential:\n",
    "    model = Sequential()\n",
    "    model.add(Embedding(config.max_words, config.embedding_dims, \n",
    "        input_length=config.maxlen))\n",
    "    model.add(Dropout(0.1))\n",
    "    model.add(Conv1D(config.filter_length, config.kernel_size, \n",
    "        padding='valid', activation='relu', strides=1))\n",
    "    model.add(GlobalMaxPool1D())\n",
    "    model.add(Dense(32, activation='sigmoid'))\n",
    "    model.compile(optimizer='adam', loss='binary_crossentropy', metrics=['categorical_accuracy'])\n",
    "    return model"
   ]
  },
  {
   "cell_type": "markdown",
   "metadata": {},
   "source": [
    "Pay close attention to the loss function and the metrics. [This blog post](https://www.depends-on-the-definition.com/guide-to-multi-label-classification-with-neural-networks/) helped me a lot to reason why you should use a `binary_crossentropy` loss for a multi-label classification problem. "
   ]
  },
  {
   "cell_type": "code",
   "execution_count": 20,
   "metadata": {
    "colab": {},
    "colab_type": "code",
    "id": "c-nfDxTvUbXT"
   },
   "outputs": [],
   "source": [
    "# Helper function to return either a LSTM-based or a \n",
    "# GRU-based model\n",
    "def get_a_sequential_model(sequential_layer:Union[tf.keras.layers.LSTM, tf.keras.layers.GRU], \n",
    "        bidirectional:bool) -> tf.keras.models.Sequential:\n",
    "    model = Sequential()\n",
    "    model.add(Embedding(config.max_words, 20, input_length=config.maxlen))\n",
    "    if bidirectional:\n",
    "        model.add(Bidirectional(sequential_layer(10, activation=\"sigmoid\")))\n",
    "    else:\n",
    "        model.add(sequential_layer(10, activation=\"sigmoid\"))\n",
    "    model.add(Dense(32, activation='sigmoid'))\n",
    "    model.compile(loss='binary_crossentropy',\n",
    "                  optimizer='adam',\n",
    "                  metrics=['categorical_accuracy'])\n",
    "    return model"
   ]
  },
  {
   "cell_type": "code",
   "execution_count": 21,
   "metadata": {
    "colab": {},
    "colab_type": "code",
    "id": "h0psMBCK9-ld"
   },
   "outputs": [],
   "source": [
    "# A helper training script\n",
    "def train_model(model:tf.keras.models.Sequential,\n",
    "    class_weight=None,\n",
    "    epochs=config.epochs,\n",
    "    batch_size=config.batch_size,\n",
    "    callbacks=None) -> (tf.keras.callbacks.History, str):\n",
    "    start = time.time()\n",
    "    history = model.fit(train_features, y_train_binarized,\n",
    "                        class_weight=class_weight,\n",
    "                        epochs=epochs,\n",
    "                        batch_size=batch_size,\n",
    "                        validation_split=0.1,\n",
    "                        callbacks=callbacks)\n",
    "    time_message = 'It took {} seconds'.format(time.time()-start)\n",
    "    return (history, time_message)"
   ]
  },
  {
   "cell_type": "code",
   "execution_count": 22,
   "metadata": {
    "colab": {},
    "colab_type": "code",
    "id": "NCpkOwKNUbXc"
   },
   "outputs": [],
   "source": [
    "# # A helper function to plot the training history\n",
    "def plot_training(H: tf.keras.callbacks.History, N: int) -> None:\n",
    "    # construct a plot that plots and saves the training history\n",
    "    plt.style.use(\"ggplot\")\n",
    "    plt.figure()\n",
    "    plt.plot(np.arange(0, N), H.history[\"loss\"], label=\"train_loss\")\n",
    "    plt.plot(np.arange(0, N), H.history[\"val_loss\"], label=\"val_loss\")\n",
    "    plt.plot(np.arange(0, N), H.history[\"categorical_accuracy\"], label=\"train_acc\")\n",
    "    plt.plot(np.arange(0, N), H.history[\"val_categorical_accuracy\"], label=\"val_acc\")\n",
    "    plt.title(\"Training Loss and Accuracy\")\n",
    "    plt.xlabel(\"Epoch #\")\n",
    "    plt.ylabel(\"Loss/Accuracy\")\n",
    "    plt.legend(loc=\"lower left\")\n",
    "    plt.show()"
   ]
  },
  {
   "cell_type": "code",
   "execution_count": 24,
   "metadata": {
    "colab": {},
    "colab_type": "code",
    "id": "b4iUFcY2Wq_G"
   },
   "outputs": [],
   "source": [
    "# A helper function to evaluate a model\n",
    "def get_metrics(model: tf.keras.models.Sequential,\n",
    "    test_data: tuple) -> (str, str):\n",
    "    (X_test, y_test) = test_data\n",
    "    metrics = model.evaluate(X_test, y_test, verbose=None)\n",
    "    loss = '{}: {}'.format(model.metrics_names[0], metrics[0])\n",
    "    cat_accuracy = '{}: {}'.format(model.metrics_names[1], metrics[1])\n",
    "    return(loss, cat_accuracy)"
   ]
  },
  {
   "cell_type": "code",
   "execution_count": 25,
   "metadata": {
    "colab": {},
    "colab_type": "code",
    "id": "2WLMaTYo9cwl"
   },
   "outputs": [],
   "source": [
    "# Define the callbacks\n",
    "callbacks = [ \n",
    "    ReduceLROnPlateau(),\n",
    "    EarlyStopping(patience=4), \n",
    "    ModelCheckpoint(filepath='model-{}.h5'.format(time.time()), save_best_only=True),\n",
    "    WandbCallback()\n",
    "]"
   ]
  },
  {
   "cell_type": "markdown",
   "metadata": {
    "colab_type": "text",
    "id": "Fs6tFVKnF8G8"
   },
   "source": [
    "## CNN-based model"
   ]
  },
  {
   "cell_type": "code",
   "execution_count": 26,
   "metadata": {
    "colab": {
     "base_uri": "https://localhost:8080/",
     "height": 411
    },
    "colab_type": "code",
    "id": "UR9ZLjFlVpo5",
    "outputId": "077c46b6-e106-4c8a-fdd9-93d5bde027c6"
   },
   "outputs": [
    {
     "name": "stdout",
     "output_type": "stream",
     "text": [
      "Train on 23536 samples, validate on 2616 samples\n",
      "Epoch 1/10\n",
      "   32/23536 [..............................] - ETA: 1:39:24 - loss: 0.6941 - categorical_accuracy: 0.0000e+00WARNING:tensorflow:Method (on_train_batch_end) is slow compared to the batch update (1.545149). Check your callbacks.\n",
      "23536/23536 [==============================] - 13s 572us/sample - loss: 0.1163 - categorical_accuracy: 0.5405 - val_loss: 0.0809 - val_categorical_accuracy: 0.6942\n",
      "Epoch 2/10\n",
      "23536/23536 [==============================] - 5s 199us/sample - loss: 0.0747 - categorical_accuracy: 0.6883 - val_loss: 0.0766 - val_categorical_accuracy: 0.6839\n",
      "Epoch 3/10\n",
      "23536/23536 [==============================] - 5s 194us/sample - loss: 0.0694 - categorical_accuracy: 0.7098 - val_loss: 0.0764 - val_categorical_accuracy: 0.6969\n",
      "Epoch 4/10\n",
      "23536/23536 [==============================] - 5s 195us/sample - loss: 0.0661 - categorical_accuracy: 0.7196 - val_loss: 0.0765 - val_categorical_accuracy: 0.6957\n",
      "Epoch 5/10\n",
      "23536/23536 [==============================] - 5s 194us/sample - loss: 0.0635 - categorical_accuracy: 0.7297 - val_loss: 0.0775 - val_categorical_accuracy: 0.6957\n",
      "Epoch 6/10\n",
      "23536/23536 [==============================] - 5s 196us/sample - loss: 0.0611 - categorical_accuracy: 0.7398 - val_loss: 0.0778 - val_categorical_accuracy: 0.6934\n",
      "Epoch 7/10\n",
      "23536/23536 [==============================] - 4s 188us/sample - loss: 0.0585 - categorical_accuracy: 0.7474 - val_loss: 0.0785 - val_categorical_accuracy: 0.6877\n",
      "It took 41.04175162315369 seconds\n"
     ]
    }
   ],
   "source": [
    "cnn_model = get_a_cnn_model()\n",
    "(history, time_message) = train_model(cnn_model, callbacks=callbacks)\n",
    "print(time_message)"
   ]
  },
  {
   "cell_type": "code",
   "execution_count": 27,
   "metadata": {
    "colab": {
     "base_uri": "https://localhost:8080/",
     "height": 299
    },
    "colab_type": "code",
    "id": "ERhV1g44WHEj",
    "outputId": "ccff05c4-22b4-4a55-a3b6-bca0bf490dcb"
   },
   "outputs": [
    {
     "data": {
      "image/png": "[encoded data removed]",
      "text/plain": [
       "<Figure size 432x288 with 1 Axes>"
      ]
     },
     "metadata": {},
     "output_type": "display_data"
    }
   ],
   "source": [
    "plot_training(history, len(history.history[\"loss\"]))"
   ]
  },
  {
   "cell_type": "code",
   "execution_count": null,
   "metadata": {
    "colab": {
     "base_uri": "https://localhost:8080/",
     "height": 51
    },
    "colab_type": "code",
    "id": "ftRKPT22WenY",
    "outputId": "da9bfb60-bf1f-4a5c-db37-c9857f2a4c3d"
   },
   "outputs": [
    {
     "name": "stdout",
     "output_type": "stream",
     "text": [
      "loss: 0.07957282459546244\n",
      "categorical_accuracy: 0.6762006878852844\n"
     ]
    }
   ],
   "source": [
    "(loss, categorical_accuracy) = get_metrics(cnn_model, (test_features, y_test_binarized))\n",
    "print(loss)\n",
    "print(categorical_accuracy)"
   ]
  },
  {
   "cell_type": "markdown",
   "metadata": {
    "colab_type": "text",
    "id": "ywq6qDOSp8Ma"
   },
   "source": [
    "## Inference"
   ]
  },
  {
   "cell_type": "code",
   "execution_count": 28,
   "metadata": {
    "colab": {},
    "colab_type": "code",
    "id": "hQM2-wVMiW1f"
   },
   "outputs": [],
   "source": [
    "def generate_predictions(model:tf.keras.models.Sequential, article_title: str) -> list:\n",
    "    labels = []\n",
    "    \n",
    "    title = np.array([article_title])\n",
    "    cleaned_title = clean_title(title)\n",
    "    tokenized = get_features(cleaned_title)\n",
    "    \n",
    "    probabilities = model.predict(tokenized)\n",
    "    \n",
    "    probabilities = probabilities.reshape(32,)\n",
    "    idxs = np.argsort(probabilities)[::-1][:2]\n",
    "    \n",
    "    for (i, j) in enumerate(idxs):\n",
    "        label = \"{}: {:.2f}%\".format(mlb.classes_[j], probabilities[j] * 100)\n",
    "        labels.append(label)\n",
    "        \n",
    "    return (labels)"
   ]
  },
  {
   "cell_type": "code",
   "execution_count": 29,
   "metadata": {
    "colab": {
     "base_uri": "https://localhost:8080/",
     "height": 34
    },
    "colab_type": "code",
    "id": "s91BjN3Din2F",
    "outputId": "41191fa2-9534-46fb-8249-40d836af34bc"
   },
   "outputs": [
    {
     "name": "stdout",
     "output_type": "stream",
     "text": [
      "['cs.LG: 93.62%', 'stat.ML: 92.00%']\n"
     ]
    }
   ],
   "source": [
    "print(generate_predictions(cnn_model, 'On the Variance of the Adaptive Learning Rate and Beyond'))"
   ]
  },
  {
   "cell_type": "markdown",
   "metadata": {},
   "source": [
    "![](https://i.ibb.co/rZJ0CvN/Screen-Shot-2019-10-31-at-3-01-26-PM.png)"
   ]
  },
  {
   "cell_type": "code",
   "execution_count": 30,
   "metadata": {},
   "outputs": [
    {
     "name": "stdout",
     "output_type": "stream",
     "text": [
      "['cs.CL: 97.55%', 'cs.LG: 54.26%']\n"
     ]
    }
   ],
   "source": [
    "print(generate_predictions(cnn_model, \n",
    "        'BERT: Pre-training of Deep Bidirectional Transformers for Language Understanding'))"
   ]
  },
  {
   "cell_type": "markdown",
   "metadata": {},
   "source": [
    "![](https://i.ibb.co/0JJvSBc/Screen-Shot-2019-10-31-at-3-05-05-PM.png)"
   ]
  },
  {
   "cell_type": "code",
   "execution_count": 31,
   "metadata": {},
   "outputs": [
    {
     "name": "stdout",
     "output_type": "stream",
     "text": [
      "['cs.CL: 99.89%', 'cs.IR: 9.69%']\n"
     ]
    }
   ],
   "source": [
    "print(generate_predictions(cnn_model, \n",
    "        'MultiFiT: Efficient Multi-lingual Language Model Fine-tuning'))"
   ]
  },
  {
   "cell_type": "markdown",
   "metadata": {},
   "source": [
    "![](https://i.ibb.co/1QdcwZj/Screen-Shot-2019-10-31-at-3-09-10-PM.png)"
   ]
  },
  {
   "cell_type": "markdown",
   "metadata": {},
   "source": [
    "Let's now try out other models. "
   ]
  },
  {
   "cell_type": "markdown",
   "metadata": {
    "colab_type": "text",
    "id": "7ZBz-TO2F_nx"
   },
   "source": [
    "## GRU"
   ]
  },
  {
   "cell_type": "code",
   "execution_count": 32,
   "metadata": {
    "colab": {
     "base_uri": "https://localhost:8080/",
     "height": 462
    },
    "colab_type": "code",
    "id": "B0Fpxv3wEhWp",
    "outputId": "9328e127-7435-4a73-a9eb-20b253d90c64"
   },
   "outputs": [
    {
     "name": "stdout",
     "output_type": "stream",
     "text": [
      "Train on 23536 samples, validate on 2616 samples\n",
      "Epoch 1/10\n",
      "23536/23536 [==============================] - 305s 13ms/sample - loss: 0.2444 - categorical_accuracy: 0.2479 - val_loss: 0.1323 - val_categorical_accuracy: 0.3505\n",
      "Epoch 2/10\n",
      "23536/23536 [==============================] - 299s 13ms/sample - loss: 0.1244 - categorical_accuracy: 0.3509 - val_loss: 0.1246 - val_categorical_accuracy: 0.3505\n",
      "Epoch 3/10\n",
      "23536/23536 [==============================] - 298s 13ms/sample - loss: 0.1209 - categorical_accuracy: 0.3509 - val_loss: 0.1235 - val_categorical_accuracy: 0.3505\n",
      "Epoch 4/10\n",
      "23536/23536 [==============================] - 296s 13ms/sample - loss: 0.1203 - categorical_accuracy: 0.3509 - val_loss: 0.1234 - val_categorical_accuracy: 0.3505\n",
      "Epoch 5/10\n",
      "23536/23536 [==============================] - 297s 13ms/sample - loss: 0.1202 - categorical_accuracy: 0.3509 - val_loss: 0.1233 - val_categorical_accuracy: 0.3505\n",
      "Epoch 6/10\n",
      "23536/23536 [==============================] - 297s 13ms/sample - loss: 0.1200 - categorical_accuracy: 0.3509 - val_loss: 0.1221 - val_categorical_accuracy: 0.3505\n",
      "Epoch 7/10\n",
      "23536/23536 [==============================] - 298s 13ms/sample - loss: 0.1155 - categorical_accuracy: 0.4088 - val_loss: 0.1152 - val_categorical_accuracy: 0.4671\n",
      "Epoch 8/10\n",
      "23536/23536 [==============================] - 299s 13ms/sample - loss: 0.1098 - categorical_accuracy: 0.4802 - val_loss: 0.1117 - val_categorical_accuracy: 0.4744\n",
      "Epoch 9/10\n",
      "23536/23536 [==============================] - 298s 13ms/sample - loss: 0.1060 - categorical_accuracy: 0.5030 - val_loss: 0.1077 - val_categorical_accuracy: 0.5344\n",
      "Epoch 10/10\n",
      "23536/23536 [==============================] - 298s 13ms/sample - loss: 0.1006 - categorical_accuracy: 0.6007 - val_loss: 0.1019 - val_categorical_accuracy: 0.6204\n",
      "It took 2983.807958126068 seconds\n"
     ]
    }
   ],
   "source": [
    "gru_model = get_a_sequential_model(sequential_layer=GRU, bidirectional=False)\n",
    "(history, time_message) = train_model(gru_model, callbacks=callbacks)\n",
    "print(time_message)"
   ]
  },
  {
   "cell_type": "code",
   "execution_count": 33,
   "metadata": {
    "colab": {
     "base_uri": "https://localhost:8080/",
     "height": 51
    },
    "colab_type": "code",
    "id": "dEeUTvsJ5Dn9",
    "outputId": "349808c8-fa9a-4ced-b16d-edbf4ba62eea"
   },
   "outputs": [
    {
     "name": "stdout",
     "output_type": "stream",
     "text": [
      "loss: 0.10042740640271217\n",
      "categorical_accuracy: 0.6020189523696899\n"
     ]
    }
   ],
   "source": [
    "(loss, categorical_accuracy) = get_metrics(gru_model, (test_features, y_test_binarized))\n",
    "print(loss)\n",
    "print(categorical_accuracy)"
   ]
  },
  {
   "cell_type": "code",
   "execution_count": 34,
   "metadata": {
    "colab": {
     "base_uri": "https://localhost:8080/",
     "height": 34
    },
    "colab_type": "code",
    "id": "wlx_vZOQ54zG",
    "outputId": "202c96b7-a62a-46e1-e3cf-3801e805d12e"
   },
   "outputs": [
    {
     "name": "stdout",
     "output_type": "stream",
     "text": [
      "['cs.CL: 56.82%', 'cs.AI: 39.19%']\n"
     ]
    }
   ],
   "source": [
    "print(generate_predictions(gru_model, 'BERT: Pre-training of Deep Bidirectional Transformers for Language Understanding'))"
   ]
  },
  {
   "cell_type": "markdown",
   "metadata": {},
   "source": [
    "## LSTM"
   ]
  },
  {
   "cell_type": "code",
   "execution_count": 35,
   "metadata": {},
   "outputs": [
    {
     "name": "stdout",
     "output_type": "stream",
     "text": [
      "Train on 23536 samples, validate on 2616 samples\n",
      "Epoch 1/10\n",
      "23536/23536 [==============================] - 408s 17ms/sample - loss: 0.1981 - categorical_accuracy: 0.3089 - val_loss: 0.1243 - val_categorical_accuracy: 0.3505\n",
      "Epoch 2/10\n",
      "23536/23536 [==============================] - 402s 17ms/sample - loss: 0.1190 - categorical_accuracy: 0.3617 - val_loss: 0.1196 - val_categorical_accuracy: 0.4281\n",
      "Epoch 3/10\n",
      "23536/23536 [==============================] - 402s 17ms/sample - loss: 0.1140 - categorical_accuracy: 0.4521 - val_loss: 0.1148 - val_categorical_accuracy: 0.4763\n",
      "Epoch 4/10\n",
      "23536/23536 [==============================] - 399s 17ms/sample - loss: 0.1083 - categorical_accuracy: 0.4913 - val_loss: 0.1086 - val_categorical_accuracy: 0.5313\n",
      "Epoch 5/10\n",
      "23536/23536 [==============================] - 401s 17ms/sample - loss: 0.1004 - categorical_accuracy: 0.5717 - val_loss: 0.1012 - val_categorical_accuracy: 0.5894\n",
      "Epoch 6/10\n",
      "23536/23536 [==============================] - 400s 17ms/sample - loss: 0.0932 - categorical_accuracy: 0.6281 - val_loss: 0.0958 - val_categorical_accuracy: 0.6384\n",
      "Epoch 7/10\n",
      "23536/23536 [==============================] - 400s 17ms/sample - loss: 0.0871 - categorical_accuracy: 0.6642 - val_loss: 0.0911 - val_categorical_accuracy: 0.6544\n",
      "Epoch 8/10\n",
      "23536/23536 [==============================] - 399s 17ms/sample - loss: 0.0823 - categorical_accuracy: 0.6911 - val_loss: 0.0879 - val_categorical_accuracy: 0.6732\n",
      "Epoch 9/10\n",
      "23536/23536 [==============================] - 397s 17ms/sample - loss: 0.0789 - categorical_accuracy: 0.7089 - val_loss: 0.0862 - val_categorical_accuracy: 0.6888\n",
      "Epoch 10/10\n",
      "23536/23536 [==============================] - 399s 17ms/sample - loss: 0.0766 - categorical_accuracy: 0.7213 - val_loss: 0.0855 - val_categorical_accuracy: 0.6865\n",
      "It took 4008.731500148773 seconds\n"
     ]
    }
   ],
   "source": [
    "bi_lstm_model = get_a_sequential_model(sequential_layer=LSTM, bidirectional=True)\n",
    "(history, time_message) = train_model(bi_lstm_model, callbacks=callbacks)\n",
    "print(time_message)"
   ]
  },
  {
   "cell_type": "code",
   "execution_count": 37,
   "metadata": {},
   "outputs": [
    {
     "name": "stdout",
     "output_type": "stream",
     "text": [
      "loss: 0.08460445274733082\n",
      "categorical_accuracy: 0.6630467772483826\n"
     ]
    }
   ],
   "source": [
    "(loss, categorical_accuracy) = get_metrics(bi_lstm_model, (test_features, y_test_binarized))\n",
    "print(loss)\n",
    "print(categorical_accuracy)"
   ]
  },
  {
   "cell_type": "code",
   "execution_count": 38,
   "metadata": {},
   "outputs": [
    {
     "name": "stdout",
     "output_type": "stream",
     "text": [
      "['cs.CL: 81.42%', 'cs.AI: 21.53%']\n"
     ]
    }
   ],
   "source": [
    "print(generate_predictions(bi_lstm_model, 'BERT: Pre-training of Deep Bidirectional Transformers for Language Understanding'))"
   ]
  },
  {
   "cell_type": "markdown",
   "metadata": {
    "colab_type": "text",
    "id": "IJtjZ_z1p-7K"
   },
   "source": [
    "## Visualization of the embeddings (learned by the CNN-based model)"
   ]
  },
  {
   "cell_type": "code",
   "execution_count": null,
   "metadata": {
    "colab": {},
    "colab_type": "code",
    "id": "HFaI9-UlsEtk"
   },
   "outputs": [],
   "source": [
    "word_index = tokenizer.word_index\n",
    "reverse_word_index = dict([(value, key) for (key, value) in word_index.items()])"
   ]
  },
  {
   "cell_type": "code",
   "execution_count": null,
   "metadata": {
    "colab": {},
    "colab_type": "code",
    "id": "Qllo5dfMQsVH"
   },
   "outputs": [],
   "source": [
    "def serialize_embeddings(model:tf.keras.models.Sequential) -> str:\n",
    "    # Get the weights of the first layer (Embedding layer)\n",
    "    e = model.layers[0]\n",
    "    weights = e.get_weights()[0]\n",
    "    # Serialize the weights in .tsv format\n",
    "    out_v = io.open('vecs.tsv', 'w', encoding='utf-8')\n",
    "    out_m = io.open('meta.tsv', 'w', encoding='utf-8')\n",
    "    for word_num in range(1, config.max_words):\n",
    "        word = reverse_word_index[word_num]\n",
    "        embeddings = weights[word_num]\n",
    "        out_m.write(word + \"\\n\")\n",
    "        out_v.write('\\t'.join([str(x) for x in embeddings]) + \"\\n\")\n",
    "    out_v.close()\n",
    "    out_m.close()\n",
    "    return 'Embeddings have been serialized'"
   ]
  },
  {
   "cell_type": "code",
   "execution_count": null,
   "metadata": {
    "colab": {},
    "colab_type": "code",
    "id": "sjoiy2bdtXiK"
   },
   "outputs": [],
   "source": [
    "print(serialize_embeddings(cnn_model))"
   ]
  },
  {
   "cell_type": "markdown",
   "metadata": {
    "colab_type": "text",
    "id": "uMrfYpV-ygsu"
   },
   "source": [
    "Here's a screencast of the projection of the Embedding matrix: https://www.loom.com/share/88eaf892c02a4ba392b00ff376686e0d"
   ]
  }
 ],
 "metadata": {
  "accelerator": "GPU",
  "colab": {
   "collapsed_sections": [],
   "name": "Data_preprocessing_and_model_building (part II).ipynb",
   "provenance": []
  },
  "kernelspec": {
   "display_name": "Python 3",
   "language": "python",
   "name": "python3"
  },
  "language_info": {
   "codemirror_mode": {
    "name": "ipython",
    "version": 3
   },
   "file_extension": ".py",
   "mimetype": "text/x-python",
   "name": "python",
   "nbconvert_exporter": "python",
   "pygments_lexer": "ipython3",
   "version": "3.5.3"
  }
 },
 "nbformat": 4,
 "nbformat_minor": 4
}
