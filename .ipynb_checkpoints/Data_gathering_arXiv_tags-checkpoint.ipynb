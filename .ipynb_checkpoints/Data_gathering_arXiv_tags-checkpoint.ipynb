{
 "cells": [
  {
   "cell_type": "markdown",
   "metadata": {
    "colab_type": "text",
    "id": "view-in-github"
   },
   "source": [
    "<a href=\"https://colab.research.google.com/github/sayakpaul/Generating-categories-from-arXiv-paper-titles/blob/master/Data_gathering_arXiv_tags.ipynb\" target=\"_parent\"><img src=\"https://colab.research.google.com/assets/colab-badge.svg\" alt=\"Open In Colab\"/></a>"
   ]
  },
  {
   "cell_type": "markdown",
   "metadata": {
    "colab_type": "text",
    "id": "3u44EeMYo3q9"
   },
   "source": [
    "[arXiv](https://arxiv.org) is one of the greatest things ever happened to mankind, I believe. We are living in a time where data is available in abundance, we just need to turn the right knobs to make it speak for itself. Being a machine learning engineer, most of my time is spent with data and models and I am quite happy with it. \n",
    "\n",
    "Since, arXiv is one of the inseparable parts of our lives (be it a data scientist, be it a machine learning engineer, research the list goes on). So, I always wanted to do something interesting with the data arXiv has in its store beside the life-changing papers. Earlier, the scene was - we had a problem statement, but we did not have the data. Now it has reversed. Thinking of a machine learning suitable problem statement is non trivial (offenders, please take a look [here](https://developers.google.com/machine-learning/problem-framing/)). \n",
    "\n",
    "I had this dataset - [ARXIV data from 24,000+ papers](https://www.kaggle.com/neelshah18/arxivdataset). This dataset contains all paper related to ML, CL, NER, AI and CV field publish between 1992 to February 2018. The dataset is in `json` format but when it is loaded as a `pandas` DataFrame, it looks something like so - \n",
    "\n",
    "![](https://i.ibb.co/rfb1pxH/Screen-Shot-2019-09-07-at-5-51-20-PM.png)\n",
    "\n",
    "The column names are self-explanatory. The `day`, `month` and `year` columns collectively form the date of publication of the paper. The `tag` column denotes the sub-category(s) of the paper. I decided to frame a problem statement like - \n",
    "\n",
    "> Can a machine (code, essentially) automatically generate the atgs just by taking a look at the title of a paper? \n",
    "\n",
    "The problem statement hit me hard and I decided to dive all in. First, I had to decide on which features I would need for solving the problem. Naturally, the features would be - `title` and `tag`. Given the **title** of a paper, the machine will have to predict its tag. Now, if we take a closer look at a value of `tag`, it looks like so - \n",
    "\n",
    "```\n",
    "\"'term': 'cs.AI', 'scheme': 'http://arxiv.org/schemas/atom', 'label': None, 'term': 'cs.CL', 'scheme': 'http://arxiv.org/schemas/atom', 'label': None, 'term': 'cs.CV', 'scheme': 'http://arxiv.org/schemas/atom', 'label': None, 'term': 'cs.NE', 'scheme': 'http://arxiv.org/schemas/atom', 'label': None, 'term': 'stat.ML', 'scheme': 'http://arxiv.org/schemas/atom', 'label': None\"\n",
    "```\n",
    "\n",
    "The `term` is exactly what I was looking for. It denotes the category(s) more specifically. So, the next challenge was to extract the term(s) of each of the paper and assign them accordingly. So, the problem now becomes - \n",
    "\n",
    "> Upon seeing the title of a paper, can a machine predict the `term`(s)? \n",
    "\n",
    "In machine learning literature, this can be modeled *as a **multi-label** text classification problem*. Multi-label because a paper can be associated with more than one categories. \n",
    "\n",
    "In this notebook, the following tasks are performed - \n",
    "- Data loading\n",
    "- Data preprocessing and deriving the desired form\n",
    "- Data serialization"
   ]
  },
  {
   "cell_type": "code",
   "execution_count": null,
   "metadata": {
    "colab": {},
    "colab_type": "code",
    "id": "86_7opfvmkYr"
   },
   "outputs": [],
   "source": [
    "!unzip arxivdataset.zip"
   ]
  },
  {
   "cell_type": "markdown",
   "metadata": {
    "colab_type": "text",
    "id": "ZKZZpGlzvMmo"
   },
   "source": [
    "## Imports"
   ]
  },
  {
   "cell_type": "code",
   "execution_count": null,
   "metadata": {
    "colab": {},
    "colab_type": "code",
    "id": "3GGztiAkn_Ct"
   },
   "outputs": [],
   "source": [
    "import matplotlib.pyplot as plt\n",
    "import pandas as pd\n",
    "import numpy as np\n",
    "import json \n",
    "import re"
   ]
  },
  {
   "cell_type": "markdown",
   "metadata": {
    "colab_type": "text",
    "id": "4FZAOKXFvOUE"
   },
   "source": [
    "## Data loading"
   ]
  },
  {
   "cell_type": "code",
   "execution_count": null,
   "metadata": {
    "colab": {
     "base_uri": "https://localhost:8080/",
     "height": 289
    },
    "colab_type": "code",
    "id": "O3bnJxdjuv3e",
    "outputId": "7b4ab846-42fd-4b1a-e14f-7fd6ef62fd07"
   },
   "outputs": [
    {
     "data": {
      "text/html": [
       "<div>\n",
       "<style scoped>\n",
       "    .dataframe tbody tr th:only-of-type {\n",
       "        vertical-align: middle;\n",
       "    }\n",
       "\n",
       "    .dataframe tbody tr th {\n",
       "        vertical-align: top;\n",
       "    }\n",
       "\n",
       "    .dataframe thead th {\n",
       "        text-align: right;\n",
       "    }\n",
       "</style>\n",
       "<table border=\"1\" class=\"dataframe\">\n",
       "  <thead>\n",
       "    <tr style=\"text-align: right;\">\n",
       "      <th></th>\n",
       "      <th>author</th>\n",
       "      <th>day</th>\n",
       "      <th>id</th>\n",
       "      <th>link</th>\n",
       "      <th>month</th>\n",
       "      <th>summary</th>\n",
       "      <th>tag</th>\n",
       "      <th>title</th>\n",
       "      <th>year</th>\n",
       "    </tr>\n",
       "  </thead>\n",
       "  <tbody>\n",
       "    <tr>\n",
       "      <th>0</th>\n",
       "      <td>[{'name': 'Ahmed Osman'}, {'name': 'Wojciech S...</td>\n",
       "      <td>1</td>\n",
       "      <td>1802.00209v1</td>\n",
       "      <td>[{'rel': 'alternate', 'href': 'http://arxiv.or...</td>\n",
       "      <td>2</td>\n",
       "      <td>We propose an architecture for VQA which utili...</td>\n",
       "      <td>[{'term': 'cs.AI', 'scheme': 'http://arxiv.org...</td>\n",
       "      <td>Dual Recurrent Attention Units for Visual Ques...</td>\n",
       "      <td>2018</td>\n",
       "    </tr>\n",
       "    <tr>\n",
       "      <th>1</th>\n",
       "      <td>[{'name': 'Ji Young Lee'}, {'name': 'Franck De...</td>\n",
       "      <td>12</td>\n",
       "      <td>1603.03827v1</td>\n",
       "      <td>[{'rel': 'alternate', 'href': 'http://arxiv.or...</td>\n",
       "      <td>3</td>\n",
       "      <td>Recent approaches based on artificial neural n...</td>\n",
       "      <td>[{'term': 'cs.CL', 'scheme': 'http://arxiv.org...</td>\n",
       "      <td>Sequential Short-Text Classification with Recu...</td>\n",
       "      <td>2016</td>\n",
       "    </tr>\n",
       "    <tr>\n",
       "      <th>2</th>\n",
       "      <td>[{'name': 'Iulian Vlad Serban'}, {'name': 'Tim...</td>\n",
       "      <td>2</td>\n",
       "      <td>1606.00776v2</td>\n",
       "      <td>[{'rel': 'alternate', 'href': 'http://arxiv.or...</td>\n",
       "      <td>6</td>\n",
       "      <td>We introduce the multiresolution recurrent neu...</td>\n",
       "      <td>[{'term': 'cs.CL', 'scheme': 'http://arxiv.org...</td>\n",
       "      <td>Multiresolution Recurrent Neural Networks: An ...</td>\n",
       "      <td>2016</td>\n",
       "    </tr>\n",
       "    <tr>\n",
       "      <th>3</th>\n",
       "      <td>[{'name': 'Sebastian Ruder'}, {'name': 'Joachi...</td>\n",
       "      <td>23</td>\n",
       "      <td>1705.08142v2</td>\n",
       "      <td>[{'rel': 'alternate', 'href': 'http://arxiv.or...</td>\n",
       "      <td>5</td>\n",
       "      <td>Multi-task learning is motivated by the observ...</td>\n",
       "      <td>[{'term': 'stat.ML', 'scheme': 'http://arxiv.o...</td>\n",
       "      <td>Learning what to share between loosely related...</td>\n",
       "      <td>2017</td>\n",
       "    </tr>\n",
       "    <tr>\n",
       "      <th>4</th>\n",
       "      <td>[{'name': 'Iulian V. Serban'}, {'name': 'Chinn...</td>\n",
       "      <td>7</td>\n",
       "      <td>1709.02349v2</td>\n",
       "      <td>[{'rel': 'alternate', 'href': 'http://arxiv.or...</td>\n",
       "      <td>9</td>\n",
       "      <td>We present MILABOT: a deep reinforcement learn...</td>\n",
       "      <td>[{'term': 'cs.CL', 'scheme': 'http://arxiv.org...</td>\n",
       "      <td>A Deep Reinforcement Learning Chatbot</td>\n",
       "      <td>2017</td>\n",
       "    </tr>\n",
       "  </tbody>\n",
       "</table>\n",
       "</div>"
      ],
      "text/plain": [
       "                                              author  ...  year\n",
       "0  [{'name': 'Ahmed Osman'}, {'name': 'Wojciech S...  ...  2018\n",
       "1  [{'name': 'Ji Young Lee'}, {'name': 'Franck De...  ...  2016\n",
       "2  [{'name': 'Iulian Vlad Serban'}, {'name': 'Tim...  ...  2016\n",
       "3  [{'name': 'Sebastian Ruder'}, {'name': 'Joachi...  ...  2017\n",
       "4  [{'name': 'Iulian V. Serban'}, {'name': 'Chinn...  ...  2017\n",
       "\n",
       "[5 rows x 9 columns]"
      ]
     },
     "execution_count": 2,
     "metadata": {
      "tags": []
     },
     "output_type": "execute_result"
    }
   ],
   "source": [
    "json_df = pd.read_json('arxivData.json')\n",
    "json_df.head()"
   ]
  },
  {
   "cell_type": "markdown",
   "metadata": {
    "colab_type": "text",
    "id": "AuU9iT_FvQA8"
   },
   "source": [
    "## Columns of interest"
   ]
  },
  {
   "cell_type": "code",
   "execution_count": null,
   "metadata": {
    "colab": {
     "base_uri": "https://localhost:8080/",
     "height": 204
    },
    "colab_type": "code",
    "id": "fMVb1dGtwB86",
    "outputId": "ef7323f1-3183-4f3d-e4c5-2961294fc1aa"
   },
   "outputs": [
    {
     "data": {
      "text/html": [
       "<div>\n",
       "<style scoped>\n",
       "    .dataframe tbody tr th:only-of-type {\n",
       "        vertical-align: middle;\n",
       "    }\n",
       "\n",
       "    .dataframe tbody tr th {\n",
       "        vertical-align: top;\n",
       "    }\n",
       "\n",
       "    .dataframe thead th {\n",
       "        text-align: right;\n",
       "    }\n",
       "</style>\n",
       "<table border=\"1\" class=\"dataframe\">\n",
       "  <thead>\n",
       "    <tr style=\"text-align: right;\">\n",
       "      <th></th>\n",
       "      <th>title</th>\n",
       "      <th>tag</th>\n",
       "    </tr>\n",
       "  </thead>\n",
       "  <tbody>\n",
       "    <tr>\n",
       "      <th>0</th>\n",
       "      <td>Dual Recurrent Attention Units for Visual Ques...</td>\n",
       "      <td>[{'term': 'cs.AI', 'scheme': 'http://arxiv.org...</td>\n",
       "    </tr>\n",
       "    <tr>\n",
       "      <th>1</th>\n",
       "      <td>Sequential Short-Text Classification with Recu...</td>\n",
       "      <td>[{'term': 'cs.CL', 'scheme': 'http://arxiv.org...</td>\n",
       "    </tr>\n",
       "    <tr>\n",
       "      <th>2</th>\n",
       "      <td>Multiresolution Recurrent Neural Networks: An ...</td>\n",
       "      <td>[{'term': 'cs.CL', 'scheme': 'http://arxiv.org...</td>\n",
       "    </tr>\n",
       "    <tr>\n",
       "      <th>3</th>\n",
       "      <td>Learning what to share between loosely related...</td>\n",
       "      <td>[{'term': 'stat.ML', 'scheme': 'http://arxiv.o...</td>\n",
       "    </tr>\n",
       "    <tr>\n",
       "      <th>4</th>\n",
       "      <td>A Deep Reinforcement Learning Chatbot</td>\n",
       "      <td>[{'term': 'cs.CL', 'scheme': 'http://arxiv.org...</td>\n",
       "    </tr>\n",
       "  </tbody>\n",
       "</table>\n",
       "</div>"
      ],
      "text/plain": [
       "                                               title                                                tag\n",
       "0  Dual Recurrent Attention Units for Visual Ques...  [{'term': 'cs.AI', 'scheme': 'http://arxiv.org...\n",
       "1  Sequential Short-Text Classification with Recu...  [{'term': 'cs.CL', 'scheme': 'http://arxiv.org...\n",
       "2  Multiresolution Recurrent Neural Networks: An ...  [{'term': 'cs.CL', 'scheme': 'http://arxiv.org...\n",
       "3  Learning what to share between loosely related...  [{'term': 'stat.ML', 'scheme': 'http://arxiv.o...\n",
       "4              A Deep Reinforcement Learning Chatbot  [{'term': 'cs.CL', 'scheme': 'http://arxiv.org..."
      ]
     },
     "execution_count": 3,
     "metadata": {
      "tags": []
     },
     "output_type": "execute_result"
    }
   ],
   "source": [
    "json_df_short = json_df[['title', 'tag']]\n",
    "json_df_short.head()"
   ]
  },
  {
   "cell_type": "code",
   "execution_count": null,
   "metadata": {
    "colab": {
     "base_uri": "https://localhost:8080/",
     "height": 119
    },
    "colab_type": "code",
    "id": "IKm63JZG0AoE",
    "outputId": "ce463d3f-0e38-421c-e943-ff5d7e723c6b"
   },
   "outputs": [
    {
     "data": {
      "text/plain": [
       "[\"[{'\",\n",
       " \"': 'cs.AI', 'scheme': 'http://arxiv.org/schemas/atom', 'label': None}, {'\",\n",
       " \"': 'cs.CL', 'scheme': 'http://arxiv.org/schemas/atom', 'label': None}, {'\",\n",
       " \"': 'cs.CV', 'scheme': 'http://arxiv.org/schemas/atom', 'label': None}, {'\",\n",
       " \"': 'cs.NE', 'scheme': 'http://arxiv.org/schemas/atom', 'label': None}, {'\",\n",
       " \"': 'stat.ML', 'scheme': 'http://arxiv.org/schemas/atom', 'label': None}]\"]"
      ]
     },
     "execution_count": 4,
     "metadata": {
      "tags": []
     },
     "output_type": "execute_result"
    }
   ],
   "source": [
    "# I was trying go for applying the `split()` method, :()\n",
    "json_df_short['tag'][0].split('term')"
   ]
  },
  {
   "cell_type": "markdown",
   "metadata": {
    "colab_type": "text",
    "id": "N1oLnNcnvfR6"
   },
   "source": [
    "## Start of data preprocessing"
   ]
  },
  {
   "cell_type": "code",
   "execution_count": null,
   "metadata": {
    "colab": {},
    "colab_type": "code",
    "id": "UNU7qNia_a_8"
   },
   "outputs": [],
   "source": [
    "json_df_short['tag'] = json_df_short['tag'].str.replace('[', '')\n",
    "json_df_short['tag'] = json_df_short['tag'].str.replace(']', '')\n",
    "json_df_short['tag'] = json_df_short['tag'].str.replace('{', '')\n",
    "json_df_short['tag'] = json_df_short['tag'].str.replace('}', '')"
   ]
  },
  {
   "cell_type": "code",
   "execution_count": null,
   "metadata": {
    "colab": {
     "base_uri": "https://localhost:8080/",
     "height": 54
    },
    "colab_type": "code",
    "id": "bZhM3WDYgUQT",
    "outputId": "3e9647e3-0891-42c1-9a15-68b413526142"
   },
   "outputs": [
    {
     "data": {
      "text/plain": [
       "\"'term': 'cs.AI', 'scheme': 'http://arxiv.org/schemas/atom', 'label': None, 'term': 'cs.CL', 'scheme': 'http://arxiv.org/schemas/atom', 'label': None, 'term': 'cs.CV', 'scheme': 'http://arxiv.org/schemas/atom', 'label': None, 'term': 'cs.NE', 'scheme': 'http://arxiv.org/schemas/atom', 'label': None, 'term': 'stat.ML', 'scheme': 'http://arxiv.org/schemas/atom', 'label': None\""
      ]
     },
     "execution_count": 6,
     "metadata": {
      "tags": []
     },
     "output_type": "execute_result"
    }
   ],
   "source": [
    "# A sample\n",
    "json_df_short.tag[0]"
   ]
  },
  {
   "cell_type": "markdown",
   "metadata": {
    "colab_type": "text",
    "id": "R2p4Db7FvlNR"
   },
   "source": [
    "Regular expressions are the best-fit here to extract the `term`s from these samples. So, here it goes - "
   ]
  },
  {
   "cell_type": "code",
   "execution_count": null,
   "metadata": {
    "colab": {
     "base_uri": "https://localhost:8080/",
     "height": 34
    },
    "colab_type": "code",
    "id": "jD-3mi5klyPg",
    "outputId": "9137d1c9-c090-426b-957a-11721f1f9e7b"
   },
   "outputs": [
    {
     "data": {
      "text/plain": [
       "[\"'cs.AI'\", \"'cs.CL'\", \"'cs.CV'\", \"'cs.NE'\", \"'stat.ML'\"]"
      ]
     },
     "execution_count": 7,
     "metadata": {
      "tags": []
     },
     "output_type": "execute_result"
    }
   ],
   "source": [
    "re.findall(r\"'[A-Za-z]*\\.[A-Z]*'\", json_df_short.tag[0])"
   ]
  },
  {
   "cell_type": "code",
   "execution_count": null,
   "metadata": {
    "colab": {},
    "colab_type": "code",
    "id": "42fOTsP2n1YU"
   },
   "outputs": [],
   "source": [
    "# A helper function which I will apply on the `tag` column\n",
    "def get_terms(string):\n",
    "    return re.findall(r\"'[A-Za-z]*\\.[A-Z]*'\", string)"
   ]
  },
  {
   "cell_type": "code",
   "execution_count": null,
   "metadata": {
    "colab": {
     "base_uri": "https://localhost:8080/",
     "height": 306
    },
    "colab_type": "code",
    "id": "T0zaNpeZn69k",
    "outputId": "d8d5a351-baae-4726-ab24-ec9fbe3eecb1"
   },
   "outputs": [
    {
     "name": "stderr",
     "output_type": "stream",
     "text": [
      "/usr/local/lib/python3.6/dist-packages/ipykernel_launcher.py:1: SettingWithCopyWarning: \n",
      "A value is trying to be set on a copy of a slice from a DataFrame.\n",
      "Try using .loc[row_indexer,col_indexer] = value instead\n",
      "\n",
      "See the caveats in the documentation: http://pandas.pydata.org/pandas-docs/stable/indexing.html#indexing-view-versus-copy\n",
      "  \"\"\"Entry point for launching an IPython kernel.\n"
     ]
    },
    {
     "data": {
      "text/html": [
       "<div>\n",
       "<style scoped>\n",
       "    .dataframe tbody tr th:only-of-type {\n",
       "        vertical-align: middle;\n",
       "    }\n",
       "\n",
       "    .dataframe tbody tr th {\n",
       "        vertical-align: top;\n",
       "    }\n",
       "\n",
       "    .dataframe thead th {\n",
       "        text-align: right;\n",
       "    }\n",
       "</style>\n",
       "<table border=\"1\" class=\"dataframe\">\n",
       "  <thead>\n",
       "    <tr style=\"text-align: right;\">\n",
       "      <th></th>\n",
       "      <th>title</th>\n",
       "      <th>tag</th>\n",
       "      <th>labels</th>\n",
       "    </tr>\n",
       "  </thead>\n",
       "  <tbody>\n",
       "    <tr>\n",
       "      <th>0</th>\n",
       "      <td>Dual Recurrent Attention Units for Visual Ques...</td>\n",
       "      <td>'term': 'cs.AI', 'scheme': 'http://arxiv.org/s...</td>\n",
       "      <td>['cs.AI', 'cs.CL', 'cs.CV', 'cs.NE', 'stat.ML']</td>\n",
       "    </tr>\n",
       "    <tr>\n",
       "      <th>1</th>\n",
       "      <td>Sequential Short-Text Classification with Recu...</td>\n",
       "      <td>'term': 'cs.CL', 'scheme': 'http://arxiv.org/s...</td>\n",
       "      <td>['cs.CL', 'cs.AI', 'cs.LG', 'cs.NE', 'stat.ML']</td>\n",
       "    </tr>\n",
       "    <tr>\n",
       "      <th>2</th>\n",
       "      <td>Multiresolution Recurrent Neural Networks: An ...</td>\n",
       "      <td>'term': 'cs.CL', 'scheme': 'http://arxiv.org/s...</td>\n",
       "      <td>['cs.CL', 'cs.AI', 'cs.LG', 'cs.NE', 'stat.ML']</td>\n",
       "    </tr>\n",
       "    <tr>\n",
       "      <th>3</th>\n",
       "      <td>Learning what to share between loosely related...</td>\n",
       "      <td>'term': 'stat.ML', 'scheme': 'http://arxiv.org...</td>\n",
       "      <td>['stat.ML', 'cs.AI', 'cs.CL', 'cs.LG', 'cs.NE']</td>\n",
       "    </tr>\n",
       "    <tr>\n",
       "      <th>4</th>\n",
       "      <td>A Deep Reinforcement Learning Chatbot</td>\n",
       "      <td>'term': 'cs.CL', 'scheme': 'http://arxiv.org/s...</td>\n",
       "      <td>['cs.CL', 'cs.AI', 'cs.LG', 'cs.NE', 'stat.ML']</td>\n",
       "    </tr>\n",
       "  </tbody>\n",
       "</table>\n",
       "</div>"
      ],
      "text/plain": [
       "                                               title  ...                                           labels\n",
       "0  Dual Recurrent Attention Units for Visual Ques...  ...  ['cs.AI', 'cs.CL', 'cs.CV', 'cs.NE', 'stat.ML']\n",
       "1  Sequential Short-Text Classification with Recu...  ...  ['cs.CL', 'cs.AI', 'cs.LG', 'cs.NE', 'stat.ML']\n",
       "2  Multiresolution Recurrent Neural Networks: An ...  ...  ['cs.CL', 'cs.AI', 'cs.LG', 'cs.NE', 'stat.ML']\n",
       "3  Learning what to share between loosely related...  ...  ['stat.ML', 'cs.AI', 'cs.CL', 'cs.LG', 'cs.NE']\n",
       "4              A Deep Reinforcement Learning Chatbot  ...  ['cs.CL', 'cs.AI', 'cs.LG', 'cs.NE', 'stat.ML']\n",
       "\n",
       "[5 rows x 3 columns]"
      ]
     },
     "execution_count": 9,
     "metadata": {
      "tags": []
     },
     "output_type": "execute_result"
    }
   ],
   "source": [
    "# Voila!\n",
    "json_df_short['labels'] = json_df_short['tag'].apply(get_terms)\n",
    "json_df_short.head()"
   ]
  },
  {
   "cell_type": "markdown",
   "metadata": {
    "colab_type": "text",
    "id": "aHzUt9wQv3Hm"
   },
   "source": [
    "## Data serialization"
   ]
  },
  {
   "cell_type": "code",
   "execution_count": null,
   "metadata": {
    "colab": {
     "base_uri": "https://localhost:8080/",
     "height": 102
    },
    "colab_type": "code",
    "id": "NXE2eW2Sv2R2",
    "outputId": "bdf8ac48-eb52-4198-8453-58d525e6e0e6"
   },
   "outputs": [
    {
     "name": "stderr",
     "output_type": "stream",
     "text": [
      "/usr/local/lib/python3.6/dist-packages/pandas/core/frame.py:3940: SettingWithCopyWarning: \n",
      "A value is trying to be set on a copy of a slice from a DataFrame\n",
      "\n",
      "See the caveats in the documentation: http://pandas.pydata.org/pandas-docs/stable/indexing.html#indexing-view-versus-copy\n",
      "  errors=errors)\n"
     ]
    }
   ],
   "source": [
    "json_df_short.drop('tag', axis=1, inplace=True)\n",
    "json_df_short.to_csv('data/arXivdata.csv', index=False)"
   ]
  },
  {
   "cell_type": "code",
   "execution_count": null,
   "metadata": {
    "colab": {
     "base_uri": "https://localhost:8080/",
     "height": 204
    },
    "colab_type": "code",
    "id": "-GeRS0towNJn",
    "outputId": "55e18f13-de20-43de-d306-053c9e5df64d"
   },
   "outputs": [
    {
     "data": {
      "text/html": [
       "<div>\n",
       "<style scoped>\n",
       "    .dataframe tbody tr th:only-of-type {\n",
       "        vertical-align: middle;\n",
       "    }\n",
       "\n",
       "    .dataframe tbody tr th {\n",
       "        vertical-align: top;\n",
       "    }\n",
       "\n",
       "    .dataframe thead th {\n",
       "        text-align: right;\n",
       "    }\n",
       "</style>\n",
       "<table border=\"1\" class=\"dataframe\">\n",
       "  <thead>\n",
       "    <tr style=\"text-align: right;\">\n",
       "      <th></th>\n",
       "      <th>title</th>\n",
       "      <th>labels</th>\n",
       "    </tr>\n",
       "  </thead>\n",
       "  <tbody>\n",
       "    <tr>\n",
       "      <th>0</th>\n",
       "      <td>Dual Recurrent Attention Units for Visual Ques...</td>\n",
       "      <td>[\"'cs.AI'\", \"'cs.CL'\", \"'cs.CV'\", \"'cs.NE'\", \"...</td>\n",
       "    </tr>\n",
       "    <tr>\n",
       "      <th>1</th>\n",
       "      <td>Sequential Short-Text Classification with Recu...</td>\n",
       "      <td>[\"'cs.CL'\", \"'cs.AI'\", \"'cs.LG'\", \"'cs.NE'\", \"...</td>\n",
       "    </tr>\n",
       "    <tr>\n",
       "      <th>2</th>\n",
       "      <td>Multiresolution Recurrent Neural Networks: An ...</td>\n",
       "      <td>[\"'cs.CL'\", \"'cs.AI'\", \"'cs.LG'\", \"'cs.NE'\", \"...</td>\n",
       "    </tr>\n",
       "    <tr>\n",
       "      <th>3</th>\n",
       "      <td>Learning what to share between loosely related...</td>\n",
       "      <td>[\"'stat.ML'\", \"'cs.AI'\", \"'cs.CL'\", \"'cs.LG'\",...</td>\n",
       "    </tr>\n",
       "    <tr>\n",
       "      <th>4</th>\n",
       "      <td>A Deep Reinforcement Learning Chatbot</td>\n",
       "      <td>[\"'cs.CL'\", \"'cs.AI'\", \"'cs.LG'\", \"'cs.NE'\", \"...</td>\n",
       "    </tr>\n",
       "  </tbody>\n",
       "</table>\n",
       "</div>"
      ],
      "text/plain": [
       "                                               title                                             labels\n",
       "0  Dual Recurrent Attention Units for Visual Ques...  [\"'cs.AI'\", \"'cs.CL'\", \"'cs.CV'\", \"'cs.NE'\", \"...\n",
       "1  Sequential Short-Text Classification with Recu...  [\"'cs.CL'\", \"'cs.AI'\", \"'cs.LG'\", \"'cs.NE'\", \"...\n",
       "2  Multiresolution Recurrent Neural Networks: An ...  [\"'cs.CL'\", \"'cs.AI'\", \"'cs.LG'\", \"'cs.NE'\", \"...\n",
       "3  Learning what to share between loosely related...  [\"'stat.ML'\", \"'cs.AI'\", \"'cs.CL'\", \"'cs.LG'\",...\n",
       "4              A Deep Reinforcement Learning Chatbot  [\"'cs.CL'\", \"'cs.AI'\", \"'cs.LG'\", \"'cs.NE'\", \"..."
      ]
     },
     "execution_count": 11,
     "metadata": {
      "tags": []
     },
     "output_type": "execute_result"
    }
   ],
   "source": [
    "pd.read_csv('data/arXivdata.csv').head()"
   ]
  }
 ],
 "metadata": {
  "accelerator": "GPU",
  "colab": {
   "collapsed_sections": [],
   "include_colab_link": true,
   "name": "Data gathering - arXiv tags.ipynb",
   "provenance": [],
   "version": "0.3.2"
  },
  "kernelspec": {
   "display_name": "Python 3",
   "language": "python",
   "name": "python3"
  },
  "language_info": {
   "codemirror_mode": {
    "name": "ipython",
    "version": 3
   },
   "file_extension": ".py",
   "mimetype": "text/x-python",
   "name": "python",
   "nbconvert_exporter": "python",
   "pygments_lexer": "ipython3",
   "version": "3.5.3"
  }
 },
 "nbformat": 4,
 "nbformat_minor": 4
}
