{
  "nbformat": 4,
  "nbformat_minor": 0,
  "metadata": {
    "colab": {
      "name": "Data preparation - arXiv tags.ipynb",
      "version": "0.3.2",
      "provenance": [],
      "collapsed_sections": []
    },
    "kernelspec": {
      "name": "python3",
      "display_name": "Python 3"
    },
    "accelerator": "GPU"
  },
  "cells": [
    {
      "cell_type": "markdown",
      "metadata": {
        "id": "3u44EeMYo3q9",
        "colab_type": "text"
      },
      "source": [
        "[arXiv](https://arxiv.org) is one of the greatest things ever happened to mankind, I believe. We are living in a time where data is available in abundance, we just need to turn the right knobs to make it speak for itself. Being a machine learning engineer, most of my time is spent with data and models and I am quite happy with it. \n",
        "\n",
        "Since, arXiv is one of the inseparable parts of our lives (be it a data scientist, be it a machine learning engineer, research the list goes on). So, I always wanted to do something interesting with the data arXiv has in its store beside the life-changing papers. Earlier, the scene was - we had a problem statement, but we did not have the data. Now it has reversed. Thinking of a machine learning suitable problem statement is not trivial (offenders, please take a look [here](https://developers.google.com/machine-learning/problem-framing/)). \n",
        "\n",
        "I had this dataset - [ARXIV data from 24,000+ papers](https://www.kaggle.com/neelshah18/arxivdataset). This dataset contains all paper related to ML, CL, NER, AI and CV field publish between 1992 to February 2018. The dataset is in `json` format but when it is loaded as a `pandas` DataFrame, it looks something like so - \n",
        "\n",
        "![](https://i.ibb.co/rfb1pxH/Screen-Shot-2019-09-07-at-5-51-20-PM.png)\n",
        "\n",
        "The column names are self-explanatory. The `day`, `month` and `year` columns collectively form the date of publication of the paper. The `tag` column denotes the category(s) of the paper. I decided to form a problem statement like - \n",
        "\n",
        "> Can a machine (code, essentially) automatically generate the categories just by taking a look at the title of a paper? \n",
        "\n",
        "The problem statement hit me hard and I decided to dive all in. First, I had to decide on which features I would need for solving the problem. Naturally, the features would be - `title` and `tag`. Given the **title** of a paper, the machine will have to predict its tag. Now, if we take a closer look at a value of `tag`, it looks like so - \n",
        "\n",
        "```\n",
        "\"'term': 'cs.AI', 'scheme': 'http://arxiv.org/schemas/atom', 'label': None, 'term': 'cs.CL', 'scheme': 'http://arxiv.org/schemas/atom', 'label': None, 'term': 'cs.CV', 'scheme': 'http://arxiv.org/schemas/atom', 'label': None, 'term': 'cs.NE', 'scheme': 'http://arxiv.org/schemas/atom', 'label': None, 'term': 'stat.ML', 'scheme': 'http://arxiv.org/schemas/atom', 'label': None\"\n",
        "```\n",
        "\n",
        "The `term` is exactly what I was looking for. It denotes the category(s) more specifically. So, the next challenge was to extract the term(s) of each of the paper and assign them accordingly. So, the problem now becomes - \n",
        "\n",
        "> Upon seeing the title of a paper, can a machine predict the `term`(s)? \n",
        "\n",
        "In machine learning literature, this can be modeled *as a **multi-label** text classification problem*. Multi-label because a paper can be associated with more than one categories. \n",
        "\n",
        "In this notebook, the following tasks are performed - \n",
        "- Data loading\n",
        "- Data preprocessing and deriving the desired form\n",
        "- Data serialization"
      ]
    },
    {
      "cell_type": "code",
      "metadata": {
        "id": "86_7opfvmkYr",
        "colab_type": "code",
        "colab": {}
      },
      "source": [
        "!unzip arxivdataset.zip"
      ],
      "execution_count": 0,
      "outputs": []
    },
    {
      "cell_type": "markdown",
      "metadata": {
        "id": "ZKZZpGlzvMmo",
        "colab_type": "text"
      },
      "source": [
        "## Imports"
      ]
    },
    {
      "cell_type": "code",
      "metadata": {
        "id": "3GGztiAkn_Ct",
        "colab_type": "code",
        "colab": {}
      },
      "source": [
        "import matplotlib.pyplot as plt\n",
        "import pandas as pd\n",
        "import numpy as np\n",
        "import json \n",
        "import re"
      ],
      "execution_count": 0,
      "outputs": []
    },
    {
      "cell_type": "markdown",
      "metadata": {
        "id": "4FZAOKXFvOUE",
        "colab_type": "text"
      },
      "source": [
        "## Data loading"
      ]
    },
    {
      "cell_type": "code",
      "metadata": {
        "id": "O3bnJxdjuv3e",
        "colab_type": "code",
        "colab": {
          "base_uri": "https://localhost:8080/",
          "height": 289
        },
        "outputId": "7b4ab846-42fd-4b1a-e14f-7fd6ef62fd07"
      },
      "source": [
        "json_df = pd.read_json('arxivData.json')\n",
        "json_df.head()"
      ],
      "execution_count": 2,
      "outputs": [
        {
          "output_type": "execute_result",
          "data": {
            "text/html": [
              "<div>\n",
              "<style scoped>\n",
              "    .dataframe tbody tr th:only-of-type {\n",
              "        vertical-align: middle;\n",
              "    }\n",
              "\n",
              "    .dataframe tbody tr th {\n",
              "        vertical-align: top;\n",
              "    }\n",
              "\n",
              "    .dataframe thead th {\n",
              "        text-align: right;\n",
              "    }\n",
              "</style>\n",
              "<table border=\"1\" class=\"dataframe\">\n",
              "  <thead>\n",
              "    <tr style=\"text-align: right;\">\n",
              "      <th></th>\n",
              "      <th>author</th>\n",
              "      <th>day</th>\n",
              "      <th>id</th>\n",
              "      <th>link</th>\n",
              "      <th>month</th>\n",
              "      <th>summary</th>\n",
              "      <th>tag</th>\n",
              "      <th>title</th>\n",
              "      <th>year</th>\n",
              "    </tr>\n",
              "  </thead>\n",
              "  <tbody>\n",
              "    <tr>\n",
              "      <th>0</th>\n",
              "      <td>[{'name': 'Ahmed Osman'}, {'name': 'Wojciech S...</td>\n",
              "      <td>1</td>\n",
              "      <td>1802.00209v1</td>\n",
              "      <td>[{'rel': 'alternate', 'href': 'http://arxiv.or...</td>\n",
              "      <td>2</td>\n",
              "      <td>We propose an architecture for VQA which utili...</td>\n",
              "      <td>[{'term': 'cs.AI', 'scheme': 'http://arxiv.org...</td>\n",
              "      <td>Dual Recurrent Attention Units for Visual Ques...</td>\n",
              "      <td>2018</td>\n",
              "    </tr>\n",
              "    <tr>\n",
              "      <th>1</th>\n",
              "      <td>[{'name': 'Ji Young Lee'}, {'name': 'Franck De...</td>\n",
              "      <td>12</td>\n",
              "      <td>1603.03827v1</td>\n",
              "      <td>[{'rel': 'alternate', 'href': 'http://arxiv.or...</td>\n",
              "      <td>3</td>\n",
              "      <td>Recent approaches based on artificial neural n...</td>\n",
              "      <td>[{'term': 'cs.CL', 'scheme': 'http://arxiv.org...</td>\n",
              "      <td>Sequential Short-Text Classification with Recu...</td>\n",
              "      <td>2016</td>\n",
              "    </tr>\n",
              "    <tr>\n",
              "      <th>2</th>\n",
              "      <td>[{'name': 'Iulian Vlad Serban'}, {'name': 'Tim...</td>\n",
              "      <td>2</td>\n",
              "      <td>1606.00776v2</td>\n",
              "      <td>[{'rel': 'alternate', 'href': 'http://arxiv.or...</td>\n",
              "      <td>6</td>\n",
              "      <td>We introduce the multiresolution recurrent neu...</td>\n",
              "      <td>[{'term': 'cs.CL', 'scheme': 'http://arxiv.org...</td>\n",
              "      <td>Multiresolution Recurrent Neural Networks: An ...</td>\n",
              "      <td>2016</td>\n",
              "    </tr>\n",
              "    <tr>\n",
              "      <th>3</th>\n",
              "      <td>[{'name': 'Sebastian Ruder'}, {'name': 'Joachi...</td>\n",
              "      <td>23</td>\n",
              "      <td>1705.08142v2</td>\n",
              "      <td>[{'rel': 'alternate', 'href': 'http://arxiv.or...</td>\n",
              "      <td>5</td>\n",
              "      <td>Multi-task learning is motivated by the observ...</td>\n",
              "      <td>[{'term': 'stat.ML', 'scheme': 'http://arxiv.o...</td>\n",
              "      <td>Learning what to share between loosely related...</td>\n",
              "      <td>2017</td>\n",
              "    </tr>\n",
              "    <tr>\n",
              "      <th>4</th>\n",
              "      <td>[{'name': 'Iulian V. Serban'}, {'name': 'Chinn...</td>\n",
              "      <td>7</td>\n",
              "      <td>1709.02349v2</td>\n",
              "      <td>[{'rel': 'alternate', 'href': 'http://arxiv.or...</td>\n",
              "      <td>9</td>\n",
              "      <td>We present MILABOT: a deep reinforcement learn...</td>\n",
              "      <td>[{'term': 'cs.CL', 'scheme': 'http://arxiv.org...</td>\n",
              "      <td>A Deep Reinforcement Learning Chatbot</td>\n",
              "      <td>2017</td>\n",
              "    </tr>\n",
              "  </tbody>\n",
              "</table>\n",
              "</div>"
            ],
            "text/plain": [
              "                                              author  ...  year\n",
              "0  [{'name': 'Ahmed Osman'}, {'name': 'Wojciech S...  ...  2018\n",
              "1  [{'name': 'Ji Young Lee'}, {'name': 'Franck De...  ...  2016\n",
              "2  [{'name': 'Iulian Vlad Serban'}, {'name': 'Tim...  ...  2016\n",
              "3  [{'name': 'Sebastian Ruder'}, {'name': 'Joachi...  ...  2017\n",
              "4  [{'name': 'Iulian V. Serban'}, {'name': 'Chinn...  ...  2017\n",
              "\n",
              "[5 rows x 9 columns]"
            ]
          },
          "metadata": {
            "tags": []
          },
          "execution_count": 2
        }
      ]
    },
    {
      "cell_type": "markdown",
      "metadata": {
        "id": "AuU9iT_FvQA8",
        "colab_type": "text"
      },
      "source": [
        "## Columns of interest"
      ]
    },
    {
      "cell_type": "code",
      "metadata": {
        "id": "fMVb1dGtwB86",
        "colab_type": "code",
        "colab": {
          "base_uri": "https://localhost:8080/",
          "height": 204
        },
        "outputId": "ef7323f1-3183-4f3d-e4c5-2961294fc1aa"
      },
      "source": [
        "json_df_short = json_df[['title', 'tag']]\n",
        "json_df_short.head()"
      ],
      "execution_count": 3,
      "outputs": [
        {
          "output_type": "execute_result",
          "data": {
            "text/html": [
              "<div>\n",
              "<style scoped>\n",
              "    .dataframe tbody tr th:only-of-type {\n",
              "        vertical-align: middle;\n",
              "    }\n",
              "\n",
              "    .dataframe tbody tr th {\n",
              "        vertical-align: top;\n",
              "    }\n",
              "\n",
              "    .dataframe thead th {\n",
              "        text-align: right;\n",
              "    }\n",
              "</style>\n",
              "<table border=\"1\" class=\"dataframe\">\n",
              "  <thead>\n",
              "    <tr style=\"text-align: right;\">\n",
              "      <th></th>\n",
              "      <th>title</th>\n",
              "      <th>tag</th>\n",
              "    </tr>\n",
              "  </thead>\n",
              "  <tbody>\n",
              "    <tr>\n",
              "      <th>0</th>\n",
              "      <td>Dual Recurrent Attention Units for Visual Ques...</td>\n",
              "      <td>[{'term': 'cs.AI', 'scheme': 'http://arxiv.org...</td>\n",
              "    </tr>\n",
              "    <tr>\n",
              "      <th>1</th>\n",
              "      <td>Sequential Short-Text Classification with Recu...</td>\n",
              "      <td>[{'term': 'cs.CL', 'scheme': 'http://arxiv.org...</td>\n",
              "    </tr>\n",
              "    <tr>\n",
              "      <th>2</th>\n",
              "      <td>Multiresolution Recurrent Neural Networks: An ...</td>\n",
              "      <td>[{'term': 'cs.CL', 'scheme': 'http://arxiv.org...</td>\n",
              "    </tr>\n",
              "    <tr>\n",
              "      <th>3</th>\n",
              "      <td>Learning what to share between loosely related...</td>\n",
              "      <td>[{'term': 'stat.ML', 'scheme': 'http://arxiv.o...</td>\n",
              "    </tr>\n",
              "    <tr>\n",
              "      <th>4</th>\n",
              "      <td>A Deep Reinforcement Learning Chatbot</td>\n",
              "      <td>[{'term': 'cs.CL', 'scheme': 'http://arxiv.org...</td>\n",
              "    </tr>\n",
              "  </tbody>\n",
              "</table>\n",
              "</div>"
            ],
            "text/plain": [
              "                                               title                                                tag\n",
              "0  Dual Recurrent Attention Units for Visual Ques...  [{'term': 'cs.AI', 'scheme': 'http://arxiv.org...\n",
              "1  Sequential Short-Text Classification with Recu...  [{'term': 'cs.CL', 'scheme': 'http://arxiv.org...\n",
              "2  Multiresolution Recurrent Neural Networks: An ...  [{'term': 'cs.CL', 'scheme': 'http://arxiv.org...\n",
              "3  Learning what to share between loosely related...  [{'term': 'stat.ML', 'scheme': 'http://arxiv.o...\n",
              "4              A Deep Reinforcement Learning Chatbot  [{'term': 'cs.CL', 'scheme': 'http://arxiv.org..."
            ]
          },
          "metadata": {
            "tags": []
          },
          "execution_count": 3
        }
      ]
    },
    {
      "cell_type": "code",
      "metadata": {
        "id": "IKm63JZG0AoE",
        "colab_type": "code",
        "colab": {
          "base_uri": "https://localhost:8080/",
          "height": 119
        },
        "outputId": "ce463d3f-0e38-421c-e943-ff5d7e723c6b"
      },
      "source": [
        "# I was trying go for applying the `split()` method, :()\n",
        "json_df_short['tag'][0].split('term')"
      ],
      "execution_count": 4,
      "outputs": [
        {
          "output_type": "execute_result",
          "data": {
            "text/plain": [
              "[\"[{'\",\n",
              " \"': 'cs.AI', 'scheme': 'http://arxiv.org/schemas/atom', 'label': None}, {'\",\n",
              " \"': 'cs.CL', 'scheme': 'http://arxiv.org/schemas/atom', 'label': None}, {'\",\n",
              " \"': 'cs.CV', 'scheme': 'http://arxiv.org/schemas/atom', 'label': None}, {'\",\n",
              " \"': 'cs.NE', 'scheme': 'http://arxiv.org/schemas/atom', 'label': None}, {'\",\n",
              " \"': 'stat.ML', 'scheme': 'http://arxiv.org/schemas/atom', 'label': None}]\"]"
            ]
          },
          "metadata": {
            "tags": []
          },
          "execution_count": 4
        }
      ]
    },
    {
      "cell_type": "markdown",
      "metadata": {
        "id": "N1oLnNcnvfR6",
        "colab_type": "text"
      },
      "source": [
        "## Start of data preprocessing"
      ]
    },
    {
      "cell_type": "code",
      "metadata": {
        "id": "UNU7qNia_a_8",
        "colab_type": "code",
        "colab": {}
      },
      "source": [
        "json_df_short['tag'] = json_df_short['tag'].str.replace('[', '')\n",
        "json_df_short['tag'] = json_df_short['tag'].str.replace(']', '')\n",
        "json_df_short['tag'] = json_df_short['tag'].str.replace('{', '')\n",
        "json_df_short['tag'] = json_df_short['tag'].str.replace('}', '')"
      ],
      "execution_count": 0,
      "outputs": []
    },
    {
      "cell_type": "code",
      "metadata": {
        "id": "bZhM3WDYgUQT",
        "colab_type": "code",
        "colab": {
          "base_uri": "https://localhost:8080/",
          "height": 54
        },
        "outputId": "3e9647e3-0891-42c1-9a15-68b413526142"
      },
      "source": [
        "# A sample\n",
        "json_df_short.tag[0]"
      ],
      "execution_count": 6,
      "outputs": [
        {
          "output_type": "execute_result",
          "data": {
            "text/plain": [
              "\"'term': 'cs.AI', 'scheme': 'http://arxiv.org/schemas/atom', 'label': None, 'term': 'cs.CL', 'scheme': 'http://arxiv.org/schemas/atom', 'label': None, 'term': 'cs.CV', 'scheme': 'http://arxiv.org/schemas/atom', 'label': None, 'term': 'cs.NE', 'scheme': 'http://arxiv.org/schemas/atom', 'label': None, 'term': 'stat.ML', 'scheme': 'http://arxiv.org/schemas/atom', 'label': None\""
            ]
          },
          "metadata": {
            "tags": []
          },
          "execution_count": 6
        }
      ]
    },
    {
      "cell_type": "markdown",
      "metadata": {
        "id": "R2p4Db7FvlNR",
        "colab_type": "text"
      },
      "source": [
        "Regular expressions are the best-fit here to extract the `term`s from these samples. So, here it goes - "
      ]
    },
    {
      "cell_type": "code",
      "metadata": {
        "id": "jD-3mi5klyPg",
        "colab_type": "code",
        "colab": {
          "base_uri": "https://localhost:8080/",
          "height": 34
        },
        "outputId": "9137d1c9-c090-426b-957a-11721f1f9e7b"
      },
      "source": [
        "re.findall(r\"'[A-Za-z]*\\.[A-Z]*'\", json_df_short.tag[0])"
      ],
      "execution_count": 7,
      "outputs": [
        {
          "output_type": "execute_result",
          "data": {
            "text/plain": [
              "[\"'cs.AI'\", \"'cs.CL'\", \"'cs.CV'\", \"'cs.NE'\", \"'stat.ML'\"]"
            ]
          },
          "metadata": {
            "tags": []
          },
          "execution_count": 7
        }
      ]
    },
    {
      "cell_type": "code",
      "metadata": {
        "id": "42fOTsP2n1YU",
        "colab_type": "code",
        "colab": {}
      },
      "source": [
        "# A helper function which I will apply on the `tag` column\n",
        "def get_terms(string):\n",
        "    return re.findall(r\"'[A-Za-z]*\\.[A-Z]*'\", string)"
      ],
      "execution_count": 0,
      "outputs": []
    },
    {
      "cell_type": "code",
      "metadata": {
        "id": "T0zaNpeZn69k",
        "colab_type": "code",
        "colab": {
          "base_uri": "https://localhost:8080/",
          "height": 306
        },
        "outputId": "d8d5a351-baae-4726-ab24-ec9fbe3eecb1"
      },
      "source": [
        "# Voila!\n",
        "json_df_short['labels'] = json_df_short['tag'].apply(get_terms)\n",
        "json_df_short.head()"
      ],
      "execution_count": 9,
      "outputs": [
        {
          "output_type": "stream",
          "text": [
            "/usr/local/lib/python3.6/dist-packages/ipykernel_launcher.py:1: SettingWithCopyWarning: \n",
            "A value is trying to be set on a copy of a slice from a DataFrame.\n",
            "Try using .loc[row_indexer,col_indexer] = value instead\n",
            "\n",
            "See the caveats in the documentation: http://pandas.pydata.org/pandas-docs/stable/indexing.html#indexing-view-versus-copy\n",
            "  \"\"\"Entry point for launching an IPython kernel.\n"
          ],
          "name": "stderr"
        },
        {
          "output_type": "execute_result",
          "data": {
            "text/html": [
              "<div>\n",
              "<style scoped>\n",
              "    .dataframe tbody tr th:only-of-type {\n",
              "        vertical-align: middle;\n",
              "    }\n",
              "\n",
              "    .dataframe tbody tr th {\n",
              "        vertical-align: top;\n",
              "    }\n",
              "\n",
              "    .dataframe thead th {\n",
              "        text-align: right;\n",
              "    }\n",
              "</style>\n",
              "<table border=\"1\" class=\"dataframe\">\n",
              "  <thead>\n",
              "    <tr style=\"text-align: right;\">\n",
              "      <th></th>\n",
              "      <th>title</th>\n",
              "      <th>tag</th>\n",
              "      <th>labels</th>\n",
              "    </tr>\n",
              "  </thead>\n",
              "  <tbody>\n",
              "    <tr>\n",
              "      <th>0</th>\n",
              "      <td>Dual Recurrent Attention Units for Visual Ques...</td>\n",
              "      <td>'term': 'cs.AI', 'scheme': 'http://arxiv.org/s...</td>\n",
              "      <td>['cs.AI', 'cs.CL', 'cs.CV', 'cs.NE', 'stat.ML']</td>\n",
              "    </tr>\n",
              "    <tr>\n",
              "      <th>1</th>\n",
              "      <td>Sequential Short-Text Classification with Recu...</td>\n",
              "      <td>'term': 'cs.CL', 'scheme': 'http://arxiv.org/s...</td>\n",
              "      <td>['cs.CL', 'cs.AI', 'cs.LG', 'cs.NE', 'stat.ML']</td>\n",
              "    </tr>\n",
              "    <tr>\n",
              "      <th>2</th>\n",
              "      <td>Multiresolution Recurrent Neural Networks: An ...</td>\n",
              "      <td>'term': 'cs.CL', 'scheme': 'http://arxiv.org/s...</td>\n",
              "      <td>['cs.CL', 'cs.AI', 'cs.LG', 'cs.NE', 'stat.ML']</td>\n",
              "    </tr>\n",
              "    <tr>\n",
              "      <th>3</th>\n",
              "      <td>Learning what to share between loosely related...</td>\n",
              "      <td>'term': 'stat.ML', 'scheme': 'http://arxiv.org...</td>\n",
              "      <td>['stat.ML', 'cs.AI', 'cs.CL', 'cs.LG', 'cs.NE']</td>\n",
              "    </tr>\n",
              "    <tr>\n",
              "      <th>4</th>\n",
              "      <td>A Deep Reinforcement Learning Chatbot</td>\n",
              "      <td>'term': 'cs.CL', 'scheme': 'http://arxiv.org/s...</td>\n",
              "      <td>['cs.CL', 'cs.AI', 'cs.LG', 'cs.NE', 'stat.ML']</td>\n",
              "    </tr>\n",
              "  </tbody>\n",
              "</table>\n",
              "</div>"
            ],
            "text/plain": [
              "                                               title  ...                                           labels\n",
              "0  Dual Recurrent Attention Units for Visual Ques...  ...  ['cs.AI', 'cs.CL', 'cs.CV', 'cs.NE', 'stat.ML']\n",
              "1  Sequential Short-Text Classification with Recu...  ...  ['cs.CL', 'cs.AI', 'cs.LG', 'cs.NE', 'stat.ML']\n",
              "2  Multiresolution Recurrent Neural Networks: An ...  ...  ['cs.CL', 'cs.AI', 'cs.LG', 'cs.NE', 'stat.ML']\n",
              "3  Learning what to share between loosely related...  ...  ['stat.ML', 'cs.AI', 'cs.CL', 'cs.LG', 'cs.NE']\n",
              "4              A Deep Reinforcement Learning Chatbot  ...  ['cs.CL', 'cs.AI', 'cs.LG', 'cs.NE', 'stat.ML']\n",
              "\n",
              "[5 rows x 3 columns]"
            ]
          },
          "metadata": {
            "tags": []
          },
          "execution_count": 9
        }
      ]
    },
    {
      "cell_type": "markdown",
      "metadata": {
        "id": "aHzUt9wQv3Hm",
        "colab_type": "text"
      },
      "source": [
        "## Data serialization"
      ]
    },
    {
      "cell_type": "code",
      "metadata": {
        "id": "NXE2eW2Sv2R2",
        "colab_type": "code",
        "colab": {
          "base_uri": "https://localhost:8080/",
          "height": 102
        },
        "outputId": "bdf8ac48-eb52-4198-8453-58d525e6e0e6"
      },
      "source": [
        "json_df_short.drop('tag', axis=1, inplace=True)\n",
        "json_df_short.to_csv('arXivdata.csv', index=False)"
      ],
      "execution_count": 10,
      "outputs": [
        {
          "output_type": "stream",
          "text": [
            "/usr/local/lib/python3.6/dist-packages/pandas/core/frame.py:3940: SettingWithCopyWarning: \n",
            "A value is trying to be set on a copy of a slice from a DataFrame\n",
            "\n",
            "See the caveats in the documentation: http://pandas.pydata.org/pandas-docs/stable/indexing.html#indexing-view-versus-copy\n",
            "  errors=errors)\n"
          ],
          "name": "stderr"
        }
      ]
    },
    {
      "cell_type": "code",
      "metadata": {
        "id": "-GeRS0towNJn",
        "colab_type": "code",
        "colab": {
          "base_uri": "https://localhost:8080/",
          "height": 204
        },
        "outputId": "55e18f13-de20-43de-d306-053c9e5df64d"
      },
      "source": [
        "pd.read_csv('arXivdata.csv').head()"
      ],
      "execution_count": 11,
      "outputs": [
        {
          "output_type": "execute_result",
          "data": {
            "text/html": [
              "<div>\n",
              "<style scoped>\n",
              "    .dataframe tbody tr th:only-of-type {\n",
              "        vertical-align: middle;\n",
              "    }\n",
              "\n",
              "    .dataframe tbody tr th {\n",
              "        vertical-align: top;\n",
              "    }\n",
              "\n",
              "    .dataframe thead th {\n",
              "        text-align: right;\n",
              "    }\n",
              "</style>\n",
              "<table border=\"1\" class=\"dataframe\">\n",
              "  <thead>\n",
              "    <tr style=\"text-align: right;\">\n",
              "      <th></th>\n",
              "      <th>title</th>\n",
              "      <th>labels</th>\n",
              "    </tr>\n",
              "  </thead>\n",
              "  <tbody>\n",
              "    <tr>\n",
              "      <th>0</th>\n",
              "      <td>Dual Recurrent Attention Units for Visual Ques...</td>\n",
              "      <td>[\"'cs.AI'\", \"'cs.CL'\", \"'cs.CV'\", \"'cs.NE'\", \"...</td>\n",
              "    </tr>\n",
              "    <tr>\n",
              "      <th>1</th>\n",
              "      <td>Sequential Short-Text Classification with Recu...</td>\n",
              "      <td>[\"'cs.CL'\", \"'cs.AI'\", \"'cs.LG'\", \"'cs.NE'\", \"...</td>\n",
              "    </tr>\n",
              "    <tr>\n",
              "      <th>2</th>\n",
              "      <td>Multiresolution Recurrent Neural Networks: An ...</td>\n",
              "      <td>[\"'cs.CL'\", \"'cs.AI'\", \"'cs.LG'\", \"'cs.NE'\", \"...</td>\n",
              "    </tr>\n",
              "    <tr>\n",
              "      <th>3</th>\n",
              "      <td>Learning what to share between loosely related...</td>\n",
              "      <td>[\"'stat.ML'\", \"'cs.AI'\", \"'cs.CL'\", \"'cs.LG'\",...</td>\n",
              "    </tr>\n",
              "    <tr>\n",
              "      <th>4</th>\n",
              "      <td>A Deep Reinforcement Learning Chatbot</td>\n",
              "      <td>[\"'cs.CL'\", \"'cs.AI'\", \"'cs.LG'\", \"'cs.NE'\", \"...</td>\n",
              "    </tr>\n",
              "  </tbody>\n",
              "</table>\n",
              "</div>"
            ],
            "text/plain": [
              "                                               title                                             labels\n",
              "0  Dual Recurrent Attention Units for Visual Ques...  [\"'cs.AI'\", \"'cs.CL'\", \"'cs.CV'\", \"'cs.NE'\", \"...\n",
              "1  Sequential Short-Text Classification with Recu...  [\"'cs.CL'\", \"'cs.AI'\", \"'cs.LG'\", \"'cs.NE'\", \"...\n",
              "2  Multiresolution Recurrent Neural Networks: An ...  [\"'cs.CL'\", \"'cs.AI'\", \"'cs.LG'\", \"'cs.NE'\", \"...\n",
              "3  Learning what to share between loosely related...  [\"'stat.ML'\", \"'cs.AI'\", \"'cs.CL'\", \"'cs.LG'\",...\n",
              "4              A Deep Reinforcement Learning Chatbot  [\"'cs.CL'\", \"'cs.AI'\", \"'cs.LG'\", \"'cs.NE'\", \"..."
            ]
          },
          "metadata": {
            "tags": []
          },
          "execution_count": 11
        }
      ]
    },
    {
      "cell_type": "markdown",
      "metadata": {
        "id": "TNAQfd9gxzvI",
        "colab_type": "text"
      },
      "source": [
        "I will need to escape the double quotes from the labels but I will handle this in the model building notebook."
      ]
    }
  ]
}