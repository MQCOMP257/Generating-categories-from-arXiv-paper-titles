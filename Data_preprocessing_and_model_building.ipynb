{
  "nbformat": 4,
  "nbformat_minor": 0,
  "metadata": {
    "accelerator": "GPU",
    "colab": {
      "name": "Data_preprocessing_and_model_building.ipynb",
      "provenance": [],
      "private_outputs": true,
      "collapsed_sections": [],
      "include_colab_link": true
    },
    "kernelspec": {
      "name": "python3",
      "display_name": "Python 3"
    },
    "language_info": {
      "codemirror_mode": {
        "name": "ipython",
        "version": 3
      },
      "file_extension": ".py",
      "mimetype": "text/x-python",
      "name": "python",
      "nbconvert_exporter": "python",
      "pygments_lexer": "ipython3",
      "version": "3.6.5"
    }
  },
  "cells": [
    {
      "cell_type": "markdown",
      "metadata": {
        "id": "view-in-github",
        "colab_type": "text"
      },
      "source": [
        "<a href=\"https://colab.research.google.com/github/sayakpaul/Generating-categories-from-arXiv-paper-titles/blob/master/Data_preprocessing_and_model_building.ipynb\" target=\"_parent\"><img src=\"https://colab.research.google.com/assets/colab-badge.svg\" alt=\"Open In Colab\"/></a>"
      ]
    },
    {
      "cell_type": "markdown",
      "metadata": {
        "id": "b5uwl-25UbWc",
        "colab_type": "text"
      },
      "source": [
        "**To be included**:\n",
        "- Try the other models (LSTM, GRU, Bidrectional LSTM)\n",
        "- More modularity\n",
        "- Model inference\n",
        "- Comments\n",
        "- References"
      ]
    },
    {
      "cell_type": "code",
      "metadata": {
        "colab_type": "code",
        "id": "qwzIXITv2gRk",
        "colab": {}
      },
      "source": [
        "!pip install tensorflow-gpu==2.0.0-rc1"
      ],
      "execution_count": 0,
      "outputs": []
    },
    {
      "cell_type": "code",
      "metadata": {
        "id": "sy343WkVLLwz",
        "colab_type": "code",
        "colab": {}
      },
      "source": [
        "!pip install wandb"
      ],
      "execution_count": 0,
      "outputs": []
    },
    {
      "cell_type": "code",
      "metadata": {
        "id": "avyoiF6sLNbQ",
        "colab_type": "code",
        "colab": {}
      },
      "source": [
        "!wandb login"
      ],
      "execution_count": 0,
      "outputs": []
    },
    {
      "cell_type": "code",
      "metadata": {
        "colab_type": "code",
        "id": "Ygozgua-PLll",
        "colab": {}
      },
      "source": [
        "from tensorflow.keras.preprocessing.sequence import pad_sequences\n",
        "from tensorflow.keras.preprocessing.text import Tokenizer\n",
        "from tensorflow.keras.models import Sequential\n",
        "from tensorflow.keras.layers import *\n",
        "from tensorflow.keras.callbacks import *\n",
        "from sklearn.preprocessing import MultiLabelBinarizer\n",
        "from sklearn.utils import class_weight\n",
        "from wandb.keras import WandbCallback\n",
        "from ast import literal_eval\n",
        "import matplotlib.pyplot as plt\n",
        "import tensorflow as tf\n",
        "import numpy as np\n",
        "import wandb\n",
        "import nltk\n",
        "import time\n",
        "import re\n",
        "import io"
      ],
      "execution_count": 0,
      "outputs": []
    },
    {
      "cell_type": "code",
      "metadata": {
        "colab_type": "code",
        "id": "WybjOls3WkoO",
        "colab": {}
      },
      "source": [
        "%matplotlib inline\n",
        "nltk.download('stopwords')"
      ],
      "execution_count": 0,
      "outputs": []
    },
    {
      "cell_type": "code",
      "metadata": {
        "id": "EBXnuyRxMc1U",
        "colab_type": "code",
        "colab": {}
      },
      "source": [
        "wandb.init()\n",
        "config = wandb.config\n",
        "\n",
        "config.filter_length = 300\n",
        "config.max_words = 3000\n",
        "config.maxlen = 300\n",
        "config.batch_size = 32\n",
        "config.embedding_dims = 30\n",
        "config.filters = 10\n",
        "config.kernel_size = 3\n",
        "config.hidden_dims = 10\n",
        "config.epochs = 10"
      ],
      "execution_count": 0,
      "outputs": []
    },
    {
      "cell_type": "code",
      "metadata": {
        "colab_type": "code",
        "id": "1XcxUCjOPatK",
        "colab": {}
      },
      "source": [
        "X_train, y_train = np.load('data/X_train.npy', allow_pickle=True), np.load('data/y_train.npy', allow_pickle=True)\n",
        "X_test, y_test = np.load('data/X_test.npy', allow_pickle=True), np.load('data/y_test.npy', allow_pickle=True)\n",
        "\n",
        "X_train.shape, X_test.shape"
      ],
      "execution_count": 0,
      "outputs": []
    },
    {
      "cell_type": "code",
      "metadata": {
        "colab_type": "code",
        "id": "J27Ns750WBEO",
        "colab": {}
      },
      "source": [
        "wpt = nltk.WordPunctTokenizer()\n",
        "stop_words = nltk.corpus.stopwords.words('english')\n",
        "\n",
        "def clean_title(title):\n",
        "    # lower case and remove special characters\\whitespaces\n",
        "    title = re.sub(r'[^a-zA-Z\\s]', '', title, re.I|re.A)\n",
        "    title = title.lower()\n",
        "    title = title.strip()\n",
        "    # tokenize document\n",
        "    tokens = wpt.tokenize(title)\n",
        "    # filter stopwords out of document\n",
        "    filtered_tokens = [token for token in tokens if token not in stop_words]\n",
        "    # re-create document from filtered tokens\n",
        "    title = ' '.join(filtered_tokens)\n",
        "    return title\n",
        "\n",
        "clean_title = np.vectorize(clean_title)"
      ],
      "execution_count": 0,
      "outputs": []
    },
    {
      "cell_type": "code",
      "metadata": {
        "colab_type": "code",
        "id": "OorZpDdTWmYt",
        "colab": {}
      },
      "source": [
        "X_train = clean_title(X_train)\n",
        "X_test = clean_title(X_test)"
      ],
      "execution_count": 0,
      "outputs": []
    },
    {
      "cell_type": "code",
      "metadata": {
        "colab_type": "code",
        "id": "A3pYGjRIW2-p",
        "colab": {}
      },
      "source": [
        "X_train[:10]"
      ],
      "execution_count": 0,
      "outputs": []
    },
    {
      "cell_type": "code",
      "metadata": {
        "colab_type": "code",
        "id": "tL1jrd9RQgem",
        "colab": {}
      },
      "source": [
        "tokenizer = Tokenizer(num_words=config.max_words, lower=True)\n",
        "tokenizer.fit_on_texts(X_train)"
      ],
      "execution_count": 0,
      "outputs": []
    },
    {
      "cell_type": "code",
      "metadata": {
        "colab_type": "code",
        "id": "Ea6TpD6dR-ny",
        "colab": {}
      },
      "source": [
        "def get_features(text_sequence):\n",
        "    \"\"\"\n",
        "    Converts a text sequence to its tokenized version\n",
        "    and then returns it with padding added \n",
        "    \"\"\"\n",
        "    sequences = tokenizer.texts_to_sequences(text_sequence)\n",
        "    return pad_sequences(sequences, maxlen=config.maxlen)\n",
        "\n",
        "train_features = get_features(X_train)\n",
        "test_features = get_features(X_test)"
      ],
      "execution_count": 0,
      "outputs": []
    },
    {
      "cell_type": "code",
      "metadata": {
        "colab_type": "code",
        "id": "iBXk7njRStis",
        "colab": {}
      },
      "source": [
        "train_features.shape, test_features.shape"
      ],
      "execution_count": 0,
      "outputs": []
    },
    {
      "cell_type": "code",
      "metadata": {
        "colab_type": "code",
        "id": "u9j_F5rJBNSB",
        "colab": {}
      },
      "source": [
        "y_train[:10]"
      ],
      "execution_count": 0,
      "outputs": []
    },
    {
      "cell_type": "code",
      "metadata": {
        "colab_type": "code",
        "id": "mK_qDM4GAkaH",
        "colab": {}
      },
      "source": [
        "# Label binarization\n",
        "list_preprocessed = [literal_eval(i) for i in y_train]\n",
        "mlb = MultiLabelBinarizer()\n",
        "y_train_binarized = mlb.fit_transform(list_preprocessed)\n",
        "mlb.classes_"
      ],
      "execution_count": 0,
      "outputs": []
    },
    {
      "cell_type": "code",
      "metadata": {
        "id": "2inwMYlfUbXE",
        "colab_type": "code",
        "colab": {}
      },
      "source": [
        "y_train_binarized[:10]"
      ],
      "execution_count": 0,
      "outputs": []
    },
    {
      "cell_type": "code",
      "metadata": {
        "id": "X_gGkJwDUbXG",
        "colab_type": "code",
        "colab": {}
      },
      "source": [
        "y_train_binarized[0].shape"
      ],
      "execution_count": 0,
      "outputs": []
    },
    {
      "cell_type": "code",
      "metadata": {
        "id": "OXbORM4yUbXJ",
        "colab_type": "code",
        "colab": {}
      },
      "source": [
        "y_test_binarized = mlb.transform([literal_eval(i) for i in y_test])\n",
        "y_test_binarized[:10]"
      ],
      "execution_count": 0,
      "outputs": []
    },
    {
      "cell_type": "markdown",
      "metadata": {
        "colab_type": "text",
        "id": "edo3VaX0PH9A"
      },
      "source": [
        "Determine the class weights. "
      ]
    },
    {
      "cell_type": "code",
      "metadata": {
        "id": "XSkE7fiSUbXM",
        "colab_type": "code",
        "colab": {}
      },
      "source": [
        "class_weight = class_weight.compute_sample_weight('balanced', y_train)\n",
        "class_weight"
      ],
      "execution_count": 0,
      "outputs": []
    },
    {
      "cell_type": "code",
      "metadata": {
        "colab_type": "code",
        "id": "LncxEnWK9MGo",
        "colab": {}
      },
      "source": [
        "def get_a_cnn_model() -> tf.keras.models.Sequential:\n",
        "    model = Sequential()\n",
        "    model.add(Embedding(config.max_words, config.embedding_dims, \n",
        "        input_length=config.maxlen))\n",
        "    model.add(Dropout(0.1))\n",
        "    model.add(Conv1D(config.filter_length, config.kernel_size, \n",
        "        padding='valid', activation='relu', strides=1))\n",
        "    model.add(GlobalMaxPool1D())\n",
        "    model.add(Dense(32, activation='sigmoid'))\n",
        "    model.compile(optimizer='adam', loss='binary_crossentropy', metrics=['categorical_accuracy'])\n",
        "    return model"
      ],
      "execution_count": 0,
      "outputs": []
    },
    {
      "cell_type": "code",
      "metadata": {
        "id": "c-nfDxTvUbXT",
        "colab_type": "code",
        "colab": {}
      },
      "source": [
        "def get_a_sequential_model(sequential_layer=LSTM, \n",
        "        bidirectional=False) -> tf.keras.models.Sequential:\n",
        "    model = Sequential()\n",
        "    model.add(Embedding(max_words, 20, input_length=maxlen))\n",
        "    if bidirectional:\n",
        "        model.add(Bidirectional(sequential_layer(10, activation=\"sigmoid\")))\n",
        "    else:\n",
        "        model.add(sequential_layer(10, activation=\"sigmoid\"))\n",
        "    model.add(Dense(32, activation='sigmoid'))\n",
        "    model.compile(loss='binary_crossentropy',\n",
        "                  optimizer='adam',\n",
        "                  metrics=['categorical_accuracy'])\n",
        "    return model"
      ],
      "execution_count": 0,
      "outputs": []
    },
    {
      "cell_type": "code",
      "metadata": {
        "colab_type": "code",
        "id": "h0psMBCK9-ld",
        "colab": {}
      },
      "source": [
        "def train_model(model:tf.keras.models.Sequential,\n",
        "    class_weight=None,\n",
        "    epochs=config.epochs,\n",
        "    batch_size=config.batch_size,\n",
        "    callbacks=None) -> (tf.keras.callbacks.History, str):\n",
        "    start = time.time()\n",
        "    history = model.fit(train_features, y_train_binarized,\n",
        "                        class_weight=class_weight,\n",
        "                        epochs=epochs,\n",
        "                        batch_size=batch_size,\n",
        "                        validation_split=0.1,\n",
        "                        callbacks=callbacks)\n",
        "    time_message = f'It took {time.time()-start} seconds'\n",
        "    return (history, time_message)"
      ],
      "execution_count": 0,
      "outputs": []
    },
    {
      "cell_type": "code",
      "metadata": {
        "id": "NCpkOwKNUbXc",
        "colab_type": "code",
        "colab": {}
      },
      "source": [
        "def plot_training(H: tf.keras.callbacks.History, N: int) -> None:\n",
        "    # construct a plot that plots and saves the training history\n",
        "    plt.style.use(\"ggplot\")\n",
        "    plt.figure()\n",
        "    plt.plot(np.arange(0, N), H.history[\"loss\"], label=\"train_loss\")\n",
        "    plt.plot(np.arange(0, N), H.history[\"val_loss\"], label=\"val_loss\")\n",
        "    plt.plot(np.arange(0, N), H.history[\"categorical_accuracy\"], label=\"train_acc\")\n",
        "    plt.plot(np.arange(0, N), H.history[\"val_categorical_accuracy\"], label=\"val_acc\")\n",
        "    plt.title(\"Training Loss and Accuracy\")\n",
        "    plt.xlabel(\"Epoch #\")\n",
        "    plt.ylabel(\"Loss/Accuracy\")\n",
        "    plt.legend(loc=\"lower left\")\n",
        "    plt.show()"
      ],
      "execution_count": 0,
      "outputs": []
    },
    {
      "cell_type": "code",
      "metadata": {
        "id": "b4iUFcY2Wq_G",
        "colab_type": "code",
        "colab": {}
      },
      "source": [
        "def get_metrics(model: tf.keras.models.Sequential,\n",
        "    test_data: tuple) -> (str, str):\n",
        "    (X_test, y_test) = test_data\n",
        "    metrics = model.evaluate(X_test, y_test, verbose=None)\n",
        "    loss = f'{model.metrics_names[0]}: {metrics[0]}'\n",
        "    cat_accuracy = f'{model.metrics_names[1]}: {metrics[1]}'\n",
        "    return(loss, cat_accuracy)"
      ],
      "execution_count": 0,
      "outputs": []
    },
    {
      "cell_type": "code",
      "metadata": {
        "colab_type": "code",
        "id": "2WLMaTYo9cwl",
        "colab": {}
      },
      "source": [
        "# Define the callbacks\n",
        "callbacks = [\n",
        "    ReduceLROnPlateau(), \n",
        "    EarlyStopping(patience=4), \n",
        "    ModelCheckpoint(filepath='model-{}.h5'.format(time.time()), save_best_only=True),\n",
        "    WandbCallback()\n",
        "]"
      ],
      "execution_count": 0,
      "outputs": []
    },
    {
      "cell_type": "code",
      "metadata": {
        "id": "UR9ZLjFlVpo5",
        "colab_type": "code",
        "colab": {}
      },
      "source": [
        "cnn_model = get_a_cnn_model()\n",
        "(history, time_message) = train_model(cnn_model, callbacks=callbacks)\n",
        "print(time_message)"
      ],
      "execution_count": 0,
      "outputs": []
    },
    {
      "cell_type": "code",
      "metadata": {
        "id": "ERhV1g44WHEj",
        "colab_type": "code",
        "colab": {}
      },
      "source": [
        "plot_training(history, 8)"
      ],
      "execution_count": 0,
      "outputs": []
    },
    {
      "cell_type": "code",
      "metadata": {
        "id": "ftRKPT22WenY",
        "colab_type": "code",
        "colab": {}
      },
      "source": [
        "(loss, categorical_accuracy) = get_metrics(cnn_model, (test_features, y_test_binarized))\n",
        "print(loss)\n",
        "print(categorical_accuracy)"
      ],
      "execution_count": 0,
      "outputs": []
    },
    {
      "cell_type": "code",
      "metadata": {
        "id": "HFaI9-UlsEtk",
        "colab_type": "code",
        "colab": {}
      },
      "source": [
        "word_index = tokenizer.word_index\n",
        "reverse_word_index = dict([(value, key) for (key, value) in word_index.items()])"
      ],
      "execution_count": 0,
      "outputs": []
    },
    {
      "cell_type": "code",
      "metadata": {
        "id": "Qllo5dfMQsVH",
        "colab_type": "code",
        "colab": {}
      },
      "source": [
        "def serialize_embeddings(model:tf.keras.models.Sequential) -> str:\n",
        "    # Get the weights of the first layer (Embedding layer)\n",
        "    e = model.layers[0]\n",
        "    weights = e.get_weights()[0]\n",
        "    # Serialize the weights in .tsv format\n",
        "    out_v = io.open('vecs.tsv', 'w', encoding='utf-8')\n",
        "    out_m = io.open('meta.tsv', 'w', encoding='utf-8')\n",
        "    for word_num in range(1, config.max_words):\n",
        "        word = reverse_word_index[word_num]\n",
        "        embeddings = weights[word_num]\n",
        "        out_m.write(word + \"\\n\")\n",
        "        out_v.write('\\t'.join([str(x) for x in embeddings]) + \"\\n\")\n",
        "    out_v.close()\n",
        "    out_m.close()\n",
        "    return 'Embeddings have been serialized'"
      ],
      "execution_count": 0,
      "outputs": []
    },
    {
      "cell_type": "code",
      "metadata": {
        "id": "sjoiy2bdtXiK",
        "colab_type": "code",
        "colab": {}
      },
      "source": [
        "print(serialize_embeddings(cnn_model))"
      ],
      "execution_count": 0,
      "outputs": []
    },
    {
      "cell_type": "markdown",
      "metadata": {
        "id": "uMrfYpV-ygsu",
        "colab_type": "text"
      },
      "source": [
        "Here's a screencast of the projection of the Embedding matrix: https://www.loom.com/share/88eaf892c02a4ba392b00ff376686e0d"
      ]
    }
  ]
}