{
 "cells": [
  {
   "cell_type": "markdown",
   "metadata": {},
   "source": [
    "## Imports"
   ]
  },
  {
   "cell_type": "code",
   "execution_count": 1,
   "metadata": {},
   "outputs": [
    {
     "name": "stderr",
     "output_type": "stream",
     "text": [
      "[nltk_data] Downloading package stopwords to\n",
      "[nltk_data]     /Users/sayakpaul/nltk_data...\n",
      "[nltk_data]   Package stopwords is already up-to-date!\n"
     ]
    }
   ],
   "source": [
    "from tensorflow.keras.preprocessing.sequence import pad_sequences\n",
    "from tensorflow.keras.preprocessing.text import Tokenizer\n",
    "from tensorflow.keras.models import Sequential\n",
    "from tensorflow.keras.layers import *\n",
    "from tensorflow.keras.callbacks import *\n",
    "from sklearn.preprocessing import MultiLabelBinarizer\n",
    "from sklearn.utils import class_weight\n",
    "from wandb.keras import WandbCallback\n",
    "from ast import literal_eval\n",
    "from typing import Union\n",
    "from utils import utils\n",
    "import tensorflow as tf\n",
    "import numpy as np\n",
    "import wandb\n",
    "import time"
   ]
  },
  {
   "cell_type": "markdown",
   "metadata": {},
   "source": [
    "## Data loading"
   ]
  },
  {
   "cell_type": "code",
   "execution_count": 2,
   "metadata": {},
   "outputs": [],
   "source": [
    "def load_data(filename:str) -> np.ndarray:\n",
    "    content = np.load(filename, allow_pickle=True)\n",
    "    return content"
   ]
  },
  {
   "cell_type": "code",
   "execution_count": 3,
   "metadata": {},
   "outputs": [
    {
     "data": {
      "text/plain": [
       "((26152,), (6538,))"
      ]
     },
     "execution_count": 3,
     "metadata": {},
     "output_type": "execute_result"
    }
   ],
   "source": [
    "X_train, y_train = load_data('data/X_train.npy'), load_data('data/y_train.npy')\n",
    "X_test, y_test = load_data('data/X_test.npy'), load_data('data/y_test.npy')\n",
    "\n",
    "X_train.shape, X_test.shape"
   ]
  },
  {
   "cell_type": "markdown",
   "metadata": {},
   "source": [
    "## Data preprocessing"
   ]
  },
  {
   "cell_type": "code",
   "execution_count": null,
   "metadata": {},
   "outputs": [],
   "source": [
    "clean_title = np.vectorize(utils.clean_title)\n",
    "X_train = clean_title(X_train)\n",
    "X_test = clean_title(X_test)"
   ]
  },
  {
   "cell_type": "code",
   "execution_count": 5,
   "metadata": {},
   "outputs": [
    {
     "data": {
      "text/plain": [
       "array(['deblurgan blind motion deblurring using conditional adversarial networks',\n",
       "       'improve satsolving machine learning',\n",
       "       'training adversarial discriminators crosschannel abnormal event detection crowds',\n",
       "       'collective stability networks winnertakeall circuits',\n",
       "       'sample complexity episodic fixedhorizon reinforcement learning',\n",
       "       'visualizing textual models intext wordaspixel highlighting',\n",
       "       'prophit causal inverse classification multiple continuously valued treatment policies',\n",
       "       'sequential dual deep learning shape texture features sketch recognition',\n",
       "       'notes using determinantal point processes clustering applications text clustering',\n",
       "       'exactly robust kernel principal component analysis'],\n",
       "      dtype='<U185')"
      ]
     },
     "execution_count": 5,
     "metadata": {},
     "output_type": "execute_result"
    }
   ],
   "source": [
    "# Preview\n",
    "X_train[:10]"
   ]
  },
  {
   "cell_type": "code",
   "execution_count": 6,
   "metadata": {},
   "outputs": [],
   "source": [
    "def init_wandb(name):\n",
    "    wandb.init(project='text-prediction-logger', sync_tensorboard=True, name=name)\n",
    "    config = wandb.config\n",
    "    return config"
   ]
  },
  {
   "cell_type": "code",
   "execution_count": 7,
   "metadata": {},
   "outputs": [],
   "source": [
    "def init_hyperparams(config):\n",
    "    config.filter_length = 300\n",
    "    config.max_words = 3000\n",
    "    config.maxlen = 300\n",
    "    config.batch_size = 32\n",
    "    config.embedding_dims = 30\n",
    "    config.filters = 10\n",
    "    config.kernel_size = 3\n",
    "    config.hidden_dims = 10\n",
    "    config.epochs = 10\n",
    "    \n",
    "    return config"
   ]
  },
  {
   "cell_type": "code",
   "execution_count": 8,
   "metadata": {},
   "outputs": [
    {
     "data": {
      "text/html": [
       "\n",
       "                Logging results to <a href=\"https://wandb.com\" target=\"_blank\">Weights & Biases</a> <a href=\"https://docs.wandb.com/integrations/jupyter.html\" target=\"_blank\">(Documentation)</a>.<br/>\n",
       "                Project page: <a href=\"https://app.wandb.ai/sayakpaul/text-prediction-logger\" target=\"_blank\">https://app.wandb.ai/sayakpaul/text-prediction-logger</a><br/>\n",
       "                Run page: <a href=\"https://app.wandb.ai/sayakpaul/text-prediction-logger/runs/eendlfxo\" target=\"_blank\">https://app.wandb.ai/sayakpaul/text-prediction-logger/runs/eendlfxo</a><br/>\n",
       "            "
      ],
      "text/plain": [
       "<IPython.core.display.HTML object>"
      ]
     },
     "metadata": {},
     "output_type": "display_data"
    }
   ],
   "source": [
    "config = init_wandb(\"cnn\")\n",
    "config = init_hyperparams(config)"
   ]
  },
  {
   "cell_type": "code",
   "execution_count": 9,
   "metadata": {},
   "outputs": [],
   "source": [
    "tokenizer = Tokenizer(num_words=config.max_words, lower=True)\n",
    "tokenizer.fit_on_texts(X_train)"
   ]
  },
  {
   "cell_type": "code",
   "execution_count": 10,
   "metadata": {},
   "outputs": [],
   "source": [
    "def get_features(text_sequence: np.ndarray) -> np.ndarray:\n",
    "    sequences = tokenizer.texts_to_sequences(text_sequence)\n",
    "    return pad_sequences(sequences, maxlen=config.maxlen)\n",
    "\n",
    "train_features = get_features(X_train)\n",
    "test_features = get_features(X_test)"
   ]
  },
  {
   "cell_type": "code",
   "execution_count": 11,
   "metadata": {},
   "outputs": [
    {
     "data": {
      "text/plain": [
       "((26152, 300), (6538, 300))"
      ]
     },
     "execution_count": 11,
     "metadata": {},
     "output_type": "execute_result"
    }
   ],
   "source": [
    "train_features.shape, test_features.shape"
   ]
  },
  {
   "cell_type": "code",
   "execution_count": 12,
   "metadata": {},
   "outputs": [
    {
     "data": {
      "text/plain": [
       "array([\"['cs.CV']\", \"['cs.AI', 'cs.LO']\", \"['cs.CV']\", \"['cs.NE']\",\n",
       "       \"['stat.ML', 'cs.AI', 'cs.LG']\", \"['stat.ML', 'cs.CL', 'cs.LG']\",\n",
       "       \"['cs.LG', 'stat.ML']\", \"['cs.CV']\", \"['cs.LG']\",\n",
       "       \"['cs.LG', 'stat.ML']\"], dtype=object)"
      ]
     },
     "execution_count": 12,
     "metadata": {},
     "output_type": "execute_result"
    }
   ],
   "source": [
    "y_train[:10]"
   ]
  },
  {
   "cell_type": "code",
   "execution_count": 13,
   "metadata": {},
   "outputs": [
    {
     "data": {
      "text/plain": [
       "array(['cs.AI', 'cs.CC', 'cs.CE', 'cs.CL', 'cs.CR', 'cs.CV', 'cs.CY',\n",
       "       'cs.DB', 'cs.DS', 'cs.GR', 'cs.GT', 'cs.HC', 'cs.IR', 'cs.IT',\n",
       "       'cs.LG', 'cs.LO', 'cs.MA', 'cs.MM', 'cs.NE', 'cs.PL', 'cs.RO',\n",
       "       'cs.SD', 'cs.SE', 'cs.SI', 'math.IT', 'math.OC', 'math.ST',\n",
       "       'stat.AP', 'stat.CO', 'stat.ME', 'stat.ML', 'stat.TH'],\n",
       "      dtype=object)"
      ]
     },
     "execution_count": 13,
     "metadata": {},
     "output_type": "execute_result"
    }
   ],
   "source": [
    "# Label binarization\n",
    "list_preprocessed = [literal_eval(i) for i in y_train]\n",
    "mlb = MultiLabelBinarizer()\n",
    "y_train_binarized = mlb.fit_transform(list_preprocessed)\n",
    "mlb.classes_"
   ]
  },
  {
   "cell_type": "markdown",
   "metadata": {},
   "source": [
    "## Derive class weights and model training"
   ]
  },
  {
   "cell_type": "code",
   "execution_count": 15,
   "metadata": {},
   "outputs": [
    {
     "data": {
      "text/plain": [
       "array([0.03675098, 1.08066116, 0.03675098, ..., 0.03675098, 4.84296296,\n",
       "       0.08631023])"
      ]
     },
     "execution_count": 15,
     "metadata": {},
     "output_type": "execute_result"
    }
   ],
   "source": [
    "class_weight = class_weight.compute_sample_weight('balanced', y_train)\n",
    "class_weight"
   ]
  },
  {
   "cell_type": "code",
   "execution_count": 22,
   "metadata": {},
   "outputs": [],
   "source": [
    "# Helper function to return a compiled CNN-based model\n",
    "def get_a_cnn_model(config: wandb.wandb_config.Config) -> tf.keras.models.Sequential:\n",
    "    model = Sequential()\n",
    "    model.add(Embedding(config.max_words, config.embedding_dims, \n",
    "        input_length=config.maxlen))\n",
    "    model.add(Dropout(0.1))\n",
    "    model.add(Conv1D(config.filter_length, config.kernel_size, \n",
    "        padding='valid', activation='relu', strides=1))\n",
    "    model.add(GlobalMaxPool1D())\n",
    "    model.add(Dense(32, activation='sigmoid'))\n",
    "    model.compile(optimizer='adam', loss='binary_crossentropy', metrics=['categorical_accuracy'])\n",
    "    return model"
   ]
  },
  {
   "cell_type": "code",
   "execution_count": 23,
   "metadata": {},
   "outputs": [],
   "source": [
    "# A helper training script\n",
    "def train_model(model:tf.keras.models.Sequential,\n",
    "    config: wandb.wandb_config.Config,\n",
    "    class_weight=None,\n",
    "    epochs=config.epochs,\n",
    "    batch_size=config.batch_size,\n",
    "    callbacks=None) -> (tf.keras.callbacks.History, str):\n",
    "    start = time.time()\n",
    "    history = model.fit(train_features, y_train_binarized,\n",
    "                        class_weight=class_weight,\n",
    "                        epochs=epochs,\n",
    "                        batch_size=batch_size,\n",
    "                        validation_split=0.1,\n",
    "                        callbacks=callbacks)\n",
    "    time_message = 'It took {} seconds'.format(time.time()-start)\n",
    "    return (history, time_message)"
   ]
  },
  {
   "cell_type": "code",
   "execution_count": 16,
   "metadata": {},
   "outputs": [],
   "source": [
    "# Helper function to process the predictions\n",
    "def generate_predictions(model:tf.keras.models.Sequential, article_title: str) -> list:\n",
    "    labels = []\n",
    "    \n",
    "    title = np.array([article_title])\n",
    "    cleaned_title = clean_title(title)\n",
    "    tokenized = get_features(cleaned_title)\n",
    "    \n",
    "    probabilities = model.predict(tokenized)\n",
    "    \n",
    "    probabilities = probabilities.reshape(32,)\n",
    "    idxs = np.argsort(probabilities)[::-1][:2]\n",
    "    \n",
    "    for (i, j) in enumerate(idxs):\n",
    "        label = \"{}: {:.2f}%\".format(mlb.classes_[j], probabilities[j] * 100)\n",
    "        labels.append(label)\n",
    "        \n",
    "    return (labels)"
   ]
  },
  {
   "cell_type": "code",
   "execution_count": 21,
   "metadata": {},
   "outputs": [],
   "source": [
    "# Define a few paper titles for our custom callback\n",
    "sample_paper_titles = {\"On the Variance of the Adaptive Learning Rate and Beyond\": \"cs.LG, stat.ML\",\n",
    "                      \"BERT: Pre-training of Deep Bidirectional Transformers for Language Understanding\": \"cs.CL\",\n",
    "                      \"MultiFiT: Efficient Multi-lingual Language Model Fine-tuning\": \"cs.CL, cs.LG\"}"
   ]
  },
  {
   "cell_type": "code",
   "execution_count": 32,
   "metadata": {},
   "outputs": [],
   "source": [
    "# A custom callback to view predictions on the above samples in real-time\n",
    "class TextLogger(tf.keras.callbacks.Callback):\n",
    "    def __init__(self):\n",
    "        super(TextLogger, self).__init__()\n",
    "\n",
    "    def on_epoch_end(self, logs, epoch):\n",
    "        samples = []\n",
    "        for (title, true_label) in sample_paper_titles.items():\n",
    "            predicted_label = generate_predictions(self.model, title)\n",
    "            sample = [title, predicted_label, true_label]\n",
    "            samples.append(sample)\n",
    "        wandb.log({\"text\": wandb.Table(data=samples, \n",
    "                                       columns=[\"Text\", \"Predicted Label\", \"True Label\"])})"
   ]
  },
  {
   "cell_type": "code",
   "execution_count": 33,
   "metadata": {},
   "outputs": [],
   "source": [
    "# Define the callbacks\n",
    "callbacks = [ \n",
    "    TextLogger(),\n",
    "    WandbCallback()\n",
    "]"
   ]
  },
  {
   "cell_type": "code",
   "execution_count": 34,
   "metadata": {
    "scrolled": false
   },
   "outputs": [
    {
     "name": "stdout",
     "output_type": "stream",
     "text": [
      "Train on 23536 samples, validate on 2616 samples\n",
      "Epoch 1/10\n"
     ]
    },
    {
     "name": "stderr",
     "output_type": "stream",
     "text": [
      "W1103 10:59:34.233833 4497327552 callbacks.py:244] Method (on_train_batch_end) is slow compared to the batch update (1.724642). Check your callbacks.\n"
     ]
    },
    {
     "name": "stdout",
     "output_type": "stream",
     "text": [
      "\r",
      "   32/23536 [..............................] - ETA: 28:51 - loss: 0.6973 - categorical_accuracy: 0.0000e+00"
     ]
    },
    {
     "name": "stderr",
     "output_type": "stream",
     "text": [
      "W1103 10:59:34.309795 4497327552 callbacks.py:244] Method (on_train_batch_end) is slow compared to the batch update (0.862347). Check your callbacks.\n"
     ]
    },
    {
     "name": "stdout",
     "output_type": "stream",
     "text": [
      "23536/23536 [==============================] - 39s 2ms/sample - loss: 0.1163 - categorical_accuracy: 0.5490 - val_loss: 0.0812 - val_categorical_accuracy: 0.6961\n",
      "Epoch 2/10\n",
      "23536/23536 [==============================] - 43s 2ms/sample - loss: 0.0751 - categorical_accuracy: 0.6927 - val_loss: 0.0772 - val_categorical_accuracy: 0.6713\n",
      "Epoch 3/10\n",
      "23536/23536 [==============================] - 42s 2ms/sample - loss: 0.0694 - categorical_accuracy: 0.7056 - val_loss: 0.0769 - val_categorical_accuracy: 0.6999\n",
      "Epoch 4/10\n",
      "23536/23536 [==============================] - 39s 2ms/sample - loss: 0.0659 - categorical_accuracy: 0.7183 - val_loss: 0.0757 - val_categorical_accuracy: 0.6915\n",
      "Epoch 5/10\n",
      "23536/23536 [==============================] - 41s 2ms/sample - loss: 0.0630 - categorical_accuracy: 0.7297 - val_loss: 0.0759 - val_categorical_accuracy: 0.7068\n",
      "Epoch 6/10\n",
      "23536/23536 [==============================] - 41s 2ms/sample - loss: 0.0604 - categorical_accuracy: 0.7395 - val_loss: 0.0771 - val_categorical_accuracy: 0.7011\n",
      "Epoch 7/10\n",
      "23536/23536 [==============================] - 42s 2ms/sample - loss: 0.0579 - categorical_accuracy: 0.7500 - val_loss: 0.0779 - val_categorical_accuracy: 0.6927\n",
      "Epoch 8/10\n",
      "23536/23536 [==============================] - 38s 2ms/sample - loss: 0.0556 - categorical_accuracy: 0.7581 - val_loss: 0.0795 - val_categorical_accuracy: 0.6915\n",
      "Epoch 9/10\n",
      "23536/23536 [==============================] - 40s 2ms/sample - loss: 0.0534 - categorical_accuracy: 0.7616 - val_loss: 0.0804 - val_categorical_accuracy: 0.6885\n",
      "Epoch 10/10\n",
      "23536/23536 [==============================] - 38s 2ms/sample - loss: 0.0512 - categorical_accuracy: 0.7686 - val_loss: 0.0825 - val_categorical_accuracy: 0.6942\n",
      "It took 402.4467918872833 seconds\n"
     ]
    }
   ],
   "source": [
    "# Kickstart the model training\n",
    "cnn_model = get_a_cnn_model(config)\n",
    "(history, time_message) = train_model(cnn_model, config, callbacks=callbacks)\n",
    "print(time_message)"
   ]
  },
  {
   "cell_type": "markdown",
   "metadata": {},
   "source": [
    "You can [this run page](https://app.wandb.ai/sayakpaul/text-prediction-logger/runs/eendlfxo) to see all the real-time predictions. Here's a snap:\n",
    "\n",
    "![](https://i.ibb.co/x8QmMG3/Screen-Shot-2019-11-03-at-11-14-06-AM.png)"
   ]
  }
 ],
 "metadata": {
  "kernelspec": {
   "display_name": "Python 3",
   "language": "python",
   "name": "python3"
  },
  "language_info": {
   "codemirror_mode": {
    "name": "ipython",
    "version": 3
   },
   "file_extension": ".py",
   "mimetype": "text/x-python",
   "name": "python",
   "nbconvert_exporter": "python",
   "pygments_lexer": "ipython3",
   "version": "3.7.1"
  }
 },
 "nbformat": 4,
 "nbformat_minor": 2
}
