{
  "nbformat": 4,
  "nbformat_minor": 0,
  "metadata": {
    "accelerator": "GPU",
    "colab": {
      "name": "Data_preprocessing_and_model_building (part II).ipynb",
      "provenance": [],
      "collapsed_sections": []
    },
    "kernelspec": {
      "name": "python3",
      "display_name": "Python 3"
    },
    "language_info": {
      "codemirror_mode": {
        "name": "ipython",
        "version": 3
      },
      "file_extension": ".py",
      "mimetype": "text/x-python",
      "name": "python",
      "nbconvert_exporter": "python",
      "pygments_lexer": "ipython3",
      "version": "3.6.5"
    }
  },
  "cells": [
    {
      "cell_type": "markdown",
      "metadata": {
        "id": "b5uwl-25UbWc",
        "colab_type": "text"
      },
      "source": [
        "**To be included**:\n",
        "- Try the other models (LSTM, GRU, Bidrectional LSTM)\n",
        "- More modularity\n",
        "- Comments\n",
        "- References"
      ]
    },
    {
      "cell_type": "code",
      "metadata": {
        "colab_type": "code",
        "id": "qwzIXITv2gRk",
        "colab": {}
      },
      "source": [
        "!pip install tensorflow-gpu==2.0.0-rc1"
      ],
      "execution_count": 0,
      "outputs": []
    },
    {
      "cell_type": "code",
      "metadata": {
        "id": "sy343WkVLLwz",
        "colab_type": "code",
        "colab": {}
      },
      "source": [
        "!pip install wandb"
      ],
      "execution_count": 0,
      "outputs": []
    },
    {
      "cell_type": "code",
      "metadata": {
        "id": "avyoiF6sLNbQ",
        "colab_type": "code",
        "colab": {}
      },
      "source": [
        "!wandb login"
      ],
      "execution_count": 0,
      "outputs": []
    },
    {
      "cell_type": "code",
      "metadata": {
        "colab_type": "code",
        "id": "Ygozgua-PLll",
        "colab": {}
      },
      "source": [
        "from tensorflow.keras.preprocessing.sequence import pad_sequences\n",
        "from tensorflow.keras.preprocessing.text import Tokenizer\n",
        "from tensorflow.keras.models import Sequential\n",
        "from tensorflow.keras.layers import *\n",
        "from tensorflow.keras.callbacks import *\n",
        "from sklearn.preprocessing import MultiLabelBinarizer\n",
        "from sklearn.utils import class_weight\n",
        "from wandb.keras import WandbCallback\n",
        "from ast import literal_eval\n",
        "from typing import Union\n",
        "import matplotlib.pyplot as plt\n",
        "import tensorflow as tf\n",
        "import numpy as np\n",
        "import wandb\n",
        "import nltk\n",
        "import time\n",
        "import re\n",
        "import io"
      ],
      "execution_count": 0,
      "outputs": []
    },
    {
      "cell_type": "code",
      "metadata": {
        "colab_type": "code",
        "id": "WybjOls3WkoO",
        "outputId": "1c9a618f-d625-4747-9a48-5df4cc3626a7",
        "colab": {
          "base_uri": "https://localhost:8080/",
          "height": 68
        }
      },
      "source": [
        "%matplotlib inline\n",
        "nltk.download('stopwords')"
      ],
      "execution_count": 0,
      "outputs": [
        {
          "output_type": "stream",
          "text": [
            "[nltk_data] Downloading package stopwords to /root/nltk_data...\n",
            "[nltk_data]   Unzipping corpora/stopwords.zip.\n"
          ],
          "name": "stdout"
        },
        {
          "output_type": "execute_result",
          "data": {
            "text/plain": [
              "True"
            ]
          },
          "metadata": {
            "tags": []
          },
          "execution_count": 3
        }
      ]
    },
    {
      "cell_type": "code",
      "metadata": {
        "id": "EBXnuyRxMc1U",
        "colab_type": "code",
        "outputId": "4731cfce-8e50-444b-bb76-97827056123c",
        "colab": {
          "base_uri": "https://localhost:8080/",
          "height": 34
        }
      },
      "source": [
        "wandb.init()\n",
        "config = wandb.config\n",
        "\n",
        "config.filter_length = 300\n",
        "config.max_words = 3000\n",
        "config.maxlen = 300\n",
        "config.batch_size = 32\n",
        "config.embedding_dims = 30\n",
        "config.filters = 10\n",
        "config.kernel_size = 3\n",
        "config.hidden_dims = 10\n",
        "config.epochs = 10"
      ],
      "execution_count": 0,
      "outputs": [
        {
          "output_type": "display_data",
          "data": {
            "text/html": [
              "\n",
              "            Notebook configured with <a href=\"https://wandb.com\" target=\"_blank\">W&B</a>. You can <a href=\"https://app.wandb.ai/sayakpaul/uncategorized/runs/awldnnhb\" target=\"_blank\">open</a> the run page, or call <code>%%wandb</code>\n",
              "            in a cell containing your training loop to display live results.  Learn more in our <a href=\"https://docs.wandb.com/docs/integrations/jupyter.html\" target=\"_blank\">docs</a>.\n",
              "        "
            ],
            "text/plain": [
              "<IPython.core.display.HTML object>"
            ]
          },
          "metadata": {
            "tags": []
          }
        }
      ]
    },
    {
      "cell_type": "code",
      "metadata": {
        "colab_type": "code",
        "id": "1XcxUCjOPatK",
        "outputId": "bc236f13-884c-4cb2-e429-89cde8f24d5e",
        "colab": {
          "base_uri": "https://localhost:8080/",
          "height": 34
        }
      },
      "source": [
        "X_train, y_train = np.load('data/X_train.npy', allow_pickle=True), np.load('data/y_train.npy', allow_pickle=True)\n",
        "X_test, y_test = np.load('data/X_test.npy', allow_pickle=True), np.load('data/y_test.npy', allow_pickle=True)\n",
        "\n",
        "X_train.shape, X_test.shape"
      ],
      "execution_count": 0,
      "outputs": [
        {
          "output_type": "execute_result",
          "data": {
            "text/plain": [
              "((26152,), (6538,))"
            ]
          },
          "metadata": {
            "tags": []
          },
          "execution_count": 5
        }
      ]
    },
    {
      "cell_type": "code",
      "metadata": {
        "colab_type": "code",
        "id": "J27Ns750WBEO",
        "colab": {}
      },
      "source": [
        "wpt = nltk.WordPunctTokenizer()\n",
        "stop_words = nltk.corpus.stopwords.words('english')\n",
        "\n",
        "def clean_title(title):\n",
        "    # lower case and remove special characters\\whitespaces\n",
        "    title = re.sub(r'[^a-zA-Z\\s]', '', title, re.I|re.A)\n",
        "    title = title.lower()\n",
        "    title = title.strip()\n",
        "    # tokenize document\n",
        "    tokens = wpt.tokenize(title)\n",
        "    # filter stopwords out of document\n",
        "    filtered_tokens = [token for token in tokens if token not in stop_words]\n",
        "    # re-create document from filtered tokens\n",
        "    title = ' '.join(filtered_tokens)\n",
        "    return title\n",
        "\n",
        "clean_title = np.vectorize(clean_title)"
      ],
      "execution_count": 0,
      "outputs": []
    },
    {
      "cell_type": "code",
      "metadata": {
        "colab_type": "code",
        "id": "OorZpDdTWmYt",
        "colab": {}
      },
      "source": [
        "X_train = clean_title(X_train)\n",
        "X_test = clean_title(X_test)"
      ],
      "execution_count": 0,
      "outputs": []
    },
    {
      "cell_type": "code",
      "metadata": {
        "colab_type": "code",
        "id": "A3pYGjRIW2-p",
        "outputId": "f5140624-0835-4683-8cd7-fa37c7efac3b",
        "colab": {
          "base_uri": "https://localhost:8080/",
          "height": 204
        }
      },
      "source": [
        "X_train[:10]"
      ],
      "execution_count": 0,
      "outputs": [
        {
          "output_type": "execute_result",
          "data": {
            "text/plain": [
              "array(['deblurgan blind motion deblurring using conditional adversarial networks',\n",
              "       'improve satsolving machine learning',\n",
              "       'training adversarial discriminators crosschannel abnormal event detection crowds',\n",
              "       'collective stability networks winnertakeall circuits',\n",
              "       'sample complexity episodic fixedhorizon reinforcement learning',\n",
              "       'visualizing textual models intext wordaspixel highlighting',\n",
              "       'prophit causal inverse classification multiple continuously valued treatment policies',\n",
              "       'sequential dual deep learning shape texture features sketch recognition',\n",
              "       'notes using determinantal point processes clustering applications text clustering',\n",
              "       'exactly robust kernel principal component analysis'],\n",
              "      dtype='<U185')"
            ]
          },
          "metadata": {
            "tags": []
          },
          "execution_count": 8
        }
      ]
    },
    {
      "cell_type": "code",
      "metadata": {
        "colab_type": "code",
        "id": "tL1jrd9RQgem",
        "colab": {}
      },
      "source": [
        "tokenizer = Tokenizer(num_words=config.max_words, lower=True)\n",
        "tokenizer.fit_on_texts(X_train)"
      ],
      "execution_count": 0,
      "outputs": []
    },
    {
      "cell_type": "code",
      "metadata": {
        "colab_type": "code",
        "id": "Ea6TpD6dR-ny",
        "colab": {}
      },
      "source": [
        "def get_features(text_sequence):\n",
        "    \"\"\"\n",
        "    Converts a text sequence to its tokenized version\n",
        "    and then returns it with padding added \n",
        "    \"\"\"\n",
        "    sequences = tokenizer.texts_to_sequences(text_sequence)\n",
        "    return pad_sequences(sequences, maxlen=config.maxlen)\n",
        "\n",
        "train_features = get_features(X_train)\n",
        "test_features = get_features(X_test)"
      ],
      "execution_count": 0,
      "outputs": []
    },
    {
      "cell_type": "code",
      "metadata": {
        "colab_type": "code",
        "id": "iBXk7njRStis",
        "outputId": "ad738795-49a8-4deb-88f8-9713677c60e7",
        "colab": {
          "base_uri": "https://localhost:8080/",
          "height": 34
        }
      },
      "source": [
        "train_features.shape, test_features.shape"
      ],
      "execution_count": 0,
      "outputs": [
        {
          "output_type": "execute_result",
          "data": {
            "text/plain": [
              "((26152, 300), (6538, 300))"
            ]
          },
          "metadata": {
            "tags": []
          },
          "execution_count": 11
        }
      ]
    },
    {
      "cell_type": "code",
      "metadata": {
        "colab_type": "code",
        "id": "u9j_F5rJBNSB",
        "outputId": "b2edf9ab-2378-45f6-c464-50cdb5ed44b8",
        "colab": {
          "base_uri": "https://localhost:8080/",
          "height": 85
        }
      },
      "source": [
        "y_train[:10]"
      ],
      "execution_count": 0,
      "outputs": [
        {
          "output_type": "execute_result",
          "data": {
            "text/plain": [
              "array([\"['cs.CV']\", \"['cs.AI', 'cs.LO']\", \"['cs.CV']\", \"['cs.NE']\",\n",
              "       \"['stat.ML', 'cs.AI', 'cs.LG']\", \"['stat.ML', 'cs.CL', 'cs.LG']\",\n",
              "       \"['cs.LG', 'stat.ML']\", \"['cs.CV']\", \"['cs.LG']\",\n",
              "       \"['cs.LG', 'stat.ML']\"], dtype=object)"
            ]
          },
          "metadata": {
            "tags": []
          },
          "execution_count": 12
        }
      ]
    },
    {
      "cell_type": "code",
      "metadata": {
        "colab_type": "code",
        "id": "mK_qDM4GAkaH",
        "outputId": "1719ab2d-9841-4032-a792-940a2e7e3db9",
        "colab": {
          "base_uri": "https://localhost:8080/",
          "height": 119
        }
      },
      "source": [
        "# Label binarization\n",
        "list_preprocessed = [literal_eval(i) for i in y_train]\n",
        "mlb = MultiLabelBinarizer()\n",
        "y_train_binarized = mlb.fit_transform(list_preprocessed)\n",
        "mlb.classes_"
      ],
      "execution_count": 0,
      "outputs": [
        {
          "output_type": "execute_result",
          "data": {
            "text/plain": [
              "array(['cs.AI', 'cs.CC', 'cs.CE', 'cs.CL', 'cs.CR', 'cs.CV', 'cs.CY',\n",
              "       'cs.DB', 'cs.DS', 'cs.GR', 'cs.GT', 'cs.HC', 'cs.IR', 'cs.IT',\n",
              "       'cs.LG', 'cs.LO', 'cs.MA', 'cs.MM', 'cs.NE', 'cs.PL', 'cs.RO',\n",
              "       'cs.SD', 'cs.SE', 'cs.SI', 'math.IT', 'math.OC', 'math.ST',\n",
              "       'stat.AP', 'stat.CO', 'stat.ME', 'stat.ML', 'stat.TH'],\n",
              "      dtype=object)"
            ]
          },
          "metadata": {
            "tags": []
          },
          "execution_count": 13
        }
      ]
    },
    {
      "cell_type": "code",
      "metadata": {
        "id": "2inwMYlfUbXE",
        "colab_type": "code",
        "outputId": "e01cbf7e-85cf-4574-f7a8-8417bf42f24a",
        "colab": {
          "base_uri": "https://localhost:8080/",
          "height": 357
        }
      },
      "source": [
        "y_train_binarized[:10]"
      ],
      "execution_count": 0,
      "outputs": [
        {
          "output_type": "execute_result",
          "data": {
            "text/plain": [
              "array([[0, 0, 0, 0, 0, 1, 0, 0, 0, 0, 0, 0, 0, 0, 0, 0, 0, 0, 0, 0, 0, 0,\n",
              "        0, 0, 0, 0, 0, 0, 0, 0, 0, 0],\n",
              "       [1, 0, 0, 0, 0, 0, 0, 0, 0, 0, 0, 0, 0, 0, 0, 1, 0, 0, 0, 0, 0, 0,\n",
              "        0, 0, 0, 0, 0, 0, 0, 0, 0, 0],\n",
              "       [0, 0, 0, 0, 0, 1, 0, 0, 0, 0, 0, 0, 0, 0, 0, 0, 0, 0, 0, 0, 0, 0,\n",
              "        0, 0, 0, 0, 0, 0, 0, 0, 0, 0],\n",
              "       [0, 0, 0, 0, 0, 0, 0, 0, 0, 0, 0, 0, 0, 0, 0, 0, 0, 0, 1, 0, 0, 0,\n",
              "        0, 0, 0, 0, 0, 0, 0, 0, 0, 0],\n",
              "       [1, 0, 0, 0, 0, 0, 0, 0, 0, 0, 0, 0, 0, 0, 1, 0, 0, 0, 0, 0, 0, 0,\n",
              "        0, 0, 0, 0, 0, 0, 0, 0, 1, 0],\n",
              "       [0, 0, 0, 1, 0, 0, 0, 0, 0, 0, 0, 0, 0, 0, 1, 0, 0, 0, 0, 0, 0, 0,\n",
              "        0, 0, 0, 0, 0, 0, 0, 0, 1, 0],\n",
              "       [0, 0, 0, 0, 0, 0, 0, 0, 0, 0, 0, 0, 0, 0, 1, 0, 0, 0, 0, 0, 0, 0,\n",
              "        0, 0, 0, 0, 0, 0, 0, 0, 1, 0],\n",
              "       [0, 0, 0, 0, 0, 1, 0, 0, 0, 0, 0, 0, 0, 0, 0, 0, 0, 0, 0, 0, 0, 0,\n",
              "        0, 0, 0, 0, 0, 0, 0, 0, 0, 0],\n",
              "       [0, 0, 0, 0, 0, 0, 0, 0, 0, 0, 0, 0, 0, 0, 1, 0, 0, 0, 0, 0, 0, 0,\n",
              "        0, 0, 0, 0, 0, 0, 0, 0, 0, 0],\n",
              "       [0, 0, 0, 0, 0, 0, 0, 0, 0, 0, 0, 0, 0, 0, 1, 0, 0, 0, 0, 0, 0, 0,\n",
              "        0, 0, 0, 0, 0, 0, 0, 0, 1, 0]])"
            ]
          },
          "metadata": {
            "tags": []
          },
          "execution_count": 14
        }
      ]
    },
    {
      "cell_type": "code",
      "metadata": {
        "id": "X_gGkJwDUbXG",
        "colab_type": "code",
        "outputId": "3a3280cd-c916-4968-cfa8-9a3800756047",
        "colab": {
          "base_uri": "https://localhost:8080/",
          "height": 34
        }
      },
      "source": [
        "y_train_binarized[0].shape"
      ],
      "execution_count": 0,
      "outputs": [
        {
          "output_type": "execute_result",
          "data": {
            "text/plain": [
              "(32,)"
            ]
          },
          "metadata": {
            "tags": []
          },
          "execution_count": 15
        }
      ]
    },
    {
      "cell_type": "code",
      "metadata": {
        "id": "OXbORM4yUbXJ",
        "colab_type": "code",
        "outputId": "f84c1cbe-23c6-4cd4-8103-d71c3230da2f",
        "colab": {
          "base_uri": "https://localhost:8080/",
          "height": 357
        }
      },
      "source": [
        "y_test_binarized = mlb.transform([literal_eval(i) for i in y_test])\n",
        "y_test_binarized[:10]"
      ],
      "execution_count": 0,
      "outputs": [
        {
          "output_type": "execute_result",
          "data": {
            "text/plain": [
              "array([[1, 0, 0, 0, 0, 0, 0, 0, 0, 0, 0, 0, 0, 0, 0, 0, 0, 0, 0, 0, 0, 0,\n",
              "        0, 0, 0, 0, 0, 0, 0, 0, 0, 0],\n",
              "       [1, 0, 0, 0, 0, 0, 0, 0, 0, 0, 0, 0, 0, 0, 0, 0, 0, 0, 0, 0, 0, 0,\n",
              "        0, 0, 0, 0, 0, 0, 0, 0, 0, 0],\n",
              "       [1, 0, 0, 0, 0, 0, 0, 0, 1, 0, 0, 0, 0, 0, 0, 0, 0, 0, 0, 0, 0, 0,\n",
              "        0, 0, 0, 0, 0, 0, 0, 0, 0, 0],\n",
              "       [0, 0, 0, 0, 0, 1, 0, 0, 0, 0, 0, 1, 0, 0, 0, 0, 0, 0, 0, 0, 0, 0,\n",
              "        0, 0, 0, 0, 0, 0, 0, 0, 0, 0],\n",
              "       [0, 0, 0, 0, 0, 0, 0, 0, 0, 0, 0, 0, 0, 0, 1, 0, 0, 0, 0, 0, 0, 0,\n",
              "        0, 0, 0, 0, 0, 1, 0, 0, 1, 0],\n",
              "       [0, 0, 0, 1, 0, 0, 0, 0, 0, 0, 0, 0, 0, 0, 0, 0, 0, 0, 0, 0, 0, 0,\n",
              "        0, 0, 0, 0, 0, 0, 0, 0, 0, 0],\n",
              "       [0, 0, 0, 1, 0, 0, 0, 0, 0, 0, 0, 0, 0, 0, 0, 0, 0, 0, 0, 0, 0, 0,\n",
              "        0, 0, 0, 0, 0, 0, 0, 0, 0, 0],\n",
              "       [0, 0, 0, 0, 0, 0, 0, 0, 0, 0, 0, 0, 0, 0, 1, 0, 0, 0, 0, 0, 0, 0,\n",
              "        0, 0, 0, 0, 0, 0, 0, 0, 0, 0],\n",
              "       [1, 0, 0, 0, 0, 0, 0, 0, 0, 0, 0, 0, 0, 0, 0, 0, 0, 0, 0, 0, 1, 0,\n",
              "        0, 0, 0, 0, 0, 0, 0, 0, 0, 0],\n",
              "       [0, 0, 0, 1, 0, 0, 0, 0, 0, 0, 0, 0, 0, 0, 0, 0, 0, 0, 0, 0, 0, 0,\n",
              "        0, 0, 0, 0, 0, 0, 0, 0, 0, 0]])"
            ]
          },
          "metadata": {
            "tags": []
          },
          "execution_count": 16
        }
      ]
    },
    {
      "cell_type": "markdown",
      "metadata": {
        "colab_type": "text",
        "id": "edo3VaX0PH9A"
      },
      "source": [
        "Determine the class weights. "
      ]
    },
    {
      "cell_type": "code",
      "metadata": {
        "id": "XSkE7fiSUbXM",
        "colab_type": "code",
        "outputId": "eacab91f-954e-4d68-e93e-2f3e7fa81e99",
        "colab": {
          "base_uri": "https://localhost:8080/",
          "height": 51
        }
      },
      "source": [
        "class_weight = class_weight.compute_sample_weight('balanced', y_train)\n",
        "class_weight"
      ],
      "execution_count": 0,
      "outputs": [
        {
          "output_type": "execute_result",
          "data": {
            "text/plain": [
              "array([0.03675098, 1.08066116, 0.03675098, ..., 0.03675098, 4.84296296,\n",
              "       0.08631023])"
            ]
          },
          "metadata": {
            "tags": []
          },
          "execution_count": 17
        }
      ]
    },
    {
      "cell_type": "code",
      "metadata": {
        "colab_type": "code",
        "id": "LncxEnWK9MGo",
        "colab": {}
      },
      "source": [
        "def get_a_cnn_model() -> tf.keras.models.Sequential:\n",
        "    model = Sequential()\n",
        "    model.add(Embedding(config.max_words, config.embedding_dims, \n",
        "        input_length=config.maxlen))\n",
        "    model.add(Dropout(0.1))\n",
        "    model.add(Conv1D(config.filter_length, config.kernel_size, \n",
        "        padding='valid', activation='relu', strides=1))\n",
        "    model.add(GlobalMaxPool1D())\n",
        "    model.add(Dense(32, activation='sigmoid'))\n",
        "    model.compile(optimizer='adam', loss='binary_crossentropy', metrics=['categorical_accuracy'])\n",
        "    return model"
      ],
      "execution_count": 0,
      "outputs": []
    },
    {
      "cell_type": "code",
      "metadata": {
        "id": "c-nfDxTvUbXT",
        "colab_type": "code",
        "colab": {}
      },
      "source": [
        "def get_a_sequential_model(sequential_layer:Union[tf.keras.layers.LSTM, tf.keras.layers.GRU], \n",
        "        bidirectional:bool) -> tf.keras.models.Sequential:\n",
        "    model = Sequential()\n",
        "    model.add(Embedding(config.max_words, 20, input_length=config.maxlen))\n",
        "    if bidirectional:\n",
        "        model.add(Bidirectional(sequential_layer(10, activation=\"sigmoid\")))\n",
        "    else:\n",
        "        model.add(sequential_layer(10, activation=\"sigmoid\"))\n",
        "    model.add(Dense(32, activation='sigmoid'))\n",
        "    model.compile(loss='binary_crossentropy',\n",
        "                  optimizer='adam',\n",
        "                  metrics=['categorical_accuracy'])\n",
        "    return model"
      ],
      "execution_count": 0,
      "outputs": []
    },
    {
      "cell_type": "code",
      "metadata": {
        "colab_type": "code",
        "id": "h0psMBCK9-ld",
        "colab": {}
      },
      "source": [
        "def train_model(model:tf.keras.models.Sequential,\n",
        "    class_weight=None,\n",
        "    epochs=config.epochs,\n",
        "    batch_size=config.batch_size,\n",
        "    callbacks=None) -> (tf.keras.callbacks.History, str):\n",
        "    start = time.time()\n",
        "    history = model.fit(train_features, y_train_binarized,\n",
        "                        class_weight=class_weight,\n",
        "                        epochs=epochs,\n",
        "                        batch_size=batch_size,\n",
        "                        validation_split=0.1,\n",
        "                        callbacks=callbacks)\n",
        "    time_message = f'It took {time.time()-start} seconds'\n",
        "    return (history, time_message)"
      ],
      "execution_count": 0,
      "outputs": []
    },
    {
      "cell_type": "code",
      "metadata": {
        "id": "NCpkOwKNUbXc",
        "colab_type": "code",
        "colab": {}
      },
      "source": [
        "def plot_training(H: tf.keras.callbacks.History, N: int) -> None:\n",
        "    # construct a plot that plots and saves the training history\n",
        "    plt.style.use(\"ggplot\")\n",
        "    plt.figure()\n",
        "    plt.plot(np.arange(0, N), H.history[\"loss\"], label=\"train_loss\")\n",
        "    plt.plot(np.arange(0, N), H.history[\"val_loss\"], label=\"val_loss\")\n",
        "    plt.plot(np.arange(0, N), H.history[\"categorical_accuracy\"], label=\"train_acc\")\n",
        "    plt.plot(np.arange(0, N), H.history[\"val_categorical_accuracy\"], label=\"val_acc\")\n",
        "    plt.title(\"Training Loss and Accuracy\")\n",
        "    plt.xlabel(\"Epoch #\")\n",
        "    plt.ylabel(\"Loss/Accuracy\")\n",
        "    plt.legend(loc=\"lower left\")\n",
        "    plt.show()"
      ],
      "execution_count": 0,
      "outputs": []
    },
    {
      "cell_type": "code",
      "metadata": {
        "id": "b4iUFcY2Wq_G",
        "colab_type": "code",
        "colab": {}
      },
      "source": [
        "def get_metrics(model: tf.keras.models.Sequential,\n",
        "    test_data: tuple) -> (str, str):\n",
        "    (X_test, y_test) = test_data\n",
        "    metrics = model.evaluate(X_test, y_test, verbose=None)\n",
        "    loss = f'{model.metrics_names[0]}: {metrics[0]}'\n",
        "    cat_accuracy = f'{model.metrics_names[1]}: {metrics[1]}'\n",
        "    return(loss, cat_accuracy)"
      ],
      "execution_count": 0,
      "outputs": []
    },
    {
      "cell_type": "code",
      "metadata": {
        "colab_type": "code",
        "id": "2WLMaTYo9cwl",
        "colab": {}
      },
      "source": [
        "# Define the callbacks\n",
        "callbacks = [ \n",
        "    ReduceLROnPlateau(),\n",
        "    EarlyStopping(patience=4), \n",
        "    ModelCheckpoint(filepath='model-{}.h5'.format(time.time()), save_best_only=True),\n",
        "    WandbCallback()\n",
        "]"
      ],
      "execution_count": 0,
      "outputs": []
    },
    {
      "cell_type": "markdown",
      "metadata": {
        "id": "Fs6tFVKnF8G8",
        "colab_type": "text"
      },
      "source": [
        "## CNN-based model"
      ]
    },
    {
      "cell_type": "code",
      "metadata": {
        "id": "UR9ZLjFlVpo5",
        "colab_type": "code",
        "outputId": "077c46b6-e106-4c8a-fdd9-93d5bde027c6",
        "colab": {
          "base_uri": "https://localhost:8080/",
          "height": 411
        }
      },
      "source": [
        "cnn_model = get_a_cnn_model()\n",
        "(history, time_message) = train_model(cnn_model, callbacks=callbacks)\n",
        "print(time_message)"
      ],
      "execution_count": 0,
      "outputs": [
        {
          "output_type": "stream",
          "text": [
            "Train on 23536 samples, validate on 2616 samples\n",
            "Epoch 1/10\n",
            "WARNING:tensorflow:From /usr/local/lib/python3.6/dist-packages/tensorflow_core/python/ops/nn_impl.py:183: where (from tensorflow.python.ops.array_ops) is deprecated and will be removed in a future version.\n",
            "Instructions for updating:\n",
            "Use tf.where in 2.0, which has the same broadcast rule as np.where\n",
            "   32/23536 [..............................] - ETA: 51:21 - loss: 0.6924 - categorical_accuracy: 0.0312WARNING:tensorflow:Method (on_train_batch_end) is slow compared to the batch update (0.166887). Check your callbacks.\n",
            "23536/23536 [==============================] - 15s 621us/sample - loss: 0.1166 - categorical_accuracy: 0.5309 - val_loss: 0.0827 - val_categorical_accuracy: 0.6911\n",
            "Epoch 2/10\n",
            "23536/23536 [==============================] - 10s 438us/sample - loss: 0.0760 - categorical_accuracy: 0.6829 - val_loss: 0.0776 - val_categorical_accuracy: 0.6686\n",
            "Epoch 3/10\n",
            "23536/23536 [==============================] - 10s 438us/sample - loss: 0.0702 - categorical_accuracy: 0.7061 - val_loss: 0.0763 - val_categorical_accuracy: 0.6827\n",
            "Epoch 4/10\n",
            "23536/23536 [==============================] - 10s 437us/sample - loss: 0.0666 - categorical_accuracy: 0.7164 - val_loss: 0.0762 - val_categorical_accuracy: 0.6900\n",
            "Epoch 5/10\n",
            "23536/23536 [==============================] - 10s 431us/sample - loss: 0.0638 - categorical_accuracy: 0.7314 - val_loss: 0.0767 - val_categorical_accuracy: 0.6869\n",
            "Epoch 6/10\n",
            "23536/23536 [==============================] - 10s 432us/sample - loss: 0.0613 - categorical_accuracy: 0.7401 - val_loss: 0.0769 - val_categorical_accuracy: 0.7095\n",
            "Epoch 7/10\n",
            "23536/23536 [==============================] - 10s 435us/sample - loss: 0.0587 - categorical_accuracy: 0.7495 - val_loss: 0.0772 - val_categorical_accuracy: 0.6961\n",
            "Epoch 8/10\n",
            "23536/23536 [==============================] - 10s 433us/sample - loss: 0.0563 - categorical_accuracy: 0.7554 - val_loss: 0.0783 - val_categorical_accuracy: 0.7011\n",
            "It took 86.36620378494263 seconds\n"
          ],
          "name": "stdout"
        }
      ]
    },
    {
      "cell_type": "code",
      "metadata": {
        "id": "ERhV1g44WHEj",
        "colab_type": "code",
        "outputId": "ccff05c4-22b4-4a55-a3b6-bca0bf490dcb",
        "colab": {
          "base_uri": "https://localhost:8080/",
          "height": 299
        }
      },
      "source": [
        "plot_training(history, len(history.history[\"loss\"]))"
      ],
      "execution_count": 0,
      "outputs": [
        {
          "output_type": "display_data",
          "data": {
            "image/png": "[encoded data removed]",
            "text/plain": [
              "<Figure size 432x288 with 1 Axes>"
            ]
          },
          "metadata": {
            "tags": []
          }
        }
      ]
    },
    {
      "cell_type": "code",
      "metadata": {
        "id": "ftRKPT22WenY",
        "colab_type": "code",
        "outputId": "da9bfb60-bf1f-4a5c-db37-c9857f2a4c3d",
        "colab": {
          "base_uri": "https://localhost:8080/",
          "height": 51
        }
      },
      "source": [
        "(loss, categorical_accuracy) = get_metrics(cnn_model, (test_features, y_test_binarized))\n",
        "print(loss)\n",
        "print(categorical_accuracy)"
      ],
      "execution_count": 0,
      "outputs": [
        {
          "output_type": "stream",
          "text": [
            "loss: 0.07957282459546244\n",
            "categorical_accuracy: 0.6762006878852844\n"
          ],
          "name": "stdout"
        }
      ]
    },
    {
      "cell_type": "markdown",
      "metadata": {
        "id": "ywq6qDOSp8Ma",
        "colab_type": "text"
      },
      "source": [
        "## Inference"
      ]
    },
    {
      "cell_type": "code",
      "metadata": {
        "id": "hQM2-wVMiW1f",
        "colab_type": "code",
        "colab": {}
      },
      "source": [
        "def generate_predictions(model:tf.keras.models.Sequential, article_title: str) -> list:\n",
        "    labels = []\n",
        "    \n",
        "    title = np.array([article_title])\n",
        "    cleaned_title = clean_title(title)\n",
        "    tokenized = get_features(cleaned_title)\n",
        "    \n",
        "    probabilities = model.predict(tokenized)\n",
        "    \n",
        "    probabilities = probabilities.reshape(32,)\n",
        "    idxs = np.argsort(probabilities)[::-1][:2]\n",
        "    \n",
        "    for (i, j) in enumerate(idxs):\n",
        "        label = \"{}: {:.2f}%\".format(mlb.classes_[j], probabilities[j] * 100)\n",
        "        labels.append(label)\n",
        "        \n",
        "    return (labels)"
      ],
      "execution_count": 0,
      "outputs": []
    },
    {
      "cell_type": "code",
      "metadata": {
        "id": "s91BjN3Din2F",
        "colab_type": "code",
        "outputId": "41191fa2-9534-46fb-8249-40d836af34bc",
        "colab": {
          "base_uri": "https://localhost:8080/",
          "height": 34
        }
      },
      "source": [
        "print(generate_predictions(cnn_model, 'Towards Wide Learning: Experiments in Healthcare'))"
      ],
      "execution_count": 0,
      "outputs": [
        {
          "output_type": "stream",
          "text": [
            "['cs.LG: 95.27%', 'stat.ML: 64.20%']\n"
          ],
          "name": "stdout"
        }
      ]
    },
    {
      "cell_type": "markdown",
      "metadata": {
        "id": "2xKaveHZplPQ",
        "colab_type": "text"
      },
      "source": [
        "## Verification\n",
        "\n",
        "The paper **Towards Wide Learning: Experiments in Healthcare** can be found here: https://arxiv.org/abs/1612.05730. Here are the subjects to which it got tagged:\n",
        "\n",
        "![](https://i.ibb.co/ZLqPr2j/Screen-Shot-2019-09-27-at-12-58-16-PM.png)"
      ]
    },
    {
      "cell_type": "markdown",
      "metadata": {
        "id": "7ZBz-TO2F_nx",
        "colab_type": "text"
      },
      "source": [
        "## GRU"
      ]
    },
    {
      "cell_type": "code",
      "metadata": {
        "id": "B0Fpxv3wEhWp",
        "colab_type": "code",
        "outputId": "9328e127-7435-4a73-a9eb-20b253d90c64",
        "colab": {
          "base_uri": "https://localhost:8080/",
          "height": 462
        }
      },
      "source": [
        "gru_model = get_a_sequential_model(sequential_layer=GRU, bidirectional=False)\n",
        "(history, time_message) = train_model(gru_model, callbacks=callbacks)\n",
        "print(time_message)"
      ],
      "execution_count": 0,
      "outputs": [
        {
          "output_type": "stream",
          "text": [
            "Train on 23536 samples, validate on 2616 samples\n",
            "Epoch 1/10\n",
            "WARNING:tensorflow:From /usr/local/lib/python3.6/dist-packages/tensorflow_core/python/ops/nn_impl.py:183: where (from tensorflow.python.ops.array_ops) is deprecated and will be removed in a future version.\n",
            "Instructions for updating:\n",
            "Use tf.where in 2.0, which has the same broadcast rule as np.where\n",
            "23536/23536 [==============================] - 376s 16ms/sample - loss: 0.2343 - categorical_accuracy: 0.2928 - val_loss: 0.1319 - val_categorical_accuracy: 0.3505\n",
            "Epoch 2/10\n",
            "23536/23536 [==============================] - 372s 16ms/sample - loss: 0.1242 - categorical_accuracy: 0.3509 - val_loss: 0.1246 - val_categorical_accuracy: 0.3505\n",
            "Epoch 3/10\n",
            "23536/23536 [==============================] - 376s 16ms/sample - loss: 0.1209 - categorical_accuracy: 0.3509 - val_loss: 0.1236 - val_categorical_accuracy: 0.3505\n",
            "Epoch 4/10\n",
            "23536/23536 [==============================] - 375s 16ms/sample - loss: 0.1203 - categorical_accuracy: 0.3509 - val_loss: 0.1234 - val_categorical_accuracy: 0.3505\n",
            "Epoch 5/10\n",
            "23536/23536 [==============================] - 374s 16ms/sample - loss: 0.1201 - categorical_accuracy: 0.3509 - val_loss: 0.1234 - val_categorical_accuracy: 0.3505\n",
            "Epoch 6/10\n",
            "23536/23536 [==============================] - 374s 16ms/sample - loss: 0.1201 - categorical_accuracy: 0.3509 - val_loss: 0.1233 - val_categorical_accuracy: 0.3505\n",
            "Epoch 7/10\n",
            "23536/23536 [==============================] - 375s 16ms/sample - loss: 0.1185 - categorical_accuracy: 0.3601 - val_loss: 0.1184 - val_categorical_accuracy: 0.4086\n",
            "Epoch 8/10\n",
            "23536/23536 [==============================] - 377s 16ms/sample - loss: 0.1123 - categorical_accuracy: 0.4503 - val_loss: 0.1131 - val_categorical_accuracy: 0.4839\n",
            "Epoch 9/10\n",
            "23536/23536 [==============================] - 376s 16ms/sample - loss: 0.1072 - categorical_accuracy: 0.5440 - val_loss: 0.1089 - val_categorical_accuracy: 0.5856\n",
            "Epoch 10/10\n",
            "23536/23536 [==============================] - 379s 16ms/sample - loss: 0.1022 - categorical_accuracy: 0.6067 - val_loss: 0.1035 - val_categorical_accuracy: 0.6170\n",
            "It took 3754.669095993042 seconds\n"
          ],
          "name": "stdout"
        }
      ]
    },
    {
      "cell_type": "code",
      "metadata": {
        "id": "dEeUTvsJ5Dn9",
        "colab_type": "code",
        "outputId": "349808c8-fa9a-4ced-b16d-edbf4ba62eea",
        "colab": {
          "base_uri": "https://localhost:8080/",
          "height": 51
        }
      },
      "source": [
        "(loss, categorical_accuracy) = get_metrics(gru_model, (test_features, y_test_binarized))\n",
        "print(loss)\n",
        "print(categorical_accuracy)"
      ],
      "execution_count": 0,
      "outputs": [
        {
          "output_type": "stream",
          "text": [
            "loss: 0.1013467522225784\n",
            "categorical_accuracy: 0.600336492061615\n"
          ],
          "name": "stdout"
        }
      ]
    },
    {
      "cell_type": "code",
      "metadata": {
        "id": "wlx_vZOQ54zG",
        "colab_type": "code",
        "outputId": "202c96b7-a62a-46e1-e3cf-3801e805d12e",
        "colab": {
          "base_uri": "https://localhost:8080/",
          "height": 34
        }
      },
      "source": [
        "print(generate_predictions(gru_model, 'Towards Wide Learning: Experiments in Healthcare'))"
      ],
      "execution_count": 0,
      "outputs": [
        {
          "output_type": "stream",
          "text": [
            "['cs.AI: 44.43%', 'cs.LG: 36.45%']\n"
          ],
          "name": "stdout"
        }
      ]
    },
    {
      "cell_type": "markdown",
      "metadata": {
        "id": "IJtjZ_z1p-7K",
        "colab_type": "text"
      },
      "source": [
        "## Visualization of the embeddings (learned by the CNN-based model)"
      ]
    },
    {
      "cell_type": "code",
      "metadata": {
        "id": "HFaI9-UlsEtk",
        "colab_type": "code",
        "colab": {}
      },
      "source": [
        "word_index = tokenizer.word_index\n",
        "reverse_word_index = dict([(value, key) for (key, value) in word_index.items()])"
      ],
      "execution_count": 0,
      "outputs": []
    },
    {
      "cell_type": "code",
      "metadata": {
        "id": "Qllo5dfMQsVH",
        "colab_type": "code",
        "colab": {}
      },
      "source": [
        "def serialize_embeddings(model:tf.keras.models.Sequential) -> str:\n",
        "    # Get the weights of the first layer (Embedding layer)\n",
        "    e = model.layers[0]\n",
        "    weights = e.get_weights()[0]\n",
        "    # Serialize the weights in .tsv format\n",
        "    out_v = io.open('vecs.tsv', 'w', encoding='utf-8')\n",
        "    out_m = io.open('meta.tsv', 'w', encoding='utf-8')\n",
        "    for word_num in range(1, config.max_words):\n",
        "        word = reverse_word_index[word_num]\n",
        "        embeddings = weights[word_num]\n",
        "        out_m.write(word + \"\\n\")\n",
        "        out_v.write('\\t'.join([str(x) for x in embeddings]) + \"\\n\")\n",
        "    out_v.close()\n",
        "    out_m.close()\n",
        "    return 'Embeddings have been serialized'"
      ],
      "execution_count": 0,
      "outputs": []
    },
    {
      "cell_type": "code",
      "metadata": {
        "id": "sjoiy2bdtXiK",
        "colab_type": "code",
        "colab": {}
      },
      "source": [
        "print(serialize_embeddings(cnn_model))"
      ],
      "execution_count": 0,
      "outputs": []
    },
    {
      "cell_type": "markdown",
      "metadata": {
        "id": "uMrfYpV-ygsu",
        "colab_type": "text"
      },
      "source": [
        "Here's a screencast of the projection of the Embedding matrix: https://www.loom.com/share/88eaf892c02a4ba392b00ff376686e0d"
      ]
    }
  ]
}