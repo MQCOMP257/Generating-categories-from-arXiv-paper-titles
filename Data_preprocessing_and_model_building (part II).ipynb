{
 "cells": [
  {
   "cell_type": "markdown",
   "metadata": {},
   "source": [
    "## Setup"
   ]
  },
  {
   "cell_type": "markdown",
   "metadata": {
    "colab": {},
    "colab_type": "code",
    "id": "qwzIXITv2gRk"
   },
   "source": [
    "If you are on Colab run `%tensorflow_version 2.x` to switch to a TensorFlow 2.0 environment. Otherwise, run `pip install tensorflow` or `pip install tensorflow-gpu` (based on your environment). "
   ]
  },
  {
   "cell_type": "markdown",
   "metadata": {},
   "source": [
    "## Imports & configuration"
   ]
  },
  {
   "cell_type": "code",
   "execution_count": 1,
   "metadata": {
    "colab": {},
    "colab_type": "code",
    "id": "Ygozgua-PLll"
   },
   "outputs": [
    {
     "name": "stderr",
     "output_type": "stream",
     "text": [
      "[nltk_data] Downloading package stopwords to\n",
      "[nltk_data]     /home/jupyter/nltk_data...\n",
      "[nltk_data]   Package stopwords is already up-to-date!\n"
     ]
    }
   ],
   "source": [
    "from tensorflow.keras.preprocessing.sequence import pad_sequences\n",
    "from tensorflow.keras.preprocessing.text import Tokenizer\n",
    "from tensorflow.keras.models import Sequential\n",
    "from tensorflow.keras.layers import *\n",
    "from tensorflow.keras.callbacks import *\n",
    "from sklearn.preprocessing import MultiLabelBinarizer\n",
    "from sklearn.utils import class_weight\n",
    "from wandb.keras import WandbCallback\n",
    "from ast import literal_eval\n",
    "from typing import Union\n",
    "from utils import utils\n",
    "import tensorflow as tf\n",
    "import numpy as np\n",
    "import wandb\n",
    "import time"
   ]
  },
  {
   "cell_type": "markdown",
   "metadata": {},
   "source": [
    "## Data loading"
   ]
  },
  {
   "cell_type": "code",
   "execution_count": 2,
   "metadata": {},
   "outputs": [],
   "source": [
    "def load_data(filename:str) -> np.ndarray:\n",
    "    content = np.load(filename, allow_pickle=True)\n",
    "    return content"
   ]
  },
  {
   "cell_type": "code",
   "execution_count": 3,
   "metadata": {
    "colab": {
     "base_uri": "https://localhost:8080/",
     "height": 34
    },
    "colab_type": "code",
    "id": "1XcxUCjOPatK",
    "outputId": "bc236f13-884c-4cb2-e429-89cde8f24d5e"
   },
   "outputs": [
    {
     "data": {
      "text/plain": [
       "((26152,), (6538,))"
      ]
     },
     "execution_count": 3,
     "metadata": {},
     "output_type": "execute_result"
    }
   ],
   "source": [
    "X_train, y_train = load_data('data/X_train.npy'), load_data('data/y_train.npy')\n",
    "X_test, y_test = load_data('data/X_test.npy'), load_data('data/y_test.npy')\n",
    "\n",
    "X_train.shape, X_test.shape"
   ]
  },
  {
   "cell_type": "markdown",
   "metadata": {},
   "source": [
    "## Cleaning the paper titles"
   ]
  },
  {
   "cell_type": "code",
   "execution_count": 4,
   "metadata": {
    "colab": {},
    "colab_type": "code",
    "id": "J27Ns750WBEO"
   },
   "outputs": [],
   "source": [
    "clean_title = np.vectorize(utils.clean_title)"
   ]
  },
  {
   "cell_type": "code",
   "execution_count": 5,
   "metadata": {
    "colab": {},
    "colab_type": "code",
    "id": "OorZpDdTWmYt"
   },
   "outputs": [],
   "source": [
    "X_train = clean_title(X_train)\n",
    "X_test = clean_title(X_test)"
   ]
  },
  {
   "cell_type": "code",
   "execution_count": 6,
   "metadata": {
    "colab": {
     "base_uri": "https://localhost:8080/",
     "height": 204
    },
    "colab_type": "code",
    "id": "A3pYGjRIW2-p",
    "outputId": "f5140624-0835-4683-8cd7-fa37c7efac3b"
   },
   "outputs": [
    {
     "data": {
      "text/plain": [
       "array(['deblurgan blind motion deblurring using conditional adversarial networks',\n",
       "       'improve satsolving machine learning',\n",
       "       'training adversarial discriminators crosschannel abnormal event detection crowds',\n",
       "       'collective stability networks winnertakeall circuits',\n",
       "       'sample complexity episodic fixedhorizon reinforcement learning',\n",
       "       'visualizing textual models intext wordaspixel highlighting',\n",
       "       'prophit causal inverse classification multiple continuously valued treatment policies',\n",
       "       'sequential dual deep learning shape texture features sketch recognition',\n",
       "       'notes using determinantal point processes clustering applications text clustering',\n",
       "       'exactly robust kernel principal component analysis'],\n",
       "      dtype='<U185')"
      ]
     },
     "execution_count": 6,
     "metadata": {},
     "output_type": "execute_result"
    }
   ],
   "source": [
    "# Preview\n",
    "X_train[:10]"
   ]
  },
  {
   "cell_type": "markdown",
   "metadata": {},
   "source": [
    "## Initialize `wandb`"
   ]
  },
  {
   "cell_type": "markdown",
   "metadata": {},
   "source": [
    "We will be initializing wandb with a different project name this time. We will be setting `sync_tensorboard=True` so that it _automatically_ hosts TensorBoard on my online WandB dashboard. Isn't that cool (TBA)?"
   ]
  },
  {
   "cell_type": "code",
   "execution_count": 7,
   "metadata": {
    "colab": {
     "base_uri": "https://localhost:8080/",
     "height": 34
    },
    "colab_type": "code",
    "id": "EBXnuyRxMc1U",
    "outputId": "4731cfce-8e50-444b-bb76-97827056123c"
   },
   "outputs": [],
   "source": [
    "def init_wandb(name):\n",
    "    wandb.init(project='arxiv-project-complex-models', sync_tensorboard=True, name=name)\n",
    "    config = wandb.config\n",
    "    return config"
   ]
  },
  {
   "cell_type": "markdown",
   "metadata": {},
   "source": [
    "Setting the following hyperparameters will allow `wandb` to automatically keep a track of them. "
   ]
  },
  {
   "cell_type": "code",
   "execution_count": 8,
   "metadata": {},
   "outputs": [],
   "source": [
    "def init_hyperparams(config):\n",
    "    config.filter_length = 300\n",
    "    config.max_words = 3000\n",
    "    config.maxlen = 300\n",
    "    config.batch_size = 32\n",
    "    config.embedding_dims = 30\n",
    "    config.filters = 10\n",
    "    config.kernel_size = 3\n",
    "    config.hidden_dims = 10\n",
    "    config.epochs = 10\n",
    "    \n",
    "    return config"
   ]
  },
  {
   "cell_type": "markdown",
   "metadata": {},
   "source": [
    "Each time we train a new model we will run the following. "
   ]
  },
  {
   "cell_type": "code",
   "execution_count": 9,
   "metadata": {},
   "outputs": [
    {
     "data": {
      "text/html": [
       "\n",
       "                Logging results to <a href=\"https://wandb.com\" target=\"_blank\">Weights & Biases</a>.<br/>\n",
       "                Project page: <a href=\"https://app.wandb.ai/sayakpaul/arxiv-project-complex-models\" target=\"_blank\">https://app.wandb.ai/sayakpaul/arxiv-project-complex-models</a><br/>\n",
       "                Run page: <a href=\"https://app.wandb.ai/sayakpaul/arxiv-project-complex-models/runs/zsd2eukb\" target=\"_blank\">https://app.wandb.ai/sayakpaul/arxiv-project-complex-models/runs/zsd2eukb</a><br/>\n",
       "                Docs: <a href=\"https://docs.wandb.com/integrations/jupyter.html\" target=\"_blank\">https://docs.wandb.com/integrations/jupyter.html</a><br/>\n",
       "            "
      ],
      "text/plain": [
       "<IPython.core.display.HTML object>"
      ]
     },
     "metadata": {},
     "output_type": "display_data"
    },
    {
     "name": "stderr",
     "output_type": "stream",
     "text": [
      "Error generating diff: Command '['git', 'diff', '--submodule=diff', 'HEAD']' timed out after 5 seconds\n"
     ]
    }
   ],
   "source": [
    "config = init_wandb(\"cnn\")\n",
    "config = init_hyperparams(config)"
   ]
  },
  {
   "cell_type": "markdown",
   "metadata": {},
   "source": [
    "## Tokenization & padding"
   ]
  },
  {
   "cell_type": "code",
   "execution_count": 10,
   "metadata": {
    "colab": {},
    "colab_type": "code",
    "id": "tL1jrd9RQgem"
   },
   "outputs": [],
   "source": [
    "tokenizer = Tokenizer(num_words=config.max_words, lower=True)\n",
    "tokenizer.fit_on_texts(X_train)"
   ]
  },
  {
   "cell_type": "code",
   "execution_count": 11,
   "metadata": {
    "colab": {},
    "colab_type": "code",
    "id": "Ea6TpD6dR-ny"
   },
   "outputs": [],
   "source": [
    "def get_features(text_sequence: np.ndarray) -> np.ndarray:\n",
    "    sequences = tokenizer.texts_to_sequences(text_sequence)\n",
    "    return pad_sequences(sequences, maxlen=config.maxlen)\n",
    "\n",
    "train_features = get_features(X_train)\n",
    "test_features = get_features(X_test)"
   ]
  },
  {
   "cell_type": "code",
   "execution_count": 12,
   "metadata": {
    "colab": {
     "base_uri": "https://localhost:8080/",
     "height": 34
    },
    "colab_type": "code",
    "id": "iBXk7njRStis",
    "outputId": "ad738795-49a8-4deb-88f8-9713677c60e7"
   },
   "outputs": [
    {
     "data": {
      "text/plain": [
       "((26152, 300), (6538, 300))"
      ]
     },
     "execution_count": 12,
     "metadata": {},
     "output_type": "execute_result"
    }
   ],
   "source": [
    "train_features.shape, test_features.shape"
   ]
  },
  {
   "cell_type": "code",
   "execution_count": 13,
   "metadata": {
    "colab": {
     "base_uri": "https://localhost:8080/",
     "height": 85
    },
    "colab_type": "code",
    "id": "u9j_F5rJBNSB",
    "outputId": "b2edf9ab-2378-45f6-c464-50cdb5ed44b8"
   },
   "outputs": [
    {
     "data": {
      "text/plain": [
       "array([\"['cs.CV']\", \"['cs.AI', 'cs.LO']\", \"['cs.CV']\", \"['cs.NE']\",\n",
       "       \"['stat.ML', 'cs.AI', 'cs.LG']\", \"['stat.ML', 'cs.CL', 'cs.LG']\",\n",
       "       \"['cs.LG', 'stat.ML']\", \"['cs.CV']\", \"['cs.LG']\",\n",
       "       \"['cs.LG', 'stat.ML']\"], dtype=object)"
      ]
     },
     "execution_count": 13,
     "metadata": {},
     "output_type": "execute_result"
    }
   ],
   "source": [
    "y_train[:10]"
   ]
  },
  {
   "cell_type": "code",
   "execution_count": 14,
   "metadata": {},
   "outputs": [
    {
     "data": {
      "text/plain": [
       "(numpy.ndarray, numpy.ndarray)"
      ]
     },
     "execution_count": 14,
     "metadata": {},
     "output_type": "execute_result"
    }
   ],
   "source": [
    "type(train_features), type(y_train)"
   ]
  },
  {
   "cell_type": "markdown",
   "metadata": {},
   "source": [
    "## Label preprocessing"
   ]
  },
  {
   "cell_type": "code",
   "execution_count": 15,
   "metadata": {
    "colab": {
     "base_uri": "https://localhost:8080/",
     "height": 119
    },
    "colab_type": "code",
    "id": "mK_qDM4GAkaH",
    "outputId": "1719ab2d-9841-4032-a792-940a2e7e3db9"
   },
   "outputs": [
    {
     "data": {
      "text/plain": [
       "array(['cs.AI', 'cs.CC', 'cs.CE', 'cs.CL', 'cs.CR', 'cs.CV', 'cs.CY',\n",
       "       'cs.DB', 'cs.DS', 'cs.GR', 'cs.GT', 'cs.HC', 'cs.IR', 'cs.IT',\n",
       "       'cs.LG', 'cs.LO', 'cs.MA', 'cs.MM', 'cs.NE', 'cs.PL', 'cs.RO',\n",
       "       'cs.SD', 'cs.SE', 'cs.SI', 'math.IT', 'math.OC', 'math.ST',\n",
       "       'stat.AP', 'stat.CO', 'stat.ME', 'stat.ML', 'stat.TH'],\n",
       "      dtype=object)"
      ]
     },
     "execution_count": 15,
     "metadata": {},
     "output_type": "execute_result"
    }
   ],
   "source": [
    "# Label binarization\n",
    "list_preprocessed = [literal_eval(i) for i in y_train]\n",
    "mlb = MultiLabelBinarizer()\n",
    "y_train_binarized = mlb.fit_transform(list_preprocessed)\n",
    "mlb.classes_"
   ]
  },
  {
   "cell_type": "code",
   "execution_count": 16,
   "metadata": {
    "colab": {
     "base_uri": "https://localhost:8080/",
     "height": 357
    },
    "colab_type": "code",
    "id": "2inwMYlfUbXE",
    "outputId": "e01cbf7e-85cf-4574-f7a8-8417bf42f24a"
   },
   "outputs": [
    {
     "data": {
      "text/plain": [
       "array([[0, 0, 0, 0, 0, 1, 0, 0, 0, 0, 0, 0, 0, 0, 0, 0, 0, 0, 0, 0, 0, 0,\n",
       "        0, 0, 0, 0, 0, 0, 0, 0, 0, 0],\n",
       "       [1, 0, 0, 0, 0, 0, 0, 0, 0, 0, 0, 0, 0, 0, 0, 1, 0, 0, 0, 0, 0, 0,\n",
       "        0, 0, 0, 0, 0, 0, 0, 0, 0, 0],\n",
       "       [0, 0, 0, 0, 0, 1, 0, 0, 0, 0, 0, 0, 0, 0, 0, 0, 0, 0, 0, 0, 0, 0,\n",
       "        0, 0, 0, 0, 0, 0, 0, 0, 0, 0],\n",
       "       [0, 0, 0, 0, 0, 0, 0, 0, 0, 0, 0, 0, 0, 0, 0, 0, 0, 0, 1, 0, 0, 0,\n",
       "        0, 0, 0, 0, 0, 0, 0, 0, 0, 0],\n",
       "       [1, 0, 0, 0, 0, 0, 0, 0, 0, 0, 0, 0, 0, 0, 1, 0, 0, 0, 0, 0, 0, 0,\n",
       "        0, 0, 0, 0, 0, 0, 0, 0, 1, 0],\n",
       "       [0, 0, 0, 1, 0, 0, 0, 0, 0, 0, 0, 0, 0, 0, 1, 0, 0, 0, 0, 0, 0, 0,\n",
       "        0, 0, 0, 0, 0, 0, 0, 0, 1, 0],\n",
       "       [0, 0, 0, 0, 0, 0, 0, 0, 0, 0, 0, 0, 0, 0, 1, 0, 0, 0, 0, 0, 0, 0,\n",
       "        0, 0, 0, 0, 0, 0, 0, 0, 1, 0],\n",
       "       [0, 0, 0, 0, 0, 1, 0, 0, 0, 0, 0, 0, 0, 0, 0, 0, 0, 0, 0, 0, 0, 0,\n",
       "        0, 0, 0, 0, 0, 0, 0, 0, 0, 0],\n",
       "       [0, 0, 0, 0, 0, 0, 0, 0, 0, 0, 0, 0, 0, 0, 1, 0, 0, 0, 0, 0, 0, 0,\n",
       "        0, 0, 0, 0, 0, 0, 0, 0, 0, 0],\n",
       "       [0, 0, 0, 0, 0, 0, 0, 0, 0, 0, 0, 0, 0, 0, 1, 0, 0, 0, 0, 0, 0, 0,\n",
       "        0, 0, 0, 0, 0, 0, 0, 0, 1, 0]])"
      ]
     },
     "execution_count": 16,
     "metadata": {},
     "output_type": "execute_result"
    }
   ],
   "source": [
    "y_train_binarized[:10]"
   ]
  },
  {
   "cell_type": "code",
   "execution_count": 17,
   "metadata": {
    "colab": {
     "base_uri": "https://localhost:8080/",
     "height": 34
    },
    "colab_type": "code",
    "id": "X_gGkJwDUbXG",
    "outputId": "3a3280cd-c916-4968-cfa8-9a3800756047"
   },
   "outputs": [
    {
     "data": {
      "text/plain": [
       "(32,)"
      ]
     },
     "execution_count": 17,
     "metadata": {},
     "output_type": "execute_result"
    }
   ],
   "source": [
    "y_train_binarized[0].shape"
   ]
  },
  {
   "cell_type": "code",
   "execution_count": 18,
   "metadata": {
    "colab": {
     "base_uri": "https://localhost:8080/",
     "height": 357
    },
    "colab_type": "code",
    "id": "OXbORM4yUbXJ",
    "outputId": "f84c1cbe-23c6-4cd4-8103-d71c3230da2f"
   },
   "outputs": [
    {
     "data": {
      "text/plain": [
       "array([[1, 0, 0, 0, 0, 0, 0, 0, 0, 0, 0, 0, 0, 0, 0, 0, 0, 0, 0, 0, 0, 0,\n",
       "        0, 0, 0, 0, 0, 0, 0, 0, 0, 0],\n",
       "       [1, 0, 0, 0, 0, 0, 0, 0, 0, 0, 0, 0, 0, 0, 0, 0, 0, 0, 0, 0, 0, 0,\n",
       "        0, 0, 0, 0, 0, 0, 0, 0, 0, 0],\n",
       "       [1, 0, 0, 0, 0, 0, 0, 0, 1, 0, 0, 0, 0, 0, 0, 0, 0, 0, 0, 0, 0, 0,\n",
       "        0, 0, 0, 0, 0, 0, 0, 0, 0, 0],\n",
       "       [0, 0, 0, 0, 0, 1, 0, 0, 0, 0, 0, 1, 0, 0, 0, 0, 0, 0, 0, 0, 0, 0,\n",
       "        0, 0, 0, 0, 0, 0, 0, 0, 0, 0],\n",
       "       [0, 0, 0, 0, 0, 0, 0, 0, 0, 0, 0, 0, 0, 0, 1, 0, 0, 0, 0, 0, 0, 0,\n",
       "        0, 0, 0, 0, 0, 1, 0, 0, 1, 0],\n",
       "       [0, 0, 0, 1, 0, 0, 0, 0, 0, 0, 0, 0, 0, 0, 0, 0, 0, 0, 0, 0, 0, 0,\n",
       "        0, 0, 0, 0, 0, 0, 0, 0, 0, 0],\n",
       "       [0, 0, 0, 1, 0, 0, 0, 0, 0, 0, 0, 0, 0, 0, 0, 0, 0, 0, 0, 0, 0, 0,\n",
       "        0, 0, 0, 0, 0, 0, 0, 0, 0, 0],\n",
       "       [0, 0, 0, 0, 0, 0, 0, 0, 0, 0, 0, 0, 0, 0, 1, 0, 0, 0, 0, 0, 0, 0,\n",
       "        0, 0, 0, 0, 0, 0, 0, 0, 0, 0],\n",
       "       [1, 0, 0, 0, 0, 0, 0, 0, 0, 0, 0, 0, 0, 0, 0, 0, 0, 0, 0, 0, 1, 0,\n",
       "        0, 0, 0, 0, 0, 0, 0, 0, 0, 0],\n",
       "       [0, 0, 0, 1, 0, 0, 0, 0, 0, 0, 0, 0, 0, 0, 0, 0, 0, 0, 0, 0, 0, 0,\n",
       "        0, 0, 0, 0, 0, 0, 0, 0, 0, 0]])"
      ]
     },
     "execution_count": 18,
     "metadata": {},
     "output_type": "execute_result"
    }
   ],
   "source": [
    "y_test_binarized = mlb.transform([literal_eval(i) for i in y_test])\n",
    "y_test_binarized[:10]"
   ]
  },
  {
   "cell_type": "markdown",
   "metadata": {
    "colab_type": "text",
    "id": "edo3VaX0PH9A"
   },
   "source": [
    "## Determine the class weights"
   ]
  },
  {
   "cell_type": "code",
   "execution_count": 19,
   "metadata": {
    "colab": {
     "base_uri": "https://localhost:8080/",
     "height": 51
    },
    "colab_type": "code",
    "id": "XSkE7fiSUbXM",
    "outputId": "eacab91f-954e-4d68-e93e-2f3e7fa81e99"
   },
   "outputs": [
    {
     "data": {
      "text/plain": [
       "array([0.03675098, 1.08066116, 0.03675098, ..., 0.03675098, 4.84296296,\n",
       "       0.08631023])"
      ]
     },
     "execution_count": 19,
     "metadata": {},
     "output_type": "execute_result"
    }
   ],
   "source": [
    "class_weight = class_weight.compute_sample_weight('balanced', y_train)\n",
    "class_weight"
   ]
  },
  {
   "cell_type": "markdown",
   "metadata": {},
   "source": [
    "## More complex models\n",
    "\n",
    "I will start-off with a CNN-based (Conv1D) architecture and then I will try out LSTM and GRU-based architectures. "
   ]
  },
  {
   "cell_type": "code",
   "execution_count": 20,
   "metadata": {
    "colab": {},
    "colab_type": "code",
    "id": "LncxEnWK9MGo"
   },
   "outputs": [],
   "source": [
    "# Helper function to return a compiled CNN-based model\n",
    "def get_a_cnn_model(config: wandb.wandb_config.Config) -> tf.keras.models.Sequential:\n",
    "    model = Sequential()\n",
    "    model.add(Embedding(config.max_words, config.embedding_dims, \n",
    "        input_length=config.maxlen))\n",
    "    model.add(Dropout(0.1))\n",
    "    model.add(Conv1D(config.filter_length, config.kernel_size, \n",
    "        padding='valid', activation='relu', strides=1))\n",
    "    model.add(GlobalMaxPool1D())\n",
    "    model.add(Dense(32, activation='sigmoid'))\n",
    "    model.compile(optimizer='adam', loss='binary_crossentropy', metrics=['categorical_accuracy'])\n",
    "    return model"
   ]
  },
  {
   "cell_type": "markdown",
   "metadata": {},
   "source": [
    "Pay close attention to the loss function and the metrics. [This blog post](https://www.depends-on-the-definition.com/guide-to-multi-label-classification-with-neural-networks/) helped me a lot to reason why you should use a `binary_crossentropy` loss for a multi-label classification problem. Let's define another function as well for the LSTM and GRU-based models."
   ]
  },
  {
   "cell_type": "code",
   "execution_count": 21,
   "metadata": {
    "colab": {},
    "colab_type": "code",
    "id": "c-nfDxTvUbXT"
   },
   "outputs": [],
   "source": [
    "# Helper function to return either a LSTM-based or a \n",
    "# GRU-based model\n",
    "def get_a_sequential_model(sequential_layer:Union[tf.keras.layers.LSTM, \n",
    "                           tf.keras.layers.GRU], \n",
    "                           bidirectional:bool, \n",
    "                           config: wandb.wandb_config.Config) -> tf.keras.models.Sequential:\n",
    "    model = Sequential()\n",
    "    model.add(Embedding(config.max_words, 20, input_length=config.maxlen))\n",
    "    if bidirectional:\n",
    "        model.add(Bidirectional(sequential_layer(10, activation=\"sigmoid\")))\n",
    "    else:\n",
    "        model.add(sequential_layer(10, activation=\"sigmoid\"))\n",
    "    model.add(Dense(32, activation='sigmoid'))\n",
    "    model.compile(loss='binary_crossentropy',\n",
    "                  optimizer='adam',\n",
    "                  metrics=['categorical_accuracy'])\n",
    "    return model"
   ]
  },
  {
   "cell_type": "code",
   "execution_count": 22,
   "metadata": {
    "colab": {},
    "colab_type": "code",
    "id": "h0psMBCK9-ld"
   },
   "outputs": [],
   "source": [
    "# A helper training script\n",
    "def train_model(model:tf.keras.models.Sequential,\n",
    "    config: wandb.wandb_config.Config,\n",
    "    class_weight=None,\n",
    "    epochs=config.epochs,\n",
    "    batch_size=config.batch_size,\n",
    "    callbacks=None) -> (tf.keras.callbacks.History, str):\n",
    "    start = time.time()\n",
    "    history = model.fit(train_features, y_train_binarized,\n",
    "                        class_weight=class_weight,\n",
    "                        epochs=epochs,\n",
    "                        batch_size=batch_size,\n",
    "                        validation_split=0.1,\n",
    "                        callbacks=callbacks)\n",
    "    time_message = 'It took {} seconds'.format(time.time()-start)\n",
    "    return (history, time_message)"
   ]
  },
  {
   "cell_type": "code",
   "execution_count": 23,
   "metadata": {
    "colab": {},
    "colab_type": "code",
    "id": "b4iUFcY2Wq_G"
   },
   "outputs": [],
   "source": [
    "# A helper function to evaluate a model\n",
    "def get_metrics(model: tf.keras.models.Sequential,\n",
    "    test_data: tuple) -> (str, str):\n",
    "    (X_test, y_test) = test_data\n",
    "    metrics = model.evaluate(X_test, y_test, verbose=None)\n",
    "    loss = '{}: {}'.format(model.metrics_names[0], metrics[0])\n",
    "    cat_accuracy = '{}: {}'.format(model.metrics_names[1], metrics[1])\n",
    "    return(loss, cat_accuracy)"
   ]
  },
  {
   "cell_type": "code",
   "execution_count": 24,
   "metadata": {
    "colab": {},
    "colab_type": "code",
    "id": "2WLMaTYo9cwl"
   },
   "outputs": [
    {
     "name": "stderr",
     "output_type": "stream",
     "text": [
      "Error generating diff: Command '['git', 'diff', '--submodule=diff', 'HEAD']' timed out after 5 seconds\n"
     ]
    }
   ],
   "source": [
    "# Define the callbacks\n",
    "callbacks = [ \n",
    "    ReduceLROnPlateau(),\n",
    "    EarlyStopping(patience=4), \n",
    "    ModelCheckpoint(filepath='checkpoints/model-{}.h5'.format(time.time()), save_best_only=True),\n",
    "    WandbCallback()\n",
    "]"
   ]
  },
  {
   "cell_type": "markdown",
   "metadata": {
    "colab_type": "text",
    "id": "Fs6tFVKnF8G8"
   },
   "source": [
    "## CNN-based model"
   ]
  },
  {
   "cell_type": "code",
   "execution_count": 27,
   "metadata": {
    "colab": {
     "base_uri": "https://localhost:8080/",
     "height": 411
    },
    "colab_type": "code",
    "id": "UR9ZLjFlVpo5",
    "outputId": "077c46b6-e106-4c8a-fdd9-93d5bde027c6"
   },
   "outputs": [
    {
     "name": "stdout",
     "output_type": "stream",
     "text": [
      "Train on 23536 samples, validate on 2616 samples\n",
      "Epoch 1/10\n",
      "WARNING:tensorflow:Method (on_train_batch_end) is slow compared to the batch update (3.502268). Check your callbacks.\n",
      "   32/23536 [..............................] - ETA: 1:19:44 - loss: 0.6901 - categorical_accuracy: 0.0312WARNING:tensorflow:Method (on_train_batch_end) is slow compared to the batch update (1.751158). Check your callbacks.\n",
      "23536/23536 [==============================] - 11s 451us/sample - loss: 0.1157 - categorical_accuracy: 0.5338 - val_loss: 0.0831 - val_categorical_accuracy: 0.6892\n",
      "Epoch 2/10\n",
      "23536/23536 [==============================] - 4s 168us/sample - loss: 0.0761 - categorical_accuracy: 0.6939 - val_loss: 0.0770 - val_categorical_accuracy: 0.6980\n",
      "Epoch 3/10\n",
      "23536/23536 [==============================] - 4s 166us/sample - loss: 0.0701 - categorical_accuracy: 0.7050 - val_loss: 0.0759 - val_categorical_accuracy: 0.7152\n",
      "Epoch 4/10\n",
      "23536/23536 [==============================] - 4s 164us/sample - loss: 0.0666 - categorical_accuracy: 0.7223 - val_loss: 0.0765 - val_categorical_accuracy: 0.6793\n",
      "Epoch 5/10\n",
      "23536/23536 [==============================] - 4s 165us/sample - loss: 0.0639 - categorical_accuracy: 0.7257 - val_loss: 0.0769 - val_categorical_accuracy: 0.6999\n",
      "Epoch 6/10\n",
      "23536/23536 [==============================] - 4s 164us/sample - loss: 0.0613 - categorical_accuracy: 0.7397 - val_loss: 0.0763 - val_categorical_accuracy: 0.6976\n",
      "Epoch 7/10\n",
      "23536/23536 [==============================] - 4s 164us/sample - loss: 0.0589 - categorical_accuracy: 0.7465 - val_loss: 0.0773 - val_categorical_accuracy: 0.6953\n",
      "It took 34.05574989318848 seconds\n"
     ]
    }
   ],
   "source": [
    "cnn_model = get_a_cnn_model(config)\n",
    "(history, time_message) = train_model(cnn_model, config, callbacks=callbacks)\n",
    "print(time_message)"
   ]
  },
  {
   "cell_type": "code",
   "execution_count": 28,
   "metadata": {
    "colab": {
     "base_uri": "https://localhost:8080/",
     "height": 51
    },
    "colab_type": "code",
    "id": "ftRKPT22WenY",
    "outputId": "da9bfb60-bf1f-4a5c-db37-c9857f2a4c3d"
   },
   "outputs": [
    {
     "name": "stdout",
     "output_type": "stream",
     "text": [
      "loss: 0.07772368787306097\n",
      "categorical_accuracy: 0.6725298166275024\n"
     ]
    }
   ],
   "source": [
    "(loss, categorical_accuracy) = get_metrics(cnn_model, (test_features, y_test_binarized))\n",
    "print(loss)\n",
    "print(categorical_accuracy)"
   ]
  },
  {
   "cell_type": "markdown",
   "metadata": {
    "colab_type": "text",
    "id": "ywq6qDOSp8Ma"
   },
   "source": [
    "## Inference"
   ]
  },
  {
   "cell_type": "code",
   "execution_count": 25,
   "metadata": {
    "colab": {},
    "colab_type": "code",
    "id": "hQM2-wVMiW1f"
   },
   "outputs": [],
   "source": [
    "def generate_predictions(model:tf.keras.models.Sequential, article_title: str) -> list:\n",
    "    labels = []\n",
    "    \n",
    "    title = np.array([article_title])\n",
    "    cleaned_title = clean_title(title)\n",
    "    tokenized = get_features(cleaned_title)\n",
    "    \n",
    "    probabilities = model.predict(tokenized)\n",
    "    \n",
    "    probabilities = probabilities.reshape(32,)\n",
    "    idxs = np.argsort(probabilities)[::-1][:2]\n",
    "    \n",
    "    for (i, j) in enumerate(idxs):\n",
    "        label = \"{}: {:.2f}%\".format(mlb.classes_[j], probabilities[j] * 100)\n",
    "        labels.append(label)\n",
    "        \n",
    "    return (labels)"
   ]
  },
  {
   "cell_type": "code",
   "execution_count": 30,
   "metadata": {
    "colab": {
     "base_uri": "https://localhost:8080/",
     "height": 34
    },
    "colab_type": "code",
    "id": "s91BjN3Din2F",
    "outputId": "41191fa2-9534-46fb-8249-40d836af34bc"
   },
   "outputs": [
    {
     "name": "stdout",
     "output_type": "stream",
     "text": [
      "['cs.LG: 89.45%', 'stat.ML: 88.87%']\n"
     ]
    }
   ],
   "source": [
    "print(generate_predictions(cnn_model, 'On the Variance of the Adaptive Learning Rate and Beyond'))"
   ]
  },
  {
   "cell_type": "markdown",
   "metadata": {},
   "source": [
    "![](https://i.ibb.co/rZJ0CvN/Screen-Shot-2019-10-31-at-3-01-26-PM.png)"
   ]
  },
  {
   "cell_type": "code",
   "execution_count": 31,
   "metadata": {},
   "outputs": [
    {
     "name": "stdout",
     "output_type": "stream",
     "text": [
      "['cs.CL: 95.96%', 'cs.LG: 37.99%']\n"
     ]
    }
   ],
   "source": [
    "print(generate_predictions(cnn_model, \n",
    "        'BERT: Pre-training of Deep Bidirectional Transformers for Language Understanding'))"
   ]
  },
  {
   "cell_type": "markdown",
   "metadata": {},
   "source": [
    "![](https://i.ibb.co/0JJvSBc/Screen-Shot-2019-10-31-at-3-05-05-PM.png)"
   ]
  },
  {
   "cell_type": "code",
   "execution_count": 32,
   "metadata": {},
   "outputs": [
    {
     "name": "stdout",
     "output_type": "stream",
     "text": [
      "['cs.CL: 98.14%', 'cs.AI: 8.60%']\n"
     ]
    }
   ],
   "source": [
    "print(generate_predictions(cnn_model, \n",
    "        'MultiFiT: Efficient Multi-lingual Language Model Fine-tuning'))"
   ]
  },
  {
   "cell_type": "markdown",
   "metadata": {},
   "source": [
    "![](https://i.ibb.co/1QdcwZj/Screen-Shot-2019-10-31-at-3-09-10-PM.png)"
   ]
  },
  {
   "cell_type": "markdown",
   "metadata": {},
   "source": [
    "To be able to figure out why the model is giving out additional/erroneous tags in some cases, we can look into the embeddings it is learning and how they correspond to the respective labels. \n",
    "\n",
    "Let's now try out other models. "
   ]
  },
  {
   "cell_type": "markdown",
   "metadata": {
    "colab_type": "text",
    "id": "7ZBz-TO2F_nx"
   },
   "source": [
    "## GRU"
   ]
  },
  {
   "cell_type": "code",
   "execution_count": 34,
   "metadata": {},
   "outputs": [
    {
     "data": {
      "text/html": [
       "\n",
       "                Logging results to <a href=\"https://wandb.com\" target=\"_blank\">Weights & Biases</a>.<br/>\n",
       "                Project page: <a href=\"https://app.wandb.ai/sayakpaul/arxiv-project-complex-models\" target=\"_blank\">https://app.wandb.ai/sayakpaul/arxiv-project-complex-models</a><br/>\n",
       "                Run page: <a href=\"https://app.wandb.ai/sayakpaul/arxiv-project-complex-models/runs/5s4frgam\" target=\"_blank\">https://app.wandb.ai/sayakpaul/arxiv-project-complex-models/runs/5s4frgam</a><br/>\n",
       "                Docs: <a href=\"https://docs.wandb.com/integrations/jupyter.html\" target=\"_blank\">https://docs.wandb.com/integrations/jupyter.html</a><br/>\n",
       "            "
      ],
      "text/plain": [
       "<IPython.core.display.HTML object>"
      ]
     },
     "metadata": {},
     "output_type": "display_data"
    }
   ],
   "source": [
    "config = init_wandb(\"gru_non_bi\")\n",
    "config = init_hyperparams(config)"
   ]
  },
  {
   "cell_type": "code",
   "execution_count": 35,
   "metadata": {
    "colab": {
     "base_uri": "https://localhost:8080/",
     "height": 462
    },
    "colab_type": "code",
    "id": "B0Fpxv3wEhWp",
    "outputId": "9328e127-7435-4a73-a9eb-20b253d90c64"
   },
   "outputs": [
    {
     "name": "stdout",
     "output_type": "stream",
     "text": [
      "Train on 23536 samples, validate on 2616 samples\n",
      "Epoch 1/10\n",
      "23536/23536 [==============================] - 268s 11ms/sample - loss: 0.2395 - categorical_accuracy: 0.3259 - val_loss: 0.1316 - val_categorical_accuracy: 0.3505\n",
      "Epoch 2/10\n",
      "23536/23536 [==============================] - 263s 11ms/sample - loss: 0.1240 - categorical_accuracy: 0.3509 - val_loss: 0.1245 - val_categorical_accuracy: 0.3505\n",
      "Epoch 3/10\n",
      "23536/23536 [==============================] - 265s 11ms/sample - loss: 0.1209 - categorical_accuracy: 0.3509 - val_loss: 0.1235 - val_categorical_accuracy: 0.3505\n",
      "Epoch 4/10\n",
      "23536/23536 [==============================] - 270s 11ms/sample - loss: 0.1203 - categorical_accuracy: 0.3509 - val_loss: 0.1234 - val_categorical_accuracy: 0.3505\n",
      "Epoch 5/10\n",
      "23536/23536 [==============================] - 267s 11ms/sample - loss: 0.1202 - categorical_accuracy: 0.3509 - val_loss: 0.1234 - val_categorical_accuracy: 0.3505\n",
      "Epoch 6/10\n",
      "23536/23536 [==============================] - 262s 11ms/sample - loss: 0.1201 - categorical_accuracy: 0.3509 - val_loss: 0.1233 - val_categorical_accuracy: 0.3505\n",
      "Epoch 7/10\n",
      "23536/23536 [==============================] - 262s 11ms/sample - loss: 0.1198 - categorical_accuracy: 0.3525 - val_loss: 0.1212 - val_categorical_accuracy: 0.3727\n",
      "Epoch 8/10\n",
      "23536/23536 [==============================] - 262s 11ms/sample - loss: 0.1149 - categorical_accuracy: 0.4367 - val_loss: 0.1157 - val_categorical_accuracy: 0.4637\n",
      "Epoch 9/10\n",
      "23536/23536 [==============================] - 262s 11ms/sample - loss: 0.1095 - categorical_accuracy: 0.5008 - val_loss: 0.1116 - val_categorical_accuracy: 0.5130\n",
      "Epoch 10/10\n",
      "23536/23536 [==============================] - 262s 11ms/sample - loss: 0.1047 - categorical_accuracy: 0.5526 - val_loss: 0.1069 - val_categorical_accuracy: 0.5787\n",
      "It took 2644.3739354610443 seconds\n"
     ]
    }
   ],
   "source": [
    "gru_model = get_a_sequential_model(sequential_layer=GRU, bidirectional=False, config=config)\n",
    "(history, time_message) = train_model(gru_model, config, callbacks=callbacks)\n",
    "print(time_message)"
   ]
  },
  {
   "cell_type": "code",
   "execution_count": 36,
   "metadata": {
    "colab": {
     "base_uri": "https://localhost:8080/",
     "height": 51
    },
    "colab_type": "code",
    "id": "dEeUTvsJ5Dn9",
    "outputId": "349808c8-fa9a-4ced-b16d-edbf4ba62eea"
   },
   "outputs": [
    {
     "name": "stdout",
     "output_type": "stream",
     "text": [
      "loss: 0.1043574939849144\n",
      "categorical_accuracy: 0.5711226463317871\n"
     ]
    }
   ],
   "source": [
    "(loss, categorical_accuracy) = get_metrics(gru_model, (test_features, y_test_binarized))\n",
    "print(loss)\n",
    "print(categorical_accuracy)"
   ]
  },
  {
   "cell_type": "code",
   "execution_count": 37,
   "metadata": {
    "colab": {
     "base_uri": "https://localhost:8080/",
     "height": 34
    },
    "colab_type": "code",
    "id": "wlx_vZOQ54zG",
    "outputId": "202c96b7-a62a-46e1-e3cf-3801e805d12e"
   },
   "outputs": [
    {
     "name": "stdout",
     "output_type": "stream",
     "text": [
      "['cs.CL: 34.72%', 'cs.AI: 30.27%']\n"
     ]
    }
   ],
   "source": [
    "print(generate_predictions(gru_model, 'BERT: Pre-training of Deep Bidirectional Transformers for Language Understanding'))"
   ]
  },
  {
   "cell_type": "markdown",
   "metadata": {},
   "source": [
    "## LSTM"
   ]
  },
  {
   "cell_type": "code",
   "execution_count": 26,
   "metadata": {},
   "outputs": [
    {
     "data": {
      "text/html": [
       "\n",
       "                Logging results to <a href=\"https://wandb.com\" target=\"_blank\">Weights & Biases</a>.<br/>\n",
       "                Project page: <a href=\"https://app.wandb.ai/sayakpaul/arxiv-project-complex-models\" target=\"_blank\">https://app.wandb.ai/sayakpaul/arxiv-project-complex-models</a><br/>\n",
       "                Run page: <a href=\"https://app.wandb.ai/sayakpaul/arxiv-project-complex-models/runs/6t93vdp7\" target=\"_blank\">https://app.wandb.ai/sayakpaul/arxiv-project-complex-models/runs/6t93vdp7</a><br/>\n",
       "                Docs: <a href=\"https://docs.wandb.com/integrations/jupyter.html\" target=\"_blank\">https://docs.wandb.com/integrations/jupyter.html</a><br/>\n",
       "            "
      ],
      "text/plain": [
       "<IPython.core.display.HTML object>"
      ]
     },
     "metadata": {},
     "output_type": "display_data"
    },
    {
     "name": "stderr",
     "output_type": "stream",
     "text": [
      "Error generating diff: Command '['git', 'diff', '--submodule=diff', 'HEAD']' timed out after 5 seconds\n"
     ]
    }
   ],
   "source": [
    "config = init_wandb(\"bi_lstm\")\n",
    "config = init_hyperparams(config)"
   ]
  },
  {
   "cell_type": "code",
   "execution_count": 27,
   "metadata": {},
   "outputs": [
    {
     "name": "stdout",
     "output_type": "stream",
     "text": [
      "Train on 23536 samples, validate on 2616 samples\n",
      "Epoch 1/10\n"
     ]
    },
    {
     "name": "stderr",
     "output_type": "stream",
     "text": [
      "Error generating diff: Command '['git', 'diff', '--submodule=diff', 'HEAD']' timed out after 5 seconds\n"
     ]
    },
    {
     "name": "stdout",
     "output_type": "stream",
     "text": [
      "WARNING:tensorflow:Method (on_train_batch_end) is slow compared to the batch update (5.866280). Check your callbacks.\n",
      "   32/23536 [..............................] - ETA: 1:57:45 - loss: 0.7337 - categorical_accuracy: 0.0000e+00WARNING:tensorflow:Method (on_train_batch_end) is slow compared to the batch update (2.933163). Check your callbacks.\n",
      "23536/23536 [==============================] - 364s 15ms/sample - loss: 0.2004 - categorical_accuracy: 0.2887 - val_loss: 0.1247 - val_categorical_accuracy: 0.3505\n",
      "Epoch 2/10\n",
      "23536/23536 [==============================] - 355s 15ms/sample - loss: 0.1207 - categorical_accuracy: 0.3509 - val_loss: 0.1234 - val_categorical_accuracy: 0.3505\n",
      "Epoch 3/10\n",
      "23536/23536 [==============================] - 354s 15ms/sample - loss: 0.1194 - categorical_accuracy: 0.3552 - val_loss: 0.1207 - val_categorical_accuracy: 0.3949\n",
      "Epoch 4/10\n",
      "23536/23536 [==============================] - 354s 15ms/sample - loss: 0.1134 - categorical_accuracy: 0.4533 - val_loss: 0.1121 - val_categorical_accuracy: 0.5023\n",
      "Epoch 5/10\n",
      "23536/23536 [==============================] - 353s 15ms/sample - loss: 0.1024 - categorical_accuracy: 0.5502 - val_loss: 0.1011 - val_categorical_accuracy: 0.5837\n",
      "Epoch 6/10\n",
      "23536/23536 [==============================] - 367s 16ms/sample - loss: 0.0914 - categorical_accuracy: 0.6374 - val_loss: 0.0925 - val_categorical_accuracy: 0.6541\n",
      "Epoch 7/10\n",
      "23536/23536 [==============================] - 361s 15ms/sample - loss: 0.0838 - categorical_accuracy: 0.6853 - val_loss: 0.0879 - val_categorical_accuracy: 0.6755\n",
      "Epoch 8/10\n",
      "23536/23536 [==============================] - 355s 15ms/sample - loss: 0.0790 - categorical_accuracy: 0.7109 - val_loss: 0.0856 - val_categorical_accuracy: 0.6911\n",
      "Epoch 9/10\n",
      "23536/23536 [==============================] - 355s 15ms/sample - loss: 0.0757 - categorical_accuracy: 0.7234 - val_loss: 0.0842 - val_categorical_accuracy: 0.6950\n",
      "Epoch 10/10\n",
      "23536/23536 [==============================] - 354s 15ms/sample - loss: 0.0733 - categorical_accuracy: 0.7315 - val_loss: 0.0837 - val_categorical_accuracy: 0.6961\n",
      "It took 3572.7758617401123 seconds\n"
     ]
    }
   ],
   "source": [
    "bi_lstm_model = get_a_sequential_model(sequential_layer=LSTM, bidirectional=True, config=config)\n",
    "(history, time_message) = train_model(bi_lstm_model, config, callbacks=callbacks)\n",
    "print(time_message)"
   ]
  },
  {
   "cell_type": "code",
   "execution_count": 28,
   "metadata": {},
   "outputs": [
    {
     "name": "stdout",
     "output_type": "stream",
     "text": [
      "loss: 0.08260532424797447\n",
      "categorical_accuracy: 0.6708473563194275\n"
     ]
    }
   ],
   "source": [
    "(loss, categorical_accuracy) = get_metrics(bi_lstm_model, (test_features, y_test_binarized))\n",
    "print(loss)\n",
    "print(categorical_accuracy)"
   ]
  },
  {
   "cell_type": "code",
   "execution_count": 29,
   "metadata": {},
   "outputs": [
    {
     "name": "stdout",
     "output_type": "stream",
     "text": [
      "['cs.CL: 84.36%', 'cs.AI: 10.34%']\n"
     ]
    }
   ],
   "source": [
    "print(generate_predictions(bi_lstm_model, 'BERT: Pre-training of Deep Bidirectional Transformers for Language Understanding'))"
   ]
  },
  {
   "cell_type": "markdown",
   "metadata": {
    "colab_type": "text",
    "id": "IJtjZ_z1p-7K"
   },
   "source": [
    "## Visualization of the embeddings (learned by the CNN-based model)"
   ]
  },
  {
   "cell_type": "code",
   "execution_count": null,
   "metadata": {
    "colab": {},
    "colab_type": "code",
    "id": "HFaI9-UlsEtk"
   },
   "outputs": [],
   "source": [
    "word_index = tokenizer.word_index\n",
    "reverse_word_index = dict([(value, key) for (key, value) in word_index.items()])"
   ]
  },
  {
   "cell_type": "code",
   "execution_count": null,
   "metadata": {
    "colab": {},
    "colab_type": "code",
    "id": "Qllo5dfMQsVH"
   },
   "outputs": [],
   "source": [
    "def serialize_embeddings(model:tf.keras.models.Sequential) -> str:\n",
    "    # Get the weights of the first layer (Embedding layer)\n",
    "    e = model.layers[0]\n",
    "    weights = e.get_weights()[0]\n",
    "    # Serialize the weights in .tsv format\n",
    "    out_v = io.open('vecs.tsv', 'w', encoding='utf-8')\n",
    "    out_m = io.open('meta.tsv', 'w', encoding='utf-8')\n",
    "    for word_num in range(1, config.max_words):\n",
    "        word = reverse_word_index[word_num]\n",
    "        embeddings = weights[word_num]\n",
    "        out_m.write(word + \"\\n\")\n",
    "        out_v.write('\\t'.join([str(x) for x in embeddings]) + \"\\n\")\n",
    "    out_v.close()\n",
    "    out_m.close()\n",
    "    return 'Embeddings have been serialized'"
   ]
  },
  {
   "cell_type": "code",
   "execution_count": null,
   "metadata": {
    "colab": {},
    "colab_type": "code",
    "id": "sjoiy2bdtXiK"
   },
   "outputs": [],
   "source": [
    "print(serialize_embeddings(cnn_model))"
   ]
  },
  {
   "cell_type": "markdown",
   "metadata": {
    "colab_type": "text",
    "id": "uMrfYpV-ygsu"
   },
   "source": [
    "Here's a screencast of the projection of the Embedding matrix: https://www.loom.com/share/88eaf892c02a4ba392b00ff376686e0d"
   ]
  }
 ],
 "metadata": {
  "accelerator": "GPU",
  "colab": {
   "collapsed_sections": [],
   "name": "Data_preprocessing_and_model_building (part II).ipynb",
   "provenance": []
  },
  "kernelspec": {
   "display_name": "Python 3",
   "language": "python",
   "name": "python3"
  },
  "language_info": {
   "codemirror_mode": {
    "name": "ipython",
    "version": 3
   },
   "file_extension": ".py",
   "mimetype": "text/x-python",
   "name": "python",
   "nbconvert_exporter": "python",
   "pygments_lexer": "ipython3",
   "version": "3.5.3"
  }
 },
 "nbformat": 4,
 "nbformat_minor": 4
}
